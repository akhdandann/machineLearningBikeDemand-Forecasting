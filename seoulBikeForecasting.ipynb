{
  "cells": [
    {
      "cell_type": "markdown",
      "metadata": {
        "id": "50AooviePuFw"
      },
      "source": [
        "# **Praproses**"
      ]
    },
    {
      "cell_type": "code",
      "execution_count": null,
      "metadata": {
        "id": "V242QR3srvdM"
      },
      "outputs": [],
      "source": [
        "import warnings\n",
        "warnings.filterwarnings('always')\n",
        "warnings.filterwarnings('ignore')\n",
        "import calendar\n",
        "import pandas as pd\n",
        "import seaborn as sns\n",
        "import matplotlib.pyplot as plt\n",
        "from matplotlib import pyplot\n",
        "import numpy as np\n",
        "from datetime import datetime\n",
        "from sklearn.linear_model import LinearRegression\n",
        "from sklearn.metrics import classification_report, confusion_matrix\n",
        "from sklearn.feature_selection import SelectKBest\n",
        "from sklearn.feature_selection import f_classif\n",
        "from sklearn.feature_selection import mutual_info_classif\n",
        "from sklearn import model_selection #Library untuk proses prediksi\n",
        "from sklearn.model_selection import KFold # Cross Validation\n",
        "from sklearn.model_selection import cross_val_score # Mengambil nilai hasil tes\n",
        "from sklearn.model_selection import cross_validate # Mengambil nilai hasil tes\n",
        "from sklearn.model_selection import train_test_split # Repeated Hold Out\n",
        "from sklearn.metrics import classification_report # Menampilkan hasil tes"
      ]
    },
    {
      "cell_type": "code",
      "execution_count": null,
      "metadata": {
        "colab": {
          "base_uri": "https://localhost:8080/"
        },
        "id": "DyI5Pjt46p9Z",
        "outputId": "7ecdbcbb-1274-4cc5-af13-9b5c6eecc018"
      },
      "outputs": [
        {
          "name": "stdout",
          "output_type": "stream",
          "text": [
            "Collecting catboost\n",
            "\u001b[?25l  Downloading https://files.pythonhosted.org/packages/5a/41/24e14322b9986cf72a8763e0a0a69cc256cf963cf9502c8f0044a62c1ae8/catboost-0.26-cp37-none-manylinux1_x86_64.whl (69.2MB)\n",
            "\u001b[K     |████████████████████████████████| 69.2MB 40kB/s \n",
            "\u001b[?25hRequirement already satisfied: matplotlib in /usr/local/lib/python3.7/dist-packages (from catboost) (3.2.2)\n",
            "Requirement already satisfied: plotly in /usr/local/lib/python3.7/dist-packages (from catboost) (4.4.1)\n",
            "Requirement already satisfied: numpy>=1.16.0 in /usr/local/lib/python3.7/dist-packages (from catboost) (1.19.5)\n",
            "Requirement already satisfied: pandas>=0.24.0 in /usr/local/lib/python3.7/dist-packages (from catboost) (1.1.5)\n",
            "Requirement already satisfied: graphviz in /usr/local/lib/python3.7/dist-packages (from catboost) (0.10.1)\n",
            "Requirement already satisfied: six in /usr/local/lib/python3.7/dist-packages (from catboost) (1.15.0)\n",
            "Requirement already satisfied: scipy in /usr/local/lib/python3.7/dist-packages (from catboost) (1.4.1)\n",
            "Requirement already satisfied: python-dateutil>=2.1 in /usr/local/lib/python3.7/dist-packages (from matplotlib->catboost) (2.8.1)\n",
            "Requirement already satisfied: pyparsing!=2.0.4,!=2.1.2,!=2.1.6,>=2.0.1 in /usr/local/lib/python3.7/dist-packages (from matplotlib->catboost) (2.4.7)\n",
            "Requirement already satisfied: kiwisolver>=1.0.1 in /usr/local/lib/python3.7/dist-packages (from matplotlib->catboost) (1.3.1)\n",
            "Requirement already satisfied: cycler>=0.10 in /usr/local/lib/python3.7/dist-packages (from matplotlib->catboost) (0.10.0)\n",
            "Requirement already satisfied: retrying>=1.3.3 in /usr/local/lib/python3.7/dist-packages (from plotly->catboost) (1.3.3)\n",
            "Requirement already satisfied: pytz>=2017.2 in /usr/local/lib/python3.7/dist-packages (from pandas>=0.24.0->catboost) (2018.9)\n",
            "Installing collected packages: catboost\n",
            "Successfully installed catboost-0.26\n"
          ]
        }
      ],
      "source": [
        "!pip install catboost"
      ]
    },
    {
      "cell_type": "code",
      "execution_count": null,
      "metadata": {
        "colab": {
          "base_uri": "https://localhost:8080/",
          "height": 56,
          "resources": {
            "http://localhost:8080/nbextensions/google.colab/files.js": {
              "data": "Ly8gQ29weXJpZ2h0IDIwMTcgR29vZ2xlIExMQwovLwovLyBMaWNlbnNlZCB1bmRlciB0aGUgQXBhY2hlIExpY2Vuc2UsIFZlcnNpb24gMi4wICh0aGUgIkxpY2Vuc2UiKTsKLy8geW91IG1heSBub3QgdXNlIHRoaXMgZmlsZSBleGNlcHQgaW4gY29tcGxpYW5jZSB3aXRoIHRoZSBMaWNlbnNlLgovLyBZb3UgbWF5IG9idGFpbiBhIGNvcHkgb2YgdGhlIExpY2Vuc2UgYXQKLy8KLy8gICAgICBodHRwOi8vd3d3LmFwYWNoZS5vcmcvbGljZW5zZXMvTElDRU5TRS0yLjAKLy8KLy8gVW5sZXNzIHJlcXVpcmVkIGJ5IGFwcGxpY2FibGUgbGF3IG9yIGFncmVlZCB0byBpbiB3cml0aW5nLCBzb2Z0d2FyZQovLyBkaXN0cmlidXRlZCB1bmRlciB0aGUgTGljZW5zZSBpcyBkaXN0cmlidXRlZCBvbiBhbiAiQVMgSVMiIEJBU0lTLAovLyBXSVRIT1VUIFdBUlJBTlRJRVMgT1IgQ09ORElUSU9OUyBPRiBBTlkgS0lORCwgZWl0aGVyIGV4cHJlc3Mgb3IgaW1wbGllZC4KLy8gU2VlIHRoZSBMaWNlbnNlIGZvciB0aGUgc3BlY2lmaWMgbGFuZ3VhZ2UgZ292ZXJuaW5nIHBlcm1pc3Npb25zIGFuZAovLyBsaW1pdGF0aW9ucyB1bmRlciB0aGUgTGljZW5zZS4KCi8qKgogKiBAZmlsZW92ZXJ2aWV3IEhlbHBlcnMgZm9yIGdvb2dsZS5jb2xhYiBQeXRob24gbW9kdWxlLgogKi8KKGZ1bmN0aW9uKHNjb3BlKSB7CmZ1bmN0aW9uIHNwYW4odGV4dCwgc3R5bGVBdHRyaWJ1dGVzID0ge30pIHsKICBjb25zdCBlbGVtZW50ID0gZG9jdW1lbnQuY3JlYXRlRWxlbWVudCgnc3BhbicpOwogIGVsZW1lbnQudGV4dENvbnRlbnQgPSB0ZXh0OwogIGZvciAoY29uc3Qga2V5IG9mIE9iamVjdC5rZXlzKHN0eWxlQXR0cmlidXRlcykpIHsKICAgIGVsZW1lbnQuc3R5bGVba2V5XSA9IHN0eWxlQXR0cmlidXRlc1trZXldOwogIH0KICByZXR1cm4gZWxlbWVudDsKfQoKLy8gTWF4IG51bWJlciBvZiBieXRlcyB3aGljaCB3aWxsIGJlIHVwbG9hZGVkIGF0IGEgdGltZS4KY29uc3QgTUFYX1BBWUxPQURfU0laRSA9IDEwMCAqIDEwMjQ7CgpmdW5jdGlvbiBfdXBsb2FkRmlsZXMoaW5wdXRJZCwgb3V0cHV0SWQpIHsKICBjb25zdCBzdGVwcyA9IHVwbG9hZEZpbGVzU3RlcChpbnB1dElkLCBvdXRwdXRJZCk7CiAgY29uc3Qgb3V0cHV0RWxlbWVudCA9IGRvY3VtZW50LmdldEVsZW1lbnRCeUlkKG91dHB1dElkKTsKICAvLyBDYWNoZSBzdGVwcyBvbiB0aGUgb3V0cHV0RWxlbWVudCB0byBtYWtlIGl0IGF2YWlsYWJsZSBmb3IgdGhlIG5leHQgY2FsbAogIC8vIHRvIHVwbG9hZEZpbGVzQ29udGludWUgZnJvbSBQeXRob24uCiAgb3V0cHV0RWxlbWVudC5zdGVwcyA9IHN0ZXBzOwoKICByZXR1cm4gX3VwbG9hZEZpbGVzQ29udGludWUob3V0cHV0SWQpOwp9CgovLyBUaGlzIGlzIHJvdWdobHkgYW4gYXN5bmMgZ2VuZXJhdG9yIChub3Qgc3VwcG9ydGVkIGluIHRoZSBicm93c2VyIHlldCksCi8vIHdoZXJlIHRoZXJlIGFyZSBtdWx0aXBsZSBhc3luY2hyb25vdXMgc3RlcHMgYW5kIHRoZSBQeXRob24gc2lkZSBpcyBnb2luZwovLyB0byBwb2xsIGZvciBjb21wbGV0aW9uIG9mIGVhY2ggc3RlcC4KLy8gVGhpcyB1c2VzIGEgUHJvbWlzZSB0byBibG9jayB0aGUgcHl0aG9uIHNpZGUgb24gY29tcGxldGlvbiBvZiBlYWNoIHN0ZXAsCi8vIHRoZW4gcGFzc2VzIHRoZSByZXN1bHQgb2YgdGhlIHByZXZpb3VzIHN0ZXAgYXMgdGhlIGlucHV0IHRvIHRoZSBuZXh0IHN0ZXAuCmZ1bmN0aW9uIF91cGxvYWRGaWxlc0NvbnRpbnVlKG91dHB1dElkKSB7CiAgY29uc3Qgb3V0cHV0RWxlbWVudCA9IGRvY3VtZW50LmdldEVsZW1lbnRCeUlkKG91dHB1dElkKTsKICBjb25zdCBzdGVwcyA9IG91dHB1dEVsZW1lbnQuc3RlcHM7CgogIGNvbnN0IG5leHQgPSBzdGVwcy5uZXh0KG91dHB1dEVsZW1lbnQubGFzdFByb21pc2VWYWx1ZSk7CiAgcmV0dXJuIFByb21pc2UucmVzb2x2ZShuZXh0LnZhbHVlLnByb21pc2UpLnRoZW4oKHZhbHVlKSA9PiB7CiAgICAvLyBDYWNoZSB0aGUgbGFzdCBwcm9taXNlIHZhbHVlIHRvIG1ha2UgaXQgYXZhaWxhYmxlIHRvIHRoZSBuZXh0CiAgICAvLyBzdGVwIG9mIHRoZSBnZW5lcmF0b3IuCiAgICBvdXRwdXRFbGVtZW50Lmxhc3RQcm9taXNlVmFsdWUgPSB2YWx1ZTsKICAgIHJldHVybiBuZXh0LnZhbHVlLnJlc3BvbnNlOwogIH0pOwp9CgovKioKICogR2VuZXJhdG9yIGZ1bmN0aW9uIHdoaWNoIGlzIGNhbGxlZCBiZXR3ZWVuIGVhY2ggYXN5bmMgc3RlcCBvZiB0aGUgdXBsb2FkCiAqIHByb2Nlc3MuCiAqIEBwYXJhbSB7c3RyaW5nfSBpbnB1dElkIEVsZW1lbnQgSUQgb2YgdGhlIGlucHV0IGZpbGUgcGlja2VyIGVsZW1lbnQuCiAqIEBwYXJhbSB7c3RyaW5nfSBvdXRwdXRJZCBFbGVtZW50IElEIG9mIHRoZSBvdXRwdXQgZGlzcGxheS4KICogQHJldHVybiB7IUl0ZXJhYmxlPCFPYmplY3Q+fSBJdGVyYWJsZSBvZiBuZXh0IHN0ZXBzLgogKi8KZnVuY3Rpb24qIHVwbG9hZEZpbGVzU3RlcChpbnB1dElkLCBvdXRwdXRJZCkgewogIGNvbnN0IGlucHV0RWxlbWVudCA9IGRvY3VtZW50LmdldEVsZW1lbnRCeUlkKGlucHV0SWQpOwogIGlucHV0RWxlbWVudC5kaXNhYmxlZCA9IGZhbHNlOwoKICBjb25zdCBvdXRwdXRFbGVtZW50ID0gZG9jdW1lbnQuZ2V0RWxlbWVudEJ5SWQob3V0cHV0SWQpOwogIG91dHB1dEVsZW1lbnQuaW5uZXJIVE1MID0gJyc7CgogIGNvbnN0IHBpY2tlZFByb21pc2UgPSBuZXcgUHJvbWlzZSgocmVzb2x2ZSkgPT4gewogICAgaW5wdXRFbGVtZW50LmFkZEV2ZW50TGlzdGVuZXIoJ2NoYW5nZScsIChlKSA9PiB7CiAgICAgIHJlc29sdmUoZS50YXJnZXQuZmlsZXMpOwogICAgfSk7CiAgfSk7CgogIGNvbnN0IGNhbmNlbCA9IGRvY3VtZW50LmNyZWF0ZUVsZW1lbnQoJ2J1dHRvbicpOwogIGlucHV0RWxlbWVudC5wYXJlbnRFbGVtZW50LmFwcGVuZENoaWxkKGNhbmNlbCk7CiAgY2FuY2VsLnRleHRDb250ZW50ID0gJ0NhbmNlbCB1cGxvYWQnOwogIGNvbnN0IGNhbmNlbFByb21pc2UgPSBuZXcgUHJvbWlzZSgocmVzb2x2ZSkgPT4gewogICAgY2FuY2VsLm9uY2xpY2sgPSAoKSA9PiB7CiAgICAgIHJlc29sdmUobnVsbCk7CiAgICB9OwogIH0pOwoKICAvLyBXYWl0IGZvciB0aGUgdXNlciB0byBwaWNrIHRoZSBmaWxlcy4KICBjb25zdCBmaWxlcyA9IHlpZWxkIHsKICAgIHByb21pc2U6IFByb21pc2UucmFjZShbcGlja2VkUHJvbWlzZSwgY2FuY2VsUHJvbWlzZV0pLAogICAgcmVzcG9uc2U6IHsKICAgICAgYWN0aW9uOiAnc3RhcnRpbmcnLAogICAgfQogIH07CgogIGNhbmNlbC5yZW1vdmUoKTsKCiAgLy8gRGlzYWJsZSB0aGUgaW5wdXQgZWxlbWVudCBzaW5jZSBmdXJ0aGVyIHBpY2tzIGFyZSBub3QgYWxsb3dlZC4KICBpbnB1dEVsZW1lbnQuZGlzYWJsZWQgPSB0cnVlOwoKICBpZiAoIWZpbGVzKSB7CiAgICByZXR1cm4gewogICAgICByZXNwb25zZTogewogICAgICAgIGFjdGlvbjogJ2NvbXBsZXRlJywKICAgICAgfQogICAgfTsKICB9CgogIGZvciAoY29uc3QgZmlsZSBvZiBmaWxlcykgewogICAgY29uc3QgbGkgPSBkb2N1bWVudC5jcmVhdGVFbGVtZW50KCdsaScpOwogICAgbGkuYXBwZW5kKHNwYW4oZmlsZS5uYW1lLCB7Zm9udFdlaWdodDogJ2JvbGQnfSkpOwogICAgbGkuYXBwZW5kKHNwYW4oCiAgICAgICAgYCgke2ZpbGUudHlwZSB8fCAnbi9hJ30pIC0gJHtmaWxlLnNpemV9IGJ5dGVzLCBgICsKICAgICAgICBgbGFzdCBtb2RpZmllZDogJHsKICAgICAgICAgICAgZmlsZS5sYXN0TW9kaWZpZWREYXRlID8gZmlsZS5sYXN0TW9kaWZpZWREYXRlLnRvTG9jYWxlRGF0ZVN0cmluZygpIDoKICAgICAgICAgICAgICAgICAgICAgICAgICAgICAgICAgICAgJ24vYSd9IC0gYCkpOwogICAgY29uc3QgcGVyY2VudCA9IHNwYW4oJzAlIGRvbmUnKTsKICAgIGxpLmFwcGVuZENoaWxkKHBlcmNlbnQpOwoKICAgIG91dHB1dEVsZW1lbnQuYXBwZW5kQ2hpbGQobGkpOwoKICAgIGNvbnN0IGZpbGVEYXRhUHJvbWlzZSA9IG5ldyBQcm9taXNlKChyZXNvbHZlKSA9PiB7CiAgICAgIGNvbnN0IHJlYWRlciA9IG5ldyBGaWxlUmVhZGVyKCk7CiAgICAgIHJlYWRlci5vbmxvYWQgPSAoZSkgPT4gewogICAgICAgIHJlc29sdmUoZS50YXJnZXQucmVzdWx0KTsKICAgICAgfTsKICAgICAgcmVhZGVyLnJlYWRBc0FycmF5QnVmZmVyKGZpbGUpOwogICAgfSk7CiAgICAvLyBXYWl0IGZvciB0aGUgZGF0YSB0byBiZSByZWFkeS4KICAgIGxldCBmaWxlRGF0YSA9IHlpZWxkIHsKICAgICAgcHJvbWlzZTogZmlsZURhdGFQcm9taXNlLAogICAgICByZXNwb25zZTogewogICAgICAgIGFjdGlvbjogJ2NvbnRpbnVlJywKICAgICAgfQogICAgfTsKCiAgICAvLyBVc2UgYSBjaHVua2VkIHNlbmRpbmcgdG8gYXZvaWQgbWVzc2FnZSBzaXplIGxpbWl0cy4gU2VlIGIvNjIxMTU2NjAuCiAgICBsZXQgcG9zaXRpb24gPSAwOwogICAgZG8gewogICAgICBjb25zdCBsZW5ndGggPSBNYXRoLm1pbihmaWxlRGF0YS5ieXRlTGVuZ3RoIC0gcG9zaXRpb24sIE1BWF9QQVlMT0FEX1NJWkUpOwogICAgICBjb25zdCBjaHVuayA9IG5ldyBVaW50OEFycmF5KGZpbGVEYXRhLCBwb3NpdGlvbiwgbGVuZ3RoKTsKICAgICAgcG9zaXRpb24gKz0gbGVuZ3RoOwoKICAgICAgY29uc3QgYmFzZTY0ID0gYnRvYShTdHJpbmcuZnJvbUNoYXJDb2RlLmFwcGx5KG51bGwsIGNodW5rKSk7CiAgICAgIHlpZWxkIHsKICAgICAgICByZXNwb25zZTogewogICAgICAgICAgYWN0aW9uOiAnYXBwZW5kJywKICAgICAgICAgIGZpbGU6IGZpbGUubmFtZSwKICAgICAgICAgIGRhdGE6IGJhc2U2NCwKICAgICAgICB9LAogICAgICB9OwoKICAgICAgbGV0IHBlcmNlbnREb25lID0gZmlsZURhdGEuYnl0ZUxlbmd0aCA9PT0gMCA/CiAgICAgICAgICAxMDAgOgogICAgICAgICAgTWF0aC5yb3VuZCgocG9zaXRpb24gLyBmaWxlRGF0YS5ieXRlTGVuZ3RoKSAqIDEwMCk7CiAgICAgIHBlcmNlbnQudGV4dENvbnRlbnQgPSBgJHtwZXJjZW50RG9uZX0lIGRvbmVgOwoKICAgIH0gd2hpbGUgKHBvc2l0aW9uIDwgZmlsZURhdGEuYnl0ZUxlbmd0aCk7CiAgfQoKICAvLyBBbGwgZG9uZS4KICB5aWVsZCB7CiAgICByZXNwb25zZTogewogICAgICBhY3Rpb246ICdjb21wbGV0ZScsCiAgICB9CiAgfTsKfQoKc2NvcGUuZ29vZ2xlID0gc2NvcGUuZ29vZ2xlIHx8IHt9OwpzY29wZS5nb29nbGUuY29sYWIgPSBzY29wZS5nb29nbGUuY29sYWIgfHwge307CnNjb3BlLmdvb2dsZS5jb2xhYi5fZmlsZXMgPSB7CiAgX3VwbG9hZEZpbGVzLAogIF91cGxvYWRGaWxlc0NvbnRpbnVlLAp9Owp9KShzZWxmKTsK",
              "headers": [
                [
                  "content-type",
                  "application/javascript"
                ]
              ],
              "ok": true,
              "status": 200,
              "status_text": ""
            }
          }
        },
        "id": "1TOKEKjxtOvP",
        "outputId": "ed63252e-850f-454e-9124-15a1049086f3"
      },
      "outputs": [
        {
          "data": {
            "text/html": [
              "\n",
              "     <input type=\"file\" id=\"files-b2bde871-b814-4e20-8689-0afa1adc70a8\" name=\"files[]\" multiple disabled\n",
              "        style=\"border:none\" />\n",
              "     <output id=\"result-b2bde871-b814-4e20-8689-0afa1adc70a8\">\n",
              "      Upload widget is only available when the cell has been executed in the\n",
              "      current browser session. Please rerun this cell to enable.\n",
              "      </output>\n",
              "      <script src=\"/nbextensions/google.colab/files.js\"></script> "
            ],
            "text/plain": [
              "<IPython.core.display.HTML object>"
            ]
          },
          "metadata": {
            "tags": []
          },
          "output_type": "display_data"
        },
        {
          "name": "stdout",
          "output_type": "stream",
          "text": [
            "Saving seoul.xlsx to seoul.xlsx\n"
          ]
        }
      ],
      "source": [
        "from google.colab import files\n",
        "uploaded = files.upload()"
      ]
    },
    {
      "cell_type": "code",
      "execution_count": null,
      "metadata": {
        "id": "Dq92G6Q9tqon"
      },
      "outputs": [],
      "source": [
        "import io\n",
        "data = pd.read_excel(io.BytesIO(uploaded['seoul.xlsx']))"
      ]
    },
    {
      "cell_type": "code",
      "execution_count": null,
      "metadata": {
        "colab": {
          "base_uri": "https://localhost:8080/",
          "height": 558
        },
        "id": "qPMea0YQun_s",
        "outputId": "1b382eec-3f9b-481a-e9a8-6bb814547759"
      },
      "outputs": [
        {
          "data": {
            "text/html": [
              "<div>\n",
              "<style scoped>\n",
              "    .dataframe tbody tr th:only-of-type {\n",
              "        vertical-align: middle;\n",
              "    }\n",
              "\n",
              "    .dataframe tbody tr th {\n",
              "        vertical-align: top;\n",
              "    }\n",
              "\n",
              "    .dataframe thead th {\n",
              "        text-align: right;\n",
              "    }\n",
              "</style>\n",
              "<table border=\"1\" class=\"dataframe\">\n",
              "  <thead>\n",
              "    <tr style=\"text-align: right;\">\n",
              "      <th></th>\n",
              "      <th>Date</th>\n",
              "      <th>Rented Bike Count</th>\n",
              "      <th>Hour</th>\n",
              "      <th>Temperature</th>\n",
              "      <th>Humidity</th>\n",
              "      <th>Wind speed</th>\n",
              "      <th>Visibility</th>\n",
              "      <th>Dew point temperature</th>\n",
              "      <th>Solar Radiation</th>\n",
              "      <th>Rainfall</th>\n",
              "      <th>Snowfall</th>\n",
              "      <th>Seasons</th>\n",
              "      <th>Holiday</th>\n",
              "      <th>Functioning Day</th>\n",
              "    </tr>\n",
              "  </thead>\n",
              "  <tbody>\n",
              "    <tr>\n",
              "      <th>0</th>\n",
              "      <td>2017-12-01</td>\n",
              "      <td>254</td>\n",
              "      <td>0</td>\n",
              "      <td>-5.2</td>\n",
              "      <td>37</td>\n",
              "      <td>2.2</td>\n",
              "      <td>2000</td>\n",
              "      <td>-17.6</td>\n",
              "      <td>0.00</td>\n",
              "      <td>0.0</td>\n",
              "      <td>0.0</td>\n",
              "      <td>Winter</td>\n",
              "      <td>No Holiday</td>\n",
              "      <td>Yes</td>\n",
              "    </tr>\n",
              "    <tr>\n",
              "      <th>1</th>\n",
              "      <td>2017-12-01</td>\n",
              "      <td>204</td>\n",
              "      <td>1</td>\n",
              "      <td>-5.5</td>\n",
              "      <td>38</td>\n",
              "      <td>0.8</td>\n",
              "      <td>2000</td>\n",
              "      <td>-17.6</td>\n",
              "      <td>0.00</td>\n",
              "      <td>0.0</td>\n",
              "      <td>0.0</td>\n",
              "      <td>Winter</td>\n",
              "      <td>No Holiday</td>\n",
              "      <td>Yes</td>\n",
              "    </tr>\n",
              "    <tr>\n",
              "      <th>2</th>\n",
              "      <td>2017-12-01</td>\n",
              "      <td>173</td>\n",
              "      <td>2</td>\n",
              "      <td>-6.0</td>\n",
              "      <td>39</td>\n",
              "      <td>1.0</td>\n",
              "      <td>2000</td>\n",
              "      <td>-17.7</td>\n",
              "      <td>0.00</td>\n",
              "      <td>0.0</td>\n",
              "      <td>0.0</td>\n",
              "      <td>Winter</td>\n",
              "      <td>No Holiday</td>\n",
              "      <td>Yes</td>\n",
              "    </tr>\n",
              "    <tr>\n",
              "      <th>3</th>\n",
              "      <td>2017-12-01</td>\n",
              "      <td>107</td>\n",
              "      <td>3</td>\n",
              "      <td>-6.2</td>\n",
              "      <td>40</td>\n",
              "      <td>0.9</td>\n",
              "      <td>2000</td>\n",
              "      <td>-17.6</td>\n",
              "      <td>0.00</td>\n",
              "      <td>0.0</td>\n",
              "      <td>0.0</td>\n",
              "      <td>Winter</td>\n",
              "      <td>No Holiday</td>\n",
              "      <td>Yes</td>\n",
              "    </tr>\n",
              "    <tr>\n",
              "      <th>4</th>\n",
              "      <td>2017-12-01</td>\n",
              "      <td>78</td>\n",
              "      <td>4</td>\n",
              "      <td>-6.0</td>\n",
              "      <td>36</td>\n",
              "      <td>2.3</td>\n",
              "      <td>2000</td>\n",
              "      <td>-18.6</td>\n",
              "      <td>0.00</td>\n",
              "      <td>0.0</td>\n",
              "      <td>0.0</td>\n",
              "      <td>Winter</td>\n",
              "      <td>No Holiday</td>\n",
              "      <td>Yes</td>\n",
              "    </tr>\n",
              "    <tr>\n",
              "      <th>5</th>\n",
              "      <td>2017-12-01</td>\n",
              "      <td>100</td>\n",
              "      <td>5</td>\n",
              "      <td>-6.4</td>\n",
              "      <td>37</td>\n",
              "      <td>1.5</td>\n",
              "      <td>2000</td>\n",
              "      <td>-18.7</td>\n",
              "      <td>0.00</td>\n",
              "      <td>0.0</td>\n",
              "      <td>0.0</td>\n",
              "      <td>Winter</td>\n",
              "      <td>No Holiday</td>\n",
              "      <td>Yes</td>\n",
              "    </tr>\n",
              "    <tr>\n",
              "      <th>6</th>\n",
              "      <td>2017-12-01</td>\n",
              "      <td>181</td>\n",
              "      <td>6</td>\n",
              "      <td>-6.6</td>\n",
              "      <td>35</td>\n",
              "      <td>1.3</td>\n",
              "      <td>2000</td>\n",
              "      <td>-19.5</td>\n",
              "      <td>0.00</td>\n",
              "      <td>0.0</td>\n",
              "      <td>0.0</td>\n",
              "      <td>Winter</td>\n",
              "      <td>No Holiday</td>\n",
              "      <td>Yes</td>\n",
              "    </tr>\n",
              "    <tr>\n",
              "      <th>7</th>\n",
              "      <td>2017-12-01</td>\n",
              "      <td>460</td>\n",
              "      <td>7</td>\n",
              "      <td>-7.4</td>\n",
              "      <td>38</td>\n",
              "      <td>0.9</td>\n",
              "      <td>2000</td>\n",
              "      <td>-19.3</td>\n",
              "      <td>0.00</td>\n",
              "      <td>0.0</td>\n",
              "      <td>0.0</td>\n",
              "      <td>Winter</td>\n",
              "      <td>No Holiday</td>\n",
              "      <td>Yes</td>\n",
              "    </tr>\n",
              "    <tr>\n",
              "      <th>8</th>\n",
              "      <td>2017-12-01</td>\n",
              "      <td>930</td>\n",
              "      <td>8</td>\n",
              "      <td>-7.6</td>\n",
              "      <td>37</td>\n",
              "      <td>1.1</td>\n",
              "      <td>2000</td>\n",
              "      <td>-19.8</td>\n",
              "      <td>0.01</td>\n",
              "      <td>0.0</td>\n",
              "      <td>0.0</td>\n",
              "      <td>Winter</td>\n",
              "      <td>No Holiday</td>\n",
              "      <td>Yes</td>\n",
              "    </tr>\n",
              "    <tr>\n",
              "      <th>9</th>\n",
              "      <td>2017-12-01</td>\n",
              "      <td>490</td>\n",
              "      <td>9</td>\n",
              "      <td>-6.5</td>\n",
              "      <td>27</td>\n",
              "      <td>0.5</td>\n",
              "      <td>1928</td>\n",
              "      <td>-22.4</td>\n",
              "      <td>0.23</td>\n",
              "      <td>0.0</td>\n",
              "      <td>0.0</td>\n",
              "      <td>Winter</td>\n",
              "      <td>No Holiday</td>\n",
              "      <td>Yes</td>\n",
              "    </tr>\n",
              "  </tbody>\n",
              "</table>\n",
              "</div>"
            ],
            "text/plain": [
              "        Date  Rented Bike Count  Hour  ...  Seasons     Holiday  Functioning Day\n",
              "0 2017-12-01                254     0  ...   Winter  No Holiday              Yes\n",
              "1 2017-12-01                204     1  ...   Winter  No Holiday              Yes\n",
              "2 2017-12-01                173     2  ...   Winter  No Holiday              Yes\n",
              "3 2017-12-01                107     3  ...   Winter  No Holiday              Yes\n",
              "4 2017-12-01                 78     4  ...   Winter  No Holiday              Yes\n",
              "5 2017-12-01                100     5  ...   Winter  No Holiday              Yes\n",
              "6 2017-12-01                181     6  ...   Winter  No Holiday              Yes\n",
              "7 2017-12-01                460     7  ...   Winter  No Holiday              Yes\n",
              "8 2017-12-01                930     8  ...   Winter  No Holiday              Yes\n",
              "9 2017-12-01                490     9  ...   Winter  No Holiday              Yes\n",
              "\n",
              "[10 rows x 14 columns]"
            ]
          },
          "execution_count": 80,
          "metadata": {
            "tags": []
          },
          "output_type": "execute_result"
        }
      ],
      "source": [
        "data.head(10)"
      ]
    },
    {
      "cell_type": "code",
      "execution_count": null,
      "metadata": {
        "colab": {
          "base_uri": "https://localhost:8080/"
        },
        "id": "DuU7fkpQwN8Y",
        "outputId": "98e10d73-605d-4beb-eb4d-03f7a45523fc"
      },
      "outputs": [
        {
          "name": "stdout",
          "output_type": "stream",
          "text": [
            "<class 'pandas.core.frame.DataFrame'>\n",
            "RangeIndex: 8760 entries, 0 to 8759\n",
            "Data columns (total 14 columns):\n",
            " #   Column                 Non-Null Count  Dtype         \n",
            "---  ------                 --------------  -----         \n",
            " 0   Date                   8760 non-null   datetime64[ns]\n",
            " 1   Rented Bike Count      8760 non-null   int64         \n",
            " 2   Hour                   8760 non-null   int64         \n",
            " 3   Temperature            8760 non-null   float64       \n",
            " 4   Humidity               8760 non-null   int64         \n",
            " 5   Wind speed             8760 non-null   float64       \n",
            " 6   Visibility             8760 non-null   int64         \n",
            " 7   Dew point temperature  8760 non-null   float64       \n",
            " 8   Solar Radiation        8760 non-null   float64       \n",
            " 9   Rainfall               8760 non-null   float64       \n",
            " 10  Snowfall               8760 non-null   float64       \n",
            " 11  Seasons                8760 non-null   object        \n",
            " 12  Holiday                8760 non-null   object        \n",
            " 13  Functioning Day        8760 non-null   object        \n",
            "dtypes: datetime64[ns](1), float64(6), int64(4), object(3)\n",
            "memory usage: 958.2+ KB\n"
          ]
        }
      ],
      "source": [
        "data.info()"
      ]
    },
    {
      "cell_type": "code",
      "execution_count": null,
      "metadata": {
        "colab": {
          "base_uri": "https://localhost:8080/"
        },
        "id": "CUigXL_nu0l5",
        "outputId": "a8ddde4d-bf39-4f6c-8567-d53ecfeea1db"
      },
      "outputs": [
        {
          "data": {
            "text/plain": [
              "Date                     0\n",
              "Rented Bike Count        0\n",
              "Hour                     0\n",
              "Temperature              0\n",
              "Humidity                 0\n",
              "Wind speed               0\n",
              "Visibility               0\n",
              "Dew point temperature    0\n",
              "Solar Radiation          0\n",
              "Rainfall                 0\n",
              "Snowfall                 0\n",
              "Seasons                  0\n",
              "Holiday                  0\n",
              "Functioning Day          0\n",
              "dtype: int64"
            ]
          },
          "execution_count": 6,
          "metadata": {
            "tags": []
          },
          "output_type": "execute_result"
        }
      ],
      "source": [
        "data.isnull().sum()"
      ]
    },
    {
      "cell_type": "code",
      "execution_count": null,
      "metadata": {
        "id": "SdpzVSnpxme2"
      },
      "outputs": [],
      "source": [
        "datcop = data.copy()"
      ]
    },
    {
      "cell_type": "code",
      "execution_count": null,
      "metadata": {
        "colab": {
          "base_uri": "https://localhost:8080/",
          "height": 320
        },
        "id": "LT56PxkPxeN7",
        "outputId": "97979312-f65e-45ea-91d0-ba37981dc468"
      },
      "outputs": [],
      "source": [
        "datcop.replace({'Holiday' : {'No Holiday': 0 , 'Holiday': 1}}, inplace=True)\n",
        "datcop.head(10)"
      ]
    },
    {
      "cell_type": "code",
      "execution_count": null,
      "metadata": {
        "colab": {
          "base_uri": "https://localhost:8080/",
          "height": 638
        },
        "id": "HZIIZ8ULXkNx",
        "outputId": "35cbc253-ce25-40f2-e730-1ded8ac789c5"
      },
      "outputs": [
        {
          "data": {
            "text/html": [
              "<div>\n",
              "<style scoped>\n",
              "    .dataframe tbody tr th:only-of-type {\n",
              "        vertical-align: middle;\n",
              "    }\n",
              "\n",
              "    .dataframe tbody tr th {\n",
              "        vertical-align: top;\n",
              "    }\n",
              "\n",
              "    .dataframe thead th {\n",
              "        text-align: right;\n",
              "    }\n",
              "</style>\n",
              "<table border=\"1\" class=\"dataframe\">\n",
              "  <thead>\n",
              "    <tr style=\"text-align: right;\">\n",
              "      <th></th>\n",
              "      <th>Date</th>\n",
              "      <th>Rented Bike Count</th>\n",
              "      <th>Hour</th>\n",
              "      <th>Temperature</th>\n",
              "      <th>Humidity</th>\n",
              "      <th>Wind speed</th>\n",
              "      <th>Visibility</th>\n",
              "      <th>Dew point temperature</th>\n",
              "      <th>Solar Radiation</th>\n",
              "      <th>Rainfall</th>\n",
              "      <th>Snowfall</th>\n",
              "      <th>Seasons</th>\n",
              "      <th>Holiday</th>\n",
              "      <th>FunctioningDay</th>\n",
              "      <th>KategoriHujan</th>\n",
              "      <th>weekday</th>\n",
              "      <th>month</th>\n",
              "      <th>year</th>\n",
              "      <th>Count</th>\n",
              "    </tr>\n",
              "  </thead>\n",
              "  <tbody>\n",
              "    <tr>\n",
              "      <th>0</th>\n",
              "      <td>2017-12-01</td>\n",
              "      <td>254</td>\n",
              "      <td>0</td>\n",
              "      <td>-5.2</td>\n",
              "      <td>37</td>\n",
              "      <td>2.2</td>\n",
              "      <td>2000</td>\n",
              "      <td>-17.6</td>\n",
              "      <td>0.0</td>\n",
              "      <td>0.0</td>\n",
              "      <td>0.0</td>\n",
              "      <td>Winter</td>\n",
              "      <td>0</td>\n",
              "      <td>Yes</td>\n",
              "      <td>Tidak Hujan</td>\n",
              "      <td>Friday</td>\n",
              "      <td>12</td>\n",
              "      <td>0</td>\n",
              "      <td>0</td>\n",
              "    </tr>\n",
              "    <tr>\n",
              "      <th>1</th>\n",
              "      <td>2017-12-01</td>\n",
              "      <td>204</td>\n",
              "      <td>1</td>\n",
              "      <td>-5.5</td>\n",
              "      <td>38</td>\n",
              "      <td>0.8</td>\n",
              "      <td>2000</td>\n",
              "      <td>-17.6</td>\n",
              "      <td>0.0</td>\n",
              "      <td>0.0</td>\n",
              "      <td>0.0</td>\n",
              "      <td>Winter</td>\n",
              "      <td>0</td>\n",
              "      <td>Yes</td>\n",
              "      <td>Tidak Hujan</td>\n",
              "      <td>Friday</td>\n",
              "      <td>12</td>\n",
              "      <td>0</td>\n",
              "      <td>0</td>\n",
              "    </tr>\n",
              "    <tr>\n",
              "      <th>2</th>\n",
              "      <td>2017-12-01</td>\n",
              "      <td>173</td>\n",
              "      <td>2</td>\n",
              "      <td>-6.0</td>\n",
              "      <td>39</td>\n",
              "      <td>1.0</td>\n",
              "      <td>2000</td>\n",
              "      <td>-17.7</td>\n",
              "      <td>0.0</td>\n",
              "      <td>0.0</td>\n",
              "      <td>0.0</td>\n",
              "      <td>Winter</td>\n",
              "      <td>0</td>\n",
              "      <td>Yes</td>\n",
              "      <td>Tidak Hujan</td>\n",
              "      <td>Friday</td>\n",
              "      <td>12</td>\n",
              "      <td>0</td>\n",
              "      <td>0</td>\n",
              "    </tr>\n",
              "    <tr>\n",
              "      <th>3</th>\n",
              "      <td>2017-12-01</td>\n",
              "      <td>107</td>\n",
              "      <td>3</td>\n",
              "      <td>-6.2</td>\n",
              "      <td>40</td>\n",
              "      <td>0.9</td>\n",
              "      <td>2000</td>\n",
              "      <td>-17.6</td>\n",
              "      <td>0.0</td>\n",
              "      <td>0.0</td>\n",
              "      <td>0.0</td>\n",
              "      <td>Winter</td>\n",
              "      <td>0</td>\n",
              "      <td>Yes</td>\n",
              "      <td>Tidak Hujan</td>\n",
              "      <td>Friday</td>\n",
              "      <td>12</td>\n",
              "      <td>0</td>\n",
              "      <td>0</td>\n",
              "    </tr>\n",
              "    <tr>\n",
              "      <th>4</th>\n",
              "      <td>2017-12-01</td>\n",
              "      <td>78</td>\n",
              "      <td>4</td>\n",
              "      <td>-6.0</td>\n",
              "      <td>36</td>\n",
              "      <td>2.3</td>\n",
              "      <td>2000</td>\n",
              "      <td>-18.6</td>\n",
              "      <td>0.0</td>\n",
              "      <td>0.0</td>\n",
              "      <td>0.0</td>\n",
              "      <td>Winter</td>\n",
              "      <td>0</td>\n",
              "      <td>Yes</td>\n",
              "      <td>Tidak Hujan</td>\n",
              "      <td>Friday</td>\n",
              "      <td>12</td>\n",
              "      <td>0</td>\n",
              "      <td>0</td>\n",
              "    </tr>\n",
              "    <tr>\n",
              "      <th>...</th>\n",
              "      <td>...</td>\n",
              "      <td>...</td>\n",
              "      <td>...</td>\n",
              "      <td>...</td>\n",
              "      <td>...</td>\n",
              "      <td>...</td>\n",
              "      <td>...</td>\n",
              "      <td>...</td>\n",
              "      <td>...</td>\n",
              "      <td>...</td>\n",
              "      <td>...</td>\n",
              "      <td>...</td>\n",
              "      <td>...</td>\n",
              "      <td>...</td>\n",
              "      <td>...</td>\n",
              "      <td>...</td>\n",
              "      <td>...</td>\n",
              "      <td>...</td>\n",
              "      <td>...</td>\n",
              "    </tr>\n",
              "    <tr>\n",
              "      <th>8755</th>\n",
              "      <td>2018-11-30</td>\n",
              "      <td>1003</td>\n",
              "      <td>19</td>\n",
              "      <td>4.2</td>\n",
              "      <td>34</td>\n",
              "      <td>2.6</td>\n",
              "      <td>1894</td>\n",
              "      <td>-10.3</td>\n",
              "      <td>0.0</td>\n",
              "      <td>0.0</td>\n",
              "      <td>0.0</td>\n",
              "      <td>Autumn</td>\n",
              "      <td>0</td>\n",
              "      <td>Yes</td>\n",
              "      <td>Tidak Hujan</td>\n",
              "      <td>Friday</td>\n",
              "      <td>11</td>\n",
              "      <td>1</td>\n",
              "      <td>1</td>\n",
              "    </tr>\n",
              "    <tr>\n",
              "      <th>8756</th>\n",
              "      <td>2018-11-30</td>\n",
              "      <td>764</td>\n",
              "      <td>20</td>\n",
              "      <td>3.4</td>\n",
              "      <td>37</td>\n",
              "      <td>2.3</td>\n",
              "      <td>2000</td>\n",
              "      <td>-9.9</td>\n",
              "      <td>0.0</td>\n",
              "      <td>0.0</td>\n",
              "      <td>0.0</td>\n",
              "      <td>Autumn</td>\n",
              "      <td>0</td>\n",
              "      <td>Yes</td>\n",
              "      <td>Tidak Hujan</td>\n",
              "      <td>Friday</td>\n",
              "      <td>11</td>\n",
              "      <td>1</td>\n",
              "      <td>0</td>\n",
              "    </tr>\n",
              "    <tr>\n",
              "      <th>8757</th>\n",
              "      <td>2018-11-30</td>\n",
              "      <td>694</td>\n",
              "      <td>21</td>\n",
              "      <td>2.6</td>\n",
              "      <td>39</td>\n",
              "      <td>0.3</td>\n",
              "      <td>1968</td>\n",
              "      <td>-9.9</td>\n",
              "      <td>0.0</td>\n",
              "      <td>0.0</td>\n",
              "      <td>0.0</td>\n",
              "      <td>Autumn</td>\n",
              "      <td>0</td>\n",
              "      <td>Yes</td>\n",
              "      <td>Tidak Hujan</td>\n",
              "      <td>Friday</td>\n",
              "      <td>11</td>\n",
              "      <td>1</td>\n",
              "      <td>0</td>\n",
              "    </tr>\n",
              "    <tr>\n",
              "      <th>8758</th>\n",
              "      <td>2018-11-30</td>\n",
              "      <td>712</td>\n",
              "      <td>22</td>\n",
              "      <td>2.1</td>\n",
              "      <td>41</td>\n",
              "      <td>1.0</td>\n",
              "      <td>1859</td>\n",
              "      <td>-9.8</td>\n",
              "      <td>0.0</td>\n",
              "      <td>0.0</td>\n",
              "      <td>0.0</td>\n",
              "      <td>Autumn</td>\n",
              "      <td>0</td>\n",
              "      <td>Yes</td>\n",
              "      <td>Tidak Hujan</td>\n",
              "      <td>Friday</td>\n",
              "      <td>11</td>\n",
              "      <td>1</td>\n",
              "      <td>0</td>\n",
              "    </tr>\n",
              "    <tr>\n",
              "      <th>8759</th>\n",
              "      <td>2018-11-30</td>\n",
              "      <td>584</td>\n",
              "      <td>23</td>\n",
              "      <td>1.9</td>\n",
              "      <td>43</td>\n",
              "      <td>1.3</td>\n",
              "      <td>1909</td>\n",
              "      <td>-9.3</td>\n",
              "      <td>0.0</td>\n",
              "      <td>0.0</td>\n",
              "      <td>0.0</td>\n",
              "      <td>Autumn</td>\n",
              "      <td>0</td>\n",
              "      <td>Yes</td>\n",
              "      <td>Tidak Hujan</td>\n",
              "      <td>Friday</td>\n",
              "      <td>11</td>\n",
              "      <td>1</td>\n",
              "      <td>0</td>\n",
              "    </tr>\n",
              "  </tbody>\n",
              "</table>\n",
              "<p>8760 rows × 19 columns</p>\n",
              "</div>"
            ],
            "text/plain": [
              "            Date  Rented Bike Count  Hour  ...  month  year  Count\n",
              "0     2017-12-01                254     0  ...     12     0      0\n",
              "1     2017-12-01                204     1  ...     12     0      0\n",
              "2     2017-12-01                173     2  ...     12     0      0\n",
              "3     2017-12-01                107     3  ...     12     0      0\n",
              "4     2017-12-01                 78     4  ...     12     0      0\n",
              "...          ...                ...   ...  ...    ...   ...    ...\n",
              "8755  2018-11-30               1003    19  ...     11     1      1\n",
              "8756  2018-11-30                764    20  ...     11     1      0\n",
              "8757  2018-11-30                694    21  ...     11     1      0\n",
              "8758  2018-11-30                712    22  ...     11     1      0\n",
              "8759  2018-11-30                584    23  ...     11     1      0\n",
              "\n",
              "[8760 rows x 19 columns]"
            ]
          },
          "execution_count": 82,
          "metadata": {
            "tags": []
          },
          "output_type": "execute_result"
        }
      ],
      "source": [
        "datcop['KategoriHujan'] = 'str'\n",
        "datcop['KategoriHujan'][(datcop['Rainfall']<0.1)&\n",
        "                        (datcop['Rainfall']>=0)] = 'Tidak Hujan'\n",
        "datcop['KategoriHujan'][(datcop['Rainfall']<5)&\n",
        "                        (datcop['Rainfall']>=0.1)] = 'Hujan Rintik'\n",
        "datcop['KategoriHujan'][(datcop['Rainfall']<10)&\n",
        "                        (datcop['Rainfall']>=5)] = 'Hujan'\n",
        "datcop['KategoriHujan'][datcop['Rainfall']>=10] = 'Hujan Deras'\n",
        "datcop"
      ]
    },
    {
      "cell_type": "code",
      "execution_count": null,
      "metadata": {
        "id": "1RAGh5XPVqUy"
      },
      "outputs": [],
      "source": [
        "datcop = datcop.rename(columns = {\"Functioning Day\":\"FunctioningDay\"})"
      ]
    },
    {
      "cell_type": "code",
      "execution_count": null,
      "metadata": {
        "id": "oucP5ohBvC9W"
      },
      "outputs": [],
      "source": [
        "datcop.Date = datcop.Date.astype(str)"
      ]
    },
    {
      "cell_type": "code",
      "execution_count": null,
      "metadata": {
        "id": "widiYSPbuHDf"
      },
      "outputs": [],
      "source": [
        "datcop[\"weekday\"] = datcop.Date.apply(lambda DateString : calendar.day_name[datetime.strptime(DateString,\"%Y-%m-%d\").weekday()])"
      ]
    },
    {
      "cell_type": "code",
      "execution_count": null,
      "metadata": {
        "colab": {
          "base_uri": "https://localhost:8080/",
          "height": 341
        },
        "id": "JLHXcd4NnL9z",
        "outputId": "fb38da60-a059-4ff6-cac9-7dfe34770c2c"
      },
      "outputs": [
        {
          "data": {
            "text/html": [
              "<div>\n",
              "<style scoped>\n",
              "    .dataframe tbody tr th:only-of-type {\n",
              "        vertical-align: middle;\n",
              "    }\n",
              "\n",
              "    .dataframe tbody tr th {\n",
              "        vertical-align: top;\n",
              "    }\n",
              "\n",
              "    .dataframe thead th {\n",
              "        text-align: right;\n",
              "    }\n",
              "</style>\n",
              "<table border=\"1\" class=\"dataframe\">\n",
              "  <thead>\n",
              "    <tr style=\"text-align: right;\">\n",
              "      <th></th>\n",
              "      <th>Date</th>\n",
              "      <th>Rented Bike Count</th>\n",
              "      <th>Hour</th>\n",
              "      <th>Temperature</th>\n",
              "      <th>Humidity</th>\n",
              "      <th>Wind speed</th>\n",
              "      <th>Visibility</th>\n",
              "      <th>Dew point temperature</th>\n",
              "      <th>Solar Radiation</th>\n",
              "      <th>Rainfall</th>\n",
              "      <th>Snowfall</th>\n",
              "      <th>Seasons</th>\n",
              "      <th>Holiday</th>\n",
              "      <th>FunctioningDay</th>\n",
              "      <th>KategoriHujan</th>\n",
              "      <th>weekday</th>\n",
              "      <th>month</th>\n",
              "      <th>year</th>\n",
              "      <th>Count</th>\n",
              "    </tr>\n",
              "  </thead>\n",
              "  <tbody>\n",
              "    <tr>\n",
              "      <th>0</th>\n",
              "      <td>2017-12-01</td>\n",
              "      <td>254</td>\n",
              "      <td>0</td>\n",
              "      <td>-5.2</td>\n",
              "      <td>37</td>\n",
              "      <td>2.2</td>\n",
              "      <td>2000</td>\n",
              "      <td>-17.6</td>\n",
              "      <td>0.0</td>\n",
              "      <td>0.0</td>\n",
              "      <td>0.0</td>\n",
              "      <td>Winter</td>\n",
              "      <td>0</td>\n",
              "      <td>Yes</td>\n",
              "      <td>Tidak Hujan</td>\n",
              "      <td>Friday</td>\n",
              "      <td>12</td>\n",
              "      <td>0</td>\n",
              "      <td>0</td>\n",
              "    </tr>\n",
              "    <tr>\n",
              "      <th>1</th>\n",
              "      <td>2017-12-01</td>\n",
              "      <td>204</td>\n",
              "      <td>1</td>\n",
              "      <td>-5.5</td>\n",
              "      <td>38</td>\n",
              "      <td>0.8</td>\n",
              "      <td>2000</td>\n",
              "      <td>-17.6</td>\n",
              "      <td>0.0</td>\n",
              "      <td>0.0</td>\n",
              "      <td>0.0</td>\n",
              "      <td>Winter</td>\n",
              "      <td>0</td>\n",
              "      <td>Yes</td>\n",
              "      <td>Tidak Hujan</td>\n",
              "      <td>Friday</td>\n",
              "      <td>12</td>\n",
              "      <td>0</td>\n",
              "      <td>0</td>\n",
              "    </tr>\n",
              "    <tr>\n",
              "      <th>2</th>\n",
              "      <td>2017-12-01</td>\n",
              "      <td>173</td>\n",
              "      <td>2</td>\n",
              "      <td>-6.0</td>\n",
              "      <td>39</td>\n",
              "      <td>1.0</td>\n",
              "      <td>2000</td>\n",
              "      <td>-17.7</td>\n",
              "      <td>0.0</td>\n",
              "      <td>0.0</td>\n",
              "      <td>0.0</td>\n",
              "      <td>Winter</td>\n",
              "      <td>0</td>\n",
              "      <td>Yes</td>\n",
              "      <td>Tidak Hujan</td>\n",
              "      <td>Friday</td>\n",
              "      <td>12</td>\n",
              "      <td>0</td>\n",
              "      <td>0</td>\n",
              "    </tr>\n",
              "    <tr>\n",
              "      <th>3</th>\n",
              "      <td>2017-12-01</td>\n",
              "      <td>107</td>\n",
              "      <td>3</td>\n",
              "      <td>-6.2</td>\n",
              "      <td>40</td>\n",
              "      <td>0.9</td>\n",
              "      <td>2000</td>\n",
              "      <td>-17.6</td>\n",
              "      <td>0.0</td>\n",
              "      <td>0.0</td>\n",
              "      <td>0.0</td>\n",
              "      <td>Winter</td>\n",
              "      <td>0</td>\n",
              "      <td>Yes</td>\n",
              "      <td>Tidak Hujan</td>\n",
              "      <td>Friday</td>\n",
              "      <td>12</td>\n",
              "      <td>0</td>\n",
              "      <td>0</td>\n",
              "    </tr>\n",
              "    <tr>\n",
              "      <th>4</th>\n",
              "      <td>2017-12-01</td>\n",
              "      <td>78</td>\n",
              "      <td>4</td>\n",
              "      <td>-6.0</td>\n",
              "      <td>36</td>\n",
              "      <td>2.3</td>\n",
              "      <td>2000</td>\n",
              "      <td>-18.6</td>\n",
              "      <td>0.0</td>\n",
              "      <td>0.0</td>\n",
              "      <td>0.0</td>\n",
              "      <td>Winter</td>\n",
              "      <td>0</td>\n",
              "      <td>Yes</td>\n",
              "      <td>Tidak Hujan</td>\n",
              "      <td>Friday</td>\n",
              "      <td>12</td>\n",
              "      <td>0</td>\n",
              "      <td>0</td>\n",
              "    </tr>\n",
              "  </tbody>\n",
              "</table>\n",
              "</div>"
            ],
            "text/plain": [
              "         Date  Rented Bike Count  Hour  Temperature  ...  weekday  month  year  Count\n",
              "0  2017-12-01                254     0         -5.2  ...   Friday     12     0      0\n",
              "1  2017-12-01                204     1         -5.5  ...   Friday     12     0      0\n",
              "2  2017-12-01                173     2         -6.0  ...   Friday     12     0      0\n",
              "3  2017-12-01                107     3         -6.2  ...   Friday     12     0      0\n",
              "4  2017-12-01                 78     4         -6.0  ...   Friday     12     0      0\n",
              "\n",
              "[5 rows x 19 columns]"
            ]
          },
          "execution_count": 86,
          "metadata": {
            "tags": []
          },
          "output_type": "execute_result"
        }
      ],
      "source": [
        "datcop[\"weekday\"] = datcop.Date.apply(lambda dateString : calendar.day_name[datetime.strptime(dateString,\"%Y-%m-%d\").weekday()])\n",
        "datcop[\"month\"] = [t.month for t in pd.DatetimeIndex(datcop.Date)]\n",
        "datcop['year'] = [t.year for t in pd.DatetimeIndex(datcop.Date)]\n",
        "datcop['year'] = datcop['year'].map({2017:0, 2018:1})\n",
        "datcop.head()"
      ]
    },
    {
      "cell_type": "code",
      "execution_count": null,
      "metadata": {
        "colab": {
          "base_uri": "https://localhost:8080/",
          "height": 638
        },
        "id": "FBboyDIPTXb0",
        "outputId": "2ddd9169-9090-434e-ad8c-e4dacb7fd132"
      },
      "outputs": [
        {
          "data": {
            "text/html": [
              "<div>\n",
              "<style scoped>\n",
              "    .dataframe tbody tr th:only-of-type {\n",
              "        vertical-align: middle;\n",
              "    }\n",
              "\n",
              "    .dataframe tbody tr th {\n",
              "        vertical-align: top;\n",
              "    }\n",
              "\n",
              "    .dataframe thead th {\n",
              "        text-align: right;\n",
              "    }\n",
              "</style>\n",
              "<table border=\"1\" class=\"dataframe\">\n",
              "  <thead>\n",
              "    <tr style=\"text-align: right;\">\n",
              "      <th></th>\n",
              "      <th>Date</th>\n",
              "      <th>Rented Bike Count</th>\n",
              "      <th>Hour</th>\n",
              "      <th>Temperature</th>\n",
              "      <th>Humidity</th>\n",
              "      <th>Wind speed</th>\n",
              "      <th>Visibility</th>\n",
              "      <th>Dew point temperature</th>\n",
              "      <th>Solar Radiation</th>\n",
              "      <th>Rainfall</th>\n",
              "      <th>Snowfall</th>\n",
              "      <th>Seasons</th>\n",
              "      <th>Holiday</th>\n",
              "      <th>FunctioningDay</th>\n",
              "      <th>KategoriHujan</th>\n",
              "      <th>weekday</th>\n",
              "      <th>month</th>\n",
              "      <th>year</th>\n",
              "      <th>Count</th>\n",
              "    </tr>\n",
              "  </thead>\n",
              "  <tbody>\n",
              "    <tr>\n",
              "      <th>0</th>\n",
              "      <td>2017-12-01</td>\n",
              "      <td>254</td>\n",
              "      <td>0</td>\n",
              "      <td>-5.2</td>\n",
              "      <td>37</td>\n",
              "      <td>2.2</td>\n",
              "      <td>2000</td>\n",
              "      <td>-17.6</td>\n",
              "      <td>0.0</td>\n",
              "      <td>0.0</td>\n",
              "      <td>0.0</td>\n",
              "      <td>Winter</td>\n",
              "      <td>0</td>\n",
              "      <td>Yes</td>\n",
              "      <td>Tidak Hujan</td>\n",
              "      <td>Friday</td>\n",
              "      <td>12</td>\n",
              "      <td>0</td>\n",
              "      <td>0</td>\n",
              "    </tr>\n",
              "    <tr>\n",
              "      <th>1</th>\n",
              "      <td>2017-12-01</td>\n",
              "      <td>204</td>\n",
              "      <td>1</td>\n",
              "      <td>-5.5</td>\n",
              "      <td>38</td>\n",
              "      <td>0.8</td>\n",
              "      <td>2000</td>\n",
              "      <td>-17.6</td>\n",
              "      <td>0.0</td>\n",
              "      <td>0.0</td>\n",
              "      <td>0.0</td>\n",
              "      <td>Winter</td>\n",
              "      <td>0</td>\n",
              "      <td>Yes</td>\n",
              "      <td>Tidak Hujan</td>\n",
              "      <td>Friday</td>\n",
              "      <td>12</td>\n",
              "      <td>0</td>\n",
              "      <td>0</td>\n",
              "    </tr>\n",
              "    <tr>\n",
              "      <th>2</th>\n",
              "      <td>2017-12-01</td>\n",
              "      <td>173</td>\n",
              "      <td>2</td>\n",
              "      <td>-6.0</td>\n",
              "      <td>39</td>\n",
              "      <td>1.0</td>\n",
              "      <td>2000</td>\n",
              "      <td>-17.7</td>\n",
              "      <td>0.0</td>\n",
              "      <td>0.0</td>\n",
              "      <td>0.0</td>\n",
              "      <td>Winter</td>\n",
              "      <td>0</td>\n",
              "      <td>Yes</td>\n",
              "      <td>Tidak Hujan</td>\n",
              "      <td>Friday</td>\n",
              "      <td>12</td>\n",
              "      <td>0</td>\n",
              "      <td>0</td>\n",
              "    </tr>\n",
              "    <tr>\n",
              "      <th>3</th>\n",
              "      <td>2017-12-01</td>\n",
              "      <td>107</td>\n",
              "      <td>3</td>\n",
              "      <td>-6.2</td>\n",
              "      <td>40</td>\n",
              "      <td>0.9</td>\n",
              "      <td>2000</td>\n",
              "      <td>-17.6</td>\n",
              "      <td>0.0</td>\n",
              "      <td>0.0</td>\n",
              "      <td>0.0</td>\n",
              "      <td>Winter</td>\n",
              "      <td>0</td>\n",
              "      <td>Yes</td>\n",
              "      <td>Tidak Hujan</td>\n",
              "      <td>Friday</td>\n",
              "      <td>12</td>\n",
              "      <td>0</td>\n",
              "      <td>0</td>\n",
              "    </tr>\n",
              "    <tr>\n",
              "      <th>4</th>\n",
              "      <td>2017-12-01</td>\n",
              "      <td>78</td>\n",
              "      <td>4</td>\n",
              "      <td>-6.0</td>\n",
              "      <td>36</td>\n",
              "      <td>2.3</td>\n",
              "      <td>2000</td>\n",
              "      <td>-18.6</td>\n",
              "      <td>0.0</td>\n",
              "      <td>0.0</td>\n",
              "      <td>0.0</td>\n",
              "      <td>Winter</td>\n",
              "      <td>0</td>\n",
              "      <td>Yes</td>\n",
              "      <td>Tidak Hujan</td>\n",
              "      <td>Friday</td>\n",
              "      <td>12</td>\n",
              "      <td>0</td>\n",
              "      <td>0</td>\n",
              "    </tr>\n",
              "    <tr>\n",
              "      <th>...</th>\n",
              "      <td>...</td>\n",
              "      <td>...</td>\n",
              "      <td>...</td>\n",
              "      <td>...</td>\n",
              "      <td>...</td>\n",
              "      <td>...</td>\n",
              "      <td>...</td>\n",
              "      <td>...</td>\n",
              "      <td>...</td>\n",
              "      <td>...</td>\n",
              "      <td>...</td>\n",
              "      <td>...</td>\n",
              "      <td>...</td>\n",
              "      <td>...</td>\n",
              "      <td>...</td>\n",
              "      <td>...</td>\n",
              "      <td>...</td>\n",
              "      <td>...</td>\n",
              "      <td>...</td>\n",
              "    </tr>\n",
              "    <tr>\n",
              "      <th>8755</th>\n",
              "      <td>2018-11-30</td>\n",
              "      <td>1003</td>\n",
              "      <td>19</td>\n",
              "      <td>4.2</td>\n",
              "      <td>34</td>\n",
              "      <td>2.6</td>\n",
              "      <td>1894</td>\n",
              "      <td>-10.3</td>\n",
              "      <td>0.0</td>\n",
              "      <td>0.0</td>\n",
              "      <td>0.0</td>\n",
              "      <td>Autumn</td>\n",
              "      <td>0</td>\n",
              "      <td>Yes</td>\n",
              "      <td>Tidak Hujan</td>\n",
              "      <td>Friday</td>\n",
              "      <td>11</td>\n",
              "      <td>1</td>\n",
              "      <td>1</td>\n",
              "    </tr>\n",
              "    <tr>\n",
              "      <th>8756</th>\n",
              "      <td>2018-11-30</td>\n",
              "      <td>764</td>\n",
              "      <td>20</td>\n",
              "      <td>3.4</td>\n",
              "      <td>37</td>\n",
              "      <td>2.3</td>\n",
              "      <td>2000</td>\n",
              "      <td>-9.9</td>\n",
              "      <td>0.0</td>\n",
              "      <td>0.0</td>\n",
              "      <td>0.0</td>\n",
              "      <td>Autumn</td>\n",
              "      <td>0</td>\n",
              "      <td>Yes</td>\n",
              "      <td>Tidak Hujan</td>\n",
              "      <td>Friday</td>\n",
              "      <td>11</td>\n",
              "      <td>1</td>\n",
              "      <td>0</td>\n",
              "    </tr>\n",
              "    <tr>\n",
              "      <th>8757</th>\n",
              "      <td>2018-11-30</td>\n",
              "      <td>694</td>\n",
              "      <td>21</td>\n",
              "      <td>2.6</td>\n",
              "      <td>39</td>\n",
              "      <td>0.3</td>\n",
              "      <td>1968</td>\n",
              "      <td>-9.9</td>\n",
              "      <td>0.0</td>\n",
              "      <td>0.0</td>\n",
              "      <td>0.0</td>\n",
              "      <td>Autumn</td>\n",
              "      <td>0</td>\n",
              "      <td>Yes</td>\n",
              "      <td>Tidak Hujan</td>\n",
              "      <td>Friday</td>\n",
              "      <td>11</td>\n",
              "      <td>1</td>\n",
              "      <td>0</td>\n",
              "    </tr>\n",
              "    <tr>\n",
              "      <th>8758</th>\n",
              "      <td>2018-11-30</td>\n",
              "      <td>712</td>\n",
              "      <td>22</td>\n",
              "      <td>2.1</td>\n",
              "      <td>41</td>\n",
              "      <td>1.0</td>\n",
              "      <td>1859</td>\n",
              "      <td>-9.8</td>\n",
              "      <td>0.0</td>\n",
              "      <td>0.0</td>\n",
              "      <td>0.0</td>\n",
              "      <td>Autumn</td>\n",
              "      <td>0</td>\n",
              "      <td>Yes</td>\n",
              "      <td>Tidak Hujan</td>\n",
              "      <td>Friday</td>\n",
              "      <td>11</td>\n",
              "      <td>1</td>\n",
              "      <td>0</td>\n",
              "    </tr>\n",
              "    <tr>\n",
              "      <th>8759</th>\n",
              "      <td>2018-11-30</td>\n",
              "      <td>584</td>\n",
              "      <td>23</td>\n",
              "      <td>1.9</td>\n",
              "      <td>43</td>\n",
              "      <td>1.3</td>\n",
              "      <td>1909</td>\n",
              "      <td>-9.3</td>\n",
              "      <td>0.0</td>\n",
              "      <td>0.0</td>\n",
              "      <td>0.0</td>\n",
              "      <td>Autumn</td>\n",
              "      <td>0</td>\n",
              "      <td>Yes</td>\n",
              "      <td>Tidak Hujan</td>\n",
              "      <td>Friday</td>\n",
              "      <td>11</td>\n",
              "      <td>1</td>\n",
              "      <td>0</td>\n",
              "    </tr>\n",
              "  </tbody>\n",
              "</table>\n",
              "<p>8760 rows × 19 columns</p>\n",
              "</div>"
            ],
            "text/plain": [
              "            Date  Rented Bike Count  Hour  ...  month  year  Count\n",
              "0     2017-12-01                254     0  ...     12     0      0\n",
              "1     2017-12-01                204     1  ...     12     0      0\n",
              "2     2017-12-01                173     2  ...     12     0      0\n",
              "3     2017-12-01                107     3  ...     12     0      0\n",
              "4     2017-12-01                 78     4  ...     12     0      0\n",
              "...          ...                ...   ...  ...    ...   ...    ...\n",
              "8755  2018-11-30               1003    19  ...     11     1      1\n",
              "8756  2018-11-30                764    20  ...     11     1      0\n",
              "8757  2018-11-30                694    21  ...     11     1      0\n",
              "8758  2018-11-30                712    22  ...     11     1      0\n",
              "8759  2018-11-30                584    23  ...     11     1      0\n",
              "\n",
              "[8760 rows x 19 columns]"
            ]
          },
          "execution_count": 87,
          "metadata": {
            "tags": []
          },
          "output_type": "execute_result"
        }
      ],
      "source": [
        "datcop['Count'] = 'str'\n",
        "datcop['Count'][(datcop['Rented Bike Count']<1000)&\n",
        "                        (datcop['Rented Bike Count']>=0)] = '0'\n",
        "datcop['Count'][(datcop['Rented Bike Count']<2000)&\n",
        "                        (datcop['Rented Bike Count']>=1000)] = '1'\n",
        "datcop['Count'][datcop['Rented Bike Count']>=2000] = '2'\n",
        "datcop"
      ]
    },
    {
      "cell_type": "code",
      "execution_count": null,
      "metadata": {
        "id": "PBpFKpmVjG7X"
      },
      "outputs": [],
      "source": [
        "datcop.Count = datcop.Count.astype(int)"
      ]
    },
    {
      "cell_type": "code",
      "execution_count": null,
      "metadata": {
        "id": "tBeNpI3f8wIK"
      },
      "outputs": [],
      "source": [
        "datafs = datcop.copy()"
      ]
    },
    {
      "cell_type": "code",
      "execution_count": null,
      "metadata": {
        "colab": {
          "base_uri": "https://localhost:8080/",
          "height": 638
        },
        "id": "_FnNRoge_n45",
        "outputId": "e3df3fed-f2fd-4868-a931-da94abd3cc24"
      },
      "outputs": [
        {
          "data": {
            "text/html": [
              "<div>\n",
              "<style scoped>\n",
              "    .dataframe tbody tr th:only-of-type {\n",
              "        vertical-align: middle;\n",
              "    }\n",
              "\n",
              "    .dataframe tbody tr th {\n",
              "        vertical-align: top;\n",
              "    }\n",
              "\n",
              "    .dataframe thead th {\n",
              "        text-align: right;\n",
              "    }\n",
              "</style>\n",
              "<table border=\"1\" class=\"dataframe\">\n",
              "  <thead>\n",
              "    <tr style=\"text-align: right;\">\n",
              "      <th></th>\n",
              "      <th>Date</th>\n",
              "      <th>Rented Bike Count</th>\n",
              "      <th>Hour</th>\n",
              "      <th>Temperature</th>\n",
              "      <th>Humidity</th>\n",
              "      <th>Wind speed</th>\n",
              "      <th>Visibility</th>\n",
              "      <th>Dew point temperature</th>\n",
              "      <th>Solar Radiation</th>\n",
              "      <th>Rainfall</th>\n",
              "      <th>Snowfall</th>\n",
              "      <th>Seasons</th>\n",
              "      <th>Holiday</th>\n",
              "      <th>FunctioningDay</th>\n",
              "      <th>KategoriHujan</th>\n",
              "      <th>weekday</th>\n",
              "      <th>month</th>\n",
              "      <th>year</th>\n",
              "      <th>Count</th>\n",
              "      <th>Friday</th>\n",
              "      <th>Monday</th>\n",
              "      <th>Saturday</th>\n",
              "      <th>Sunday</th>\n",
              "      <th>Thursday</th>\n",
              "      <th>Tuesday</th>\n",
              "      <th>Wednesday</th>\n",
              "    </tr>\n",
              "  </thead>\n",
              "  <tbody>\n",
              "    <tr>\n",
              "      <th>0</th>\n",
              "      <td>2017-12-01</td>\n",
              "      <td>254</td>\n",
              "      <td>0</td>\n",
              "      <td>-5.2</td>\n",
              "      <td>37</td>\n",
              "      <td>2.2</td>\n",
              "      <td>2000</td>\n",
              "      <td>-17.6</td>\n",
              "      <td>0.0</td>\n",
              "      <td>0.0</td>\n",
              "      <td>0.0</td>\n",
              "      <td>Winter</td>\n",
              "      <td>0</td>\n",
              "      <td>Yes</td>\n",
              "      <td>Tidak Hujan</td>\n",
              "      <td>Friday</td>\n",
              "      <td>12</td>\n",
              "      <td>0</td>\n",
              "      <td>0</td>\n",
              "      <td>1</td>\n",
              "      <td>0</td>\n",
              "      <td>0</td>\n",
              "      <td>0</td>\n",
              "      <td>0</td>\n",
              "      <td>0</td>\n",
              "      <td>0</td>\n",
              "    </tr>\n",
              "    <tr>\n",
              "      <th>1</th>\n",
              "      <td>2017-12-01</td>\n",
              "      <td>204</td>\n",
              "      <td>1</td>\n",
              "      <td>-5.5</td>\n",
              "      <td>38</td>\n",
              "      <td>0.8</td>\n",
              "      <td>2000</td>\n",
              "      <td>-17.6</td>\n",
              "      <td>0.0</td>\n",
              "      <td>0.0</td>\n",
              "      <td>0.0</td>\n",
              "      <td>Winter</td>\n",
              "      <td>0</td>\n",
              "      <td>Yes</td>\n",
              "      <td>Tidak Hujan</td>\n",
              "      <td>Friday</td>\n",
              "      <td>12</td>\n",
              "      <td>0</td>\n",
              "      <td>0</td>\n",
              "      <td>1</td>\n",
              "      <td>0</td>\n",
              "      <td>0</td>\n",
              "      <td>0</td>\n",
              "      <td>0</td>\n",
              "      <td>0</td>\n",
              "      <td>0</td>\n",
              "    </tr>\n",
              "    <tr>\n",
              "      <th>2</th>\n",
              "      <td>2017-12-01</td>\n",
              "      <td>173</td>\n",
              "      <td>2</td>\n",
              "      <td>-6.0</td>\n",
              "      <td>39</td>\n",
              "      <td>1.0</td>\n",
              "      <td>2000</td>\n",
              "      <td>-17.7</td>\n",
              "      <td>0.0</td>\n",
              "      <td>0.0</td>\n",
              "      <td>0.0</td>\n",
              "      <td>Winter</td>\n",
              "      <td>0</td>\n",
              "      <td>Yes</td>\n",
              "      <td>Tidak Hujan</td>\n",
              "      <td>Friday</td>\n",
              "      <td>12</td>\n",
              "      <td>0</td>\n",
              "      <td>0</td>\n",
              "      <td>1</td>\n",
              "      <td>0</td>\n",
              "      <td>0</td>\n",
              "      <td>0</td>\n",
              "      <td>0</td>\n",
              "      <td>0</td>\n",
              "      <td>0</td>\n",
              "    </tr>\n",
              "    <tr>\n",
              "      <th>3</th>\n",
              "      <td>2017-12-01</td>\n",
              "      <td>107</td>\n",
              "      <td>3</td>\n",
              "      <td>-6.2</td>\n",
              "      <td>40</td>\n",
              "      <td>0.9</td>\n",
              "      <td>2000</td>\n",
              "      <td>-17.6</td>\n",
              "      <td>0.0</td>\n",
              "      <td>0.0</td>\n",
              "      <td>0.0</td>\n",
              "      <td>Winter</td>\n",
              "      <td>0</td>\n",
              "      <td>Yes</td>\n",
              "      <td>Tidak Hujan</td>\n",
              "      <td>Friday</td>\n",
              "      <td>12</td>\n",
              "      <td>0</td>\n",
              "      <td>0</td>\n",
              "      <td>1</td>\n",
              "      <td>0</td>\n",
              "      <td>0</td>\n",
              "      <td>0</td>\n",
              "      <td>0</td>\n",
              "      <td>0</td>\n",
              "      <td>0</td>\n",
              "    </tr>\n",
              "    <tr>\n",
              "      <th>4</th>\n",
              "      <td>2017-12-01</td>\n",
              "      <td>78</td>\n",
              "      <td>4</td>\n",
              "      <td>-6.0</td>\n",
              "      <td>36</td>\n",
              "      <td>2.3</td>\n",
              "      <td>2000</td>\n",
              "      <td>-18.6</td>\n",
              "      <td>0.0</td>\n",
              "      <td>0.0</td>\n",
              "      <td>0.0</td>\n",
              "      <td>Winter</td>\n",
              "      <td>0</td>\n",
              "      <td>Yes</td>\n",
              "      <td>Tidak Hujan</td>\n",
              "      <td>Friday</td>\n",
              "      <td>12</td>\n",
              "      <td>0</td>\n",
              "      <td>0</td>\n",
              "      <td>1</td>\n",
              "      <td>0</td>\n",
              "      <td>0</td>\n",
              "      <td>0</td>\n",
              "      <td>0</td>\n",
              "      <td>0</td>\n",
              "      <td>0</td>\n",
              "    </tr>\n",
              "    <tr>\n",
              "      <th>...</th>\n",
              "      <td>...</td>\n",
              "      <td>...</td>\n",
              "      <td>...</td>\n",
              "      <td>...</td>\n",
              "      <td>...</td>\n",
              "      <td>...</td>\n",
              "      <td>...</td>\n",
              "      <td>...</td>\n",
              "      <td>...</td>\n",
              "      <td>...</td>\n",
              "      <td>...</td>\n",
              "      <td>...</td>\n",
              "      <td>...</td>\n",
              "      <td>...</td>\n",
              "      <td>...</td>\n",
              "      <td>...</td>\n",
              "      <td>...</td>\n",
              "      <td>...</td>\n",
              "      <td>...</td>\n",
              "      <td>...</td>\n",
              "      <td>...</td>\n",
              "      <td>...</td>\n",
              "      <td>...</td>\n",
              "      <td>...</td>\n",
              "      <td>...</td>\n",
              "      <td>...</td>\n",
              "    </tr>\n",
              "    <tr>\n",
              "      <th>8755</th>\n",
              "      <td>2018-11-30</td>\n",
              "      <td>1003</td>\n",
              "      <td>19</td>\n",
              "      <td>4.2</td>\n",
              "      <td>34</td>\n",
              "      <td>2.6</td>\n",
              "      <td>1894</td>\n",
              "      <td>-10.3</td>\n",
              "      <td>0.0</td>\n",
              "      <td>0.0</td>\n",
              "      <td>0.0</td>\n",
              "      <td>Autumn</td>\n",
              "      <td>0</td>\n",
              "      <td>Yes</td>\n",
              "      <td>Tidak Hujan</td>\n",
              "      <td>Friday</td>\n",
              "      <td>11</td>\n",
              "      <td>1</td>\n",
              "      <td>1</td>\n",
              "      <td>1</td>\n",
              "      <td>0</td>\n",
              "      <td>0</td>\n",
              "      <td>0</td>\n",
              "      <td>0</td>\n",
              "      <td>0</td>\n",
              "      <td>0</td>\n",
              "    </tr>\n",
              "    <tr>\n",
              "      <th>8756</th>\n",
              "      <td>2018-11-30</td>\n",
              "      <td>764</td>\n",
              "      <td>20</td>\n",
              "      <td>3.4</td>\n",
              "      <td>37</td>\n",
              "      <td>2.3</td>\n",
              "      <td>2000</td>\n",
              "      <td>-9.9</td>\n",
              "      <td>0.0</td>\n",
              "      <td>0.0</td>\n",
              "      <td>0.0</td>\n",
              "      <td>Autumn</td>\n",
              "      <td>0</td>\n",
              "      <td>Yes</td>\n",
              "      <td>Tidak Hujan</td>\n",
              "      <td>Friday</td>\n",
              "      <td>11</td>\n",
              "      <td>1</td>\n",
              "      <td>0</td>\n",
              "      <td>1</td>\n",
              "      <td>0</td>\n",
              "      <td>0</td>\n",
              "      <td>0</td>\n",
              "      <td>0</td>\n",
              "      <td>0</td>\n",
              "      <td>0</td>\n",
              "    </tr>\n",
              "    <tr>\n",
              "      <th>8757</th>\n",
              "      <td>2018-11-30</td>\n",
              "      <td>694</td>\n",
              "      <td>21</td>\n",
              "      <td>2.6</td>\n",
              "      <td>39</td>\n",
              "      <td>0.3</td>\n",
              "      <td>1968</td>\n",
              "      <td>-9.9</td>\n",
              "      <td>0.0</td>\n",
              "      <td>0.0</td>\n",
              "      <td>0.0</td>\n",
              "      <td>Autumn</td>\n",
              "      <td>0</td>\n",
              "      <td>Yes</td>\n",
              "      <td>Tidak Hujan</td>\n",
              "      <td>Friday</td>\n",
              "      <td>11</td>\n",
              "      <td>1</td>\n",
              "      <td>0</td>\n",
              "      <td>1</td>\n",
              "      <td>0</td>\n",
              "      <td>0</td>\n",
              "      <td>0</td>\n",
              "      <td>0</td>\n",
              "      <td>0</td>\n",
              "      <td>0</td>\n",
              "    </tr>\n",
              "    <tr>\n",
              "      <th>8758</th>\n",
              "      <td>2018-11-30</td>\n",
              "      <td>712</td>\n",
              "      <td>22</td>\n",
              "      <td>2.1</td>\n",
              "      <td>41</td>\n",
              "      <td>1.0</td>\n",
              "      <td>1859</td>\n",
              "      <td>-9.8</td>\n",
              "      <td>0.0</td>\n",
              "      <td>0.0</td>\n",
              "      <td>0.0</td>\n",
              "      <td>Autumn</td>\n",
              "      <td>0</td>\n",
              "      <td>Yes</td>\n",
              "      <td>Tidak Hujan</td>\n",
              "      <td>Friday</td>\n",
              "      <td>11</td>\n",
              "      <td>1</td>\n",
              "      <td>0</td>\n",
              "      <td>1</td>\n",
              "      <td>0</td>\n",
              "      <td>0</td>\n",
              "      <td>0</td>\n",
              "      <td>0</td>\n",
              "      <td>0</td>\n",
              "      <td>0</td>\n",
              "    </tr>\n",
              "    <tr>\n",
              "      <th>8759</th>\n",
              "      <td>2018-11-30</td>\n",
              "      <td>584</td>\n",
              "      <td>23</td>\n",
              "      <td>1.9</td>\n",
              "      <td>43</td>\n",
              "      <td>1.3</td>\n",
              "      <td>1909</td>\n",
              "      <td>-9.3</td>\n",
              "      <td>0.0</td>\n",
              "      <td>0.0</td>\n",
              "      <td>0.0</td>\n",
              "      <td>Autumn</td>\n",
              "      <td>0</td>\n",
              "      <td>Yes</td>\n",
              "      <td>Tidak Hujan</td>\n",
              "      <td>Friday</td>\n",
              "      <td>11</td>\n",
              "      <td>1</td>\n",
              "      <td>0</td>\n",
              "      <td>1</td>\n",
              "      <td>0</td>\n",
              "      <td>0</td>\n",
              "      <td>0</td>\n",
              "      <td>0</td>\n",
              "      <td>0</td>\n",
              "      <td>0</td>\n",
              "    </tr>\n",
              "  </tbody>\n",
              "</table>\n",
              "<p>8760 rows × 26 columns</p>\n",
              "</div>"
            ],
            "text/plain": [
              "            Date  Rented Bike Count  Hour  ...  Thursday  Tuesday  Wednesday\n",
              "0     2017-12-01                254     0  ...         0        0          0\n",
              "1     2017-12-01                204     1  ...         0        0          0\n",
              "2     2017-12-01                173     2  ...         0        0          0\n",
              "3     2017-12-01                107     3  ...         0        0          0\n",
              "4     2017-12-01                 78     4  ...         0        0          0\n",
              "...          ...                ...   ...  ...       ...      ...        ...\n",
              "8755  2018-11-30               1003    19  ...         0        0          0\n",
              "8756  2018-11-30                764    20  ...         0        0          0\n",
              "8757  2018-11-30                694    21  ...         0        0          0\n",
              "8758  2018-11-30                712    22  ...         0        0          0\n",
              "8759  2018-11-30                584    23  ...         0        0          0\n",
              "\n",
              "[8760 rows x 26 columns]"
            ]
          },
          "execution_count": 90,
          "metadata": {
            "tags": []
          },
          "output_type": "execute_result"
        }
      ],
      "source": [
        "datafs = datafs.join(pd.get_dummies(datafs['weekday']))\n",
        "datafs"
      ]
    },
    {
      "cell_type": "code",
      "execution_count": null,
      "metadata": {
        "colab": {
          "base_uri": "https://localhost:8080/",
          "height": 638
        },
        "id": "Yz1h1ZnT80zY",
        "outputId": "9a96e5a8-788b-418e-d21c-299a2f262caa"
      },
      "outputs": [
        {
          "data": {
            "text/html": [
              "<div>\n",
              "<style scoped>\n",
              "    .dataframe tbody tr th:only-of-type {\n",
              "        vertical-align: middle;\n",
              "    }\n",
              "\n",
              "    .dataframe tbody tr th {\n",
              "        vertical-align: top;\n",
              "    }\n",
              "\n",
              "    .dataframe thead th {\n",
              "        text-align: right;\n",
              "    }\n",
              "</style>\n",
              "<table border=\"1\" class=\"dataframe\">\n",
              "  <thead>\n",
              "    <tr style=\"text-align: right;\">\n",
              "      <th></th>\n",
              "      <th>Date</th>\n",
              "      <th>Rented Bike Count</th>\n",
              "      <th>Hour</th>\n",
              "      <th>Temperature</th>\n",
              "      <th>Humidity</th>\n",
              "      <th>Wind speed</th>\n",
              "      <th>Visibility</th>\n",
              "      <th>Dew point temperature</th>\n",
              "      <th>Solar Radiation</th>\n",
              "      <th>Rainfall</th>\n",
              "      <th>Snowfall</th>\n",
              "      <th>Seasons</th>\n",
              "      <th>Holiday</th>\n",
              "      <th>FunctioningDay</th>\n",
              "      <th>KategoriHujan</th>\n",
              "      <th>weekday</th>\n",
              "      <th>month</th>\n",
              "      <th>year</th>\n",
              "      <th>Count</th>\n",
              "      <th>Friday</th>\n",
              "      <th>Monday</th>\n",
              "      <th>Saturday</th>\n",
              "      <th>Sunday</th>\n",
              "      <th>Thursday</th>\n",
              "      <th>Tuesday</th>\n",
              "      <th>Wednesday</th>\n",
              "      <th>Func</th>\n",
              "      <th>NoFunc</th>\n",
              "    </tr>\n",
              "  </thead>\n",
              "  <tbody>\n",
              "    <tr>\n",
              "      <th>0</th>\n",
              "      <td>2017-12-01</td>\n",
              "      <td>254</td>\n",
              "      <td>0</td>\n",
              "      <td>-5.2</td>\n",
              "      <td>37</td>\n",
              "      <td>2.2</td>\n",
              "      <td>2000</td>\n",
              "      <td>-17.6</td>\n",
              "      <td>0.0</td>\n",
              "      <td>0.0</td>\n",
              "      <td>0.0</td>\n",
              "      <td>Winter</td>\n",
              "      <td>0</td>\n",
              "      <td>Func</td>\n",
              "      <td>Tidak Hujan</td>\n",
              "      <td>Friday</td>\n",
              "      <td>12</td>\n",
              "      <td>0</td>\n",
              "      <td>0</td>\n",
              "      <td>1</td>\n",
              "      <td>0</td>\n",
              "      <td>0</td>\n",
              "      <td>0</td>\n",
              "      <td>0</td>\n",
              "      <td>0</td>\n",
              "      <td>0</td>\n",
              "      <td>1</td>\n",
              "      <td>0</td>\n",
              "    </tr>\n",
              "    <tr>\n",
              "      <th>1</th>\n",
              "      <td>2017-12-01</td>\n",
              "      <td>204</td>\n",
              "      <td>1</td>\n",
              "      <td>-5.5</td>\n",
              "      <td>38</td>\n",
              "      <td>0.8</td>\n",
              "      <td>2000</td>\n",
              "      <td>-17.6</td>\n",
              "      <td>0.0</td>\n",
              "      <td>0.0</td>\n",
              "      <td>0.0</td>\n",
              "      <td>Winter</td>\n",
              "      <td>0</td>\n",
              "      <td>Func</td>\n",
              "      <td>Tidak Hujan</td>\n",
              "      <td>Friday</td>\n",
              "      <td>12</td>\n",
              "      <td>0</td>\n",
              "      <td>0</td>\n",
              "      <td>1</td>\n",
              "      <td>0</td>\n",
              "      <td>0</td>\n",
              "      <td>0</td>\n",
              "      <td>0</td>\n",
              "      <td>0</td>\n",
              "      <td>0</td>\n",
              "      <td>1</td>\n",
              "      <td>0</td>\n",
              "    </tr>\n",
              "    <tr>\n",
              "      <th>2</th>\n",
              "      <td>2017-12-01</td>\n",
              "      <td>173</td>\n",
              "      <td>2</td>\n",
              "      <td>-6.0</td>\n",
              "      <td>39</td>\n",
              "      <td>1.0</td>\n",
              "      <td>2000</td>\n",
              "      <td>-17.7</td>\n",
              "      <td>0.0</td>\n",
              "      <td>0.0</td>\n",
              "      <td>0.0</td>\n",
              "      <td>Winter</td>\n",
              "      <td>0</td>\n",
              "      <td>Func</td>\n",
              "      <td>Tidak Hujan</td>\n",
              "      <td>Friday</td>\n",
              "      <td>12</td>\n",
              "      <td>0</td>\n",
              "      <td>0</td>\n",
              "      <td>1</td>\n",
              "      <td>0</td>\n",
              "      <td>0</td>\n",
              "      <td>0</td>\n",
              "      <td>0</td>\n",
              "      <td>0</td>\n",
              "      <td>0</td>\n",
              "      <td>1</td>\n",
              "      <td>0</td>\n",
              "    </tr>\n",
              "    <tr>\n",
              "      <th>3</th>\n",
              "      <td>2017-12-01</td>\n",
              "      <td>107</td>\n",
              "      <td>3</td>\n",
              "      <td>-6.2</td>\n",
              "      <td>40</td>\n",
              "      <td>0.9</td>\n",
              "      <td>2000</td>\n",
              "      <td>-17.6</td>\n",
              "      <td>0.0</td>\n",
              "      <td>0.0</td>\n",
              "      <td>0.0</td>\n",
              "      <td>Winter</td>\n",
              "      <td>0</td>\n",
              "      <td>Func</td>\n",
              "      <td>Tidak Hujan</td>\n",
              "      <td>Friday</td>\n",
              "      <td>12</td>\n",
              "      <td>0</td>\n",
              "      <td>0</td>\n",
              "      <td>1</td>\n",
              "      <td>0</td>\n",
              "      <td>0</td>\n",
              "      <td>0</td>\n",
              "      <td>0</td>\n",
              "      <td>0</td>\n",
              "      <td>0</td>\n",
              "      <td>1</td>\n",
              "      <td>0</td>\n",
              "    </tr>\n",
              "    <tr>\n",
              "      <th>4</th>\n",
              "      <td>2017-12-01</td>\n",
              "      <td>78</td>\n",
              "      <td>4</td>\n",
              "      <td>-6.0</td>\n",
              "      <td>36</td>\n",
              "      <td>2.3</td>\n",
              "      <td>2000</td>\n",
              "      <td>-18.6</td>\n",
              "      <td>0.0</td>\n",
              "      <td>0.0</td>\n",
              "      <td>0.0</td>\n",
              "      <td>Winter</td>\n",
              "      <td>0</td>\n",
              "      <td>Func</td>\n",
              "      <td>Tidak Hujan</td>\n",
              "      <td>Friday</td>\n",
              "      <td>12</td>\n",
              "      <td>0</td>\n",
              "      <td>0</td>\n",
              "      <td>1</td>\n",
              "      <td>0</td>\n",
              "      <td>0</td>\n",
              "      <td>0</td>\n",
              "      <td>0</td>\n",
              "      <td>0</td>\n",
              "      <td>0</td>\n",
              "      <td>1</td>\n",
              "      <td>0</td>\n",
              "    </tr>\n",
              "    <tr>\n",
              "      <th>...</th>\n",
              "      <td>...</td>\n",
              "      <td>...</td>\n",
              "      <td>...</td>\n",
              "      <td>...</td>\n",
              "      <td>...</td>\n",
              "      <td>...</td>\n",
              "      <td>...</td>\n",
              "      <td>...</td>\n",
              "      <td>...</td>\n",
              "      <td>...</td>\n",
              "      <td>...</td>\n",
              "      <td>...</td>\n",
              "      <td>...</td>\n",
              "      <td>...</td>\n",
              "      <td>...</td>\n",
              "      <td>...</td>\n",
              "      <td>...</td>\n",
              "      <td>...</td>\n",
              "      <td>...</td>\n",
              "      <td>...</td>\n",
              "      <td>...</td>\n",
              "      <td>...</td>\n",
              "      <td>...</td>\n",
              "      <td>...</td>\n",
              "      <td>...</td>\n",
              "      <td>...</td>\n",
              "      <td>...</td>\n",
              "      <td>...</td>\n",
              "    </tr>\n",
              "    <tr>\n",
              "      <th>8755</th>\n",
              "      <td>2018-11-30</td>\n",
              "      <td>1003</td>\n",
              "      <td>19</td>\n",
              "      <td>4.2</td>\n",
              "      <td>34</td>\n",
              "      <td>2.6</td>\n",
              "      <td>1894</td>\n",
              "      <td>-10.3</td>\n",
              "      <td>0.0</td>\n",
              "      <td>0.0</td>\n",
              "      <td>0.0</td>\n",
              "      <td>Autumn</td>\n",
              "      <td>0</td>\n",
              "      <td>Func</td>\n",
              "      <td>Tidak Hujan</td>\n",
              "      <td>Friday</td>\n",
              "      <td>11</td>\n",
              "      <td>1</td>\n",
              "      <td>1</td>\n",
              "      <td>1</td>\n",
              "      <td>0</td>\n",
              "      <td>0</td>\n",
              "      <td>0</td>\n",
              "      <td>0</td>\n",
              "      <td>0</td>\n",
              "      <td>0</td>\n",
              "      <td>1</td>\n",
              "      <td>0</td>\n",
              "    </tr>\n",
              "    <tr>\n",
              "      <th>8756</th>\n",
              "      <td>2018-11-30</td>\n",
              "      <td>764</td>\n",
              "      <td>20</td>\n",
              "      <td>3.4</td>\n",
              "      <td>37</td>\n",
              "      <td>2.3</td>\n",
              "      <td>2000</td>\n",
              "      <td>-9.9</td>\n",
              "      <td>0.0</td>\n",
              "      <td>0.0</td>\n",
              "      <td>0.0</td>\n",
              "      <td>Autumn</td>\n",
              "      <td>0</td>\n",
              "      <td>Func</td>\n",
              "      <td>Tidak Hujan</td>\n",
              "      <td>Friday</td>\n",
              "      <td>11</td>\n",
              "      <td>1</td>\n",
              "      <td>0</td>\n",
              "      <td>1</td>\n",
              "      <td>0</td>\n",
              "      <td>0</td>\n",
              "      <td>0</td>\n",
              "      <td>0</td>\n",
              "      <td>0</td>\n",
              "      <td>0</td>\n",
              "      <td>1</td>\n",
              "      <td>0</td>\n",
              "    </tr>\n",
              "    <tr>\n",
              "      <th>8757</th>\n",
              "      <td>2018-11-30</td>\n",
              "      <td>694</td>\n",
              "      <td>21</td>\n",
              "      <td>2.6</td>\n",
              "      <td>39</td>\n",
              "      <td>0.3</td>\n",
              "      <td>1968</td>\n",
              "      <td>-9.9</td>\n",
              "      <td>0.0</td>\n",
              "      <td>0.0</td>\n",
              "      <td>0.0</td>\n",
              "      <td>Autumn</td>\n",
              "      <td>0</td>\n",
              "      <td>Func</td>\n",
              "      <td>Tidak Hujan</td>\n",
              "      <td>Friday</td>\n",
              "      <td>11</td>\n",
              "      <td>1</td>\n",
              "      <td>0</td>\n",
              "      <td>1</td>\n",
              "      <td>0</td>\n",
              "      <td>0</td>\n",
              "      <td>0</td>\n",
              "      <td>0</td>\n",
              "      <td>0</td>\n",
              "      <td>0</td>\n",
              "      <td>1</td>\n",
              "      <td>0</td>\n",
              "    </tr>\n",
              "    <tr>\n",
              "      <th>8758</th>\n",
              "      <td>2018-11-30</td>\n",
              "      <td>712</td>\n",
              "      <td>22</td>\n",
              "      <td>2.1</td>\n",
              "      <td>41</td>\n",
              "      <td>1.0</td>\n",
              "      <td>1859</td>\n",
              "      <td>-9.8</td>\n",
              "      <td>0.0</td>\n",
              "      <td>0.0</td>\n",
              "      <td>0.0</td>\n",
              "      <td>Autumn</td>\n",
              "      <td>0</td>\n",
              "      <td>Func</td>\n",
              "      <td>Tidak Hujan</td>\n",
              "      <td>Friday</td>\n",
              "      <td>11</td>\n",
              "      <td>1</td>\n",
              "      <td>0</td>\n",
              "      <td>1</td>\n",
              "      <td>0</td>\n",
              "      <td>0</td>\n",
              "      <td>0</td>\n",
              "      <td>0</td>\n",
              "      <td>0</td>\n",
              "      <td>0</td>\n",
              "      <td>1</td>\n",
              "      <td>0</td>\n",
              "    </tr>\n",
              "    <tr>\n",
              "      <th>8759</th>\n",
              "      <td>2018-11-30</td>\n",
              "      <td>584</td>\n",
              "      <td>23</td>\n",
              "      <td>1.9</td>\n",
              "      <td>43</td>\n",
              "      <td>1.3</td>\n",
              "      <td>1909</td>\n",
              "      <td>-9.3</td>\n",
              "      <td>0.0</td>\n",
              "      <td>0.0</td>\n",
              "      <td>0.0</td>\n",
              "      <td>Autumn</td>\n",
              "      <td>0</td>\n",
              "      <td>Func</td>\n",
              "      <td>Tidak Hujan</td>\n",
              "      <td>Friday</td>\n",
              "      <td>11</td>\n",
              "      <td>1</td>\n",
              "      <td>0</td>\n",
              "      <td>1</td>\n",
              "      <td>0</td>\n",
              "      <td>0</td>\n",
              "      <td>0</td>\n",
              "      <td>0</td>\n",
              "      <td>0</td>\n",
              "      <td>0</td>\n",
              "      <td>1</td>\n",
              "      <td>0</td>\n",
              "    </tr>\n",
              "  </tbody>\n",
              "</table>\n",
              "<p>8760 rows × 28 columns</p>\n",
              "</div>"
            ],
            "text/plain": [
              "            Date  Rented Bike Count  Hour  ...  Wednesday  Func  NoFunc\n",
              "0     2017-12-01                254     0  ...          0     1       0\n",
              "1     2017-12-01                204     1  ...          0     1       0\n",
              "2     2017-12-01                173     2  ...          0     1       0\n",
              "3     2017-12-01                107     3  ...          0     1       0\n",
              "4     2017-12-01                 78     4  ...          0     1       0\n",
              "...          ...                ...   ...  ...        ...   ...     ...\n",
              "8755  2018-11-30               1003    19  ...          0     1       0\n",
              "8756  2018-11-30                764    20  ...          0     1       0\n",
              "8757  2018-11-30                694    21  ...          0     1       0\n",
              "8758  2018-11-30                712    22  ...          0     1       0\n",
              "8759  2018-11-30                584    23  ...          0     1       0\n",
              "\n",
              "[8760 rows x 28 columns]"
            ]
          },
          "execution_count": 91,
          "metadata": {
            "tags": []
          },
          "output_type": "execute_result"
        }
      ],
      "source": [
        "datafs.replace({'FunctioningDay' : {'No': \"NoFunc\" , 'Yes': \"Func\"}}, inplace=True)\n",
        "datafs = datafs.join(pd.get_dummies(datafs['FunctioningDay']))\n",
        "datafs"
      ]
    },
    {
      "cell_type": "code",
      "execution_count": null,
      "metadata": {
        "colab": {
          "base_uri": "https://localhost:8080/",
          "height": 638
        },
        "id": "eg3lwL7u9XrI",
        "outputId": "73ee1571-9c10-401c-9e66-6b04ed49a658"
      },
      "outputs": [
        {
          "data": {
            "text/html": [
              "<div>\n",
              "<style scoped>\n",
              "    .dataframe tbody tr th:only-of-type {\n",
              "        vertical-align: middle;\n",
              "    }\n",
              "\n",
              "    .dataframe tbody tr th {\n",
              "        vertical-align: top;\n",
              "    }\n",
              "\n",
              "    .dataframe thead th {\n",
              "        text-align: right;\n",
              "    }\n",
              "</style>\n",
              "<table border=\"1\" class=\"dataframe\">\n",
              "  <thead>\n",
              "    <tr style=\"text-align: right;\">\n",
              "      <th></th>\n",
              "      <th>Date</th>\n",
              "      <th>Rented Bike Count</th>\n",
              "      <th>Hour</th>\n",
              "      <th>Temperature</th>\n",
              "      <th>Humidity</th>\n",
              "      <th>Wind speed</th>\n",
              "      <th>Visibility</th>\n",
              "      <th>Dew point temperature</th>\n",
              "      <th>Solar Radiation</th>\n",
              "      <th>Rainfall</th>\n",
              "      <th>Snowfall</th>\n",
              "      <th>Seasons</th>\n",
              "      <th>Holiday</th>\n",
              "      <th>FunctioningDay</th>\n",
              "      <th>KategoriHujan</th>\n",
              "      <th>weekday</th>\n",
              "      <th>month</th>\n",
              "      <th>year</th>\n",
              "      <th>Count</th>\n",
              "      <th>Friday</th>\n",
              "      <th>Monday</th>\n",
              "      <th>Saturday</th>\n",
              "      <th>Sunday</th>\n",
              "      <th>Thursday</th>\n",
              "      <th>Tuesday</th>\n",
              "      <th>Wednesday</th>\n",
              "      <th>Func</th>\n",
              "      <th>NoFunc</th>\n",
              "      <th>Autumn</th>\n",
              "      <th>Spring</th>\n",
              "      <th>Summer</th>\n",
              "      <th>Winter</th>\n",
              "    </tr>\n",
              "  </thead>\n",
              "  <tbody>\n",
              "    <tr>\n",
              "      <th>0</th>\n",
              "      <td>2017-12-01</td>\n",
              "      <td>254</td>\n",
              "      <td>0</td>\n",
              "      <td>-5.2</td>\n",
              "      <td>37</td>\n",
              "      <td>2.2</td>\n",
              "      <td>2000</td>\n",
              "      <td>-17.6</td>\n",
              "      <td>0.0</td>\n",
              "      <td>0.0</td>\n",
              "      <td>0.0</td>\n",
              "      <td>Winter</td>\n",
              "      <td>0</td>\n",
              "      <td>Func</td>\n",
              "      <td>Tidak Hujan</td>\n",
              "      <td>Friday</td>\n",
              "      <td>12</td>\n",
              "      <td>0</td>\n",
              "      <td>0</td>\n",
              "      <td>1</td>\n",
              "      <td>0</td>\n",
              "      <td>0</td>\n",
              "      <td>0</td>\n",
              "      <td>0</td>\n",
              "      <td>0</td>\n",
              "      <td>0</td>\n",
              "      <td>1</td>\n",
              "      <td>0</td>\n",
              "      <td>0</td>\n",
              "      <td>0</td>\n",
              "      <td>0</td>\n",
              "      <td>1</td>\n",
              "    </tr>\n",
              "    <tr>\n",
              "      <th>1</th>\n",
              "      <td>2017-12-01</td>\n",
              "      <td>204</td>\n",
              "      <td>1</td>\n",
              "      <td>-5.5</td>\n",
              "      <td>38</td>\n",
              "      <td>0.8</td>\n",
              "      <td>2000</td>\n",
              "      <td>-17.6</td>\n",
              "      <td>0.0</td>\n",
              "      <td>0.0</td>\n",
              "      <td>0.0</td>\n",
              "      <td>Winter</td>\n",
              "      <td>0</td>\n",
              "      <td>Func</td>\n",
              "      <td>Tidak Hujan</td>\n",
              "      <td>Friday</td>\n",
              "      <td>12</td>\n",
              "      <td>0</td>\n",
              "      <td>0</td>\n",
              "      <td>1</td>\n",
              "      <td>0</td>\n",
              "      <td>0</td>\n",
              "      <td>0</td>\n",
              "      <td>0</td>\n",
              "      <td>0</td>\n",
              "      <td>0</td>\n",
              "      <td>1</td>\n",
              "      <td>0</td>\n",
              "      <td>0</td>\n",
              "      <td>0</td>\n",
              "      <td>0</td>\n",
              "      <td>1</td>\n",
              "    </tr>\n",
              "    <tr>\n",
              "      <th>2</th>\n",
              "      <td>2017-12-01</td>\n",
              "      <td>173</td>\n",
              "      <td>2</td>\n",
              "      <td>-6.0</td>\n",
              "      <td>39</td>\n",
              "      <td>1.0</td>\n",
              "      <td>2000</td>\n",
              "      <td>-17.7</td>\n",
              "      <td>0.0</td>\n",
              "      <td>0.0</td>\n",
              "      <td>0.0</td>\n",
              "      <td>Winter</td>\n",
              "      <td>0</td>\n",
              "      <td>Func</td>\n",
              "      <td>Tidak Hujan</td>\n",
              "      <td>Friday</td>\n",
              "      <td>12</td>\n",
              "      <td>0</td>\n",
              "      <td>0</td>\n",
              "      <td>1</td>\n",
              "      <td>0</td>\n",
              "      <td>0</td>\n",
              "      <td>0</td>\n",
              "      <td>0</td>\n",
              "      <td>0</td>\n",
              "      <td>0</td>\n",
              "      <td>1</td>\n",
              "      <td>0</td>\n",
              "      <td>0</td>\n",
              "      <td>0</td>\n",
              "      <td>0</td>\n",
              "      <td>1</td>\n",
              "    </tr>\n",
              "    <tr>\n",
              "      <th>3</th>\n",
              "      <td>2017-12-01</td>\n",
              "      <td>107</td>\n",
              "      <td>3</td>\n",
              "      <td>-6.2</td>\n",
              "      <td>40</td>\n",
              "      <td>0.9</td>\n",
              "      <td>2000</td>\n",
              "      <td>-17.6</td>\n",
              "      <td>0.0</td>\n",
              "      <td>0.0</td>\n",
              "      <td>0.0</td>\n",
              "      <td>Winter</td>\n",
              "      <td>0</td>\n",
              "      <td>Func</td>\n",
              "      <td>Tidak Hujan</td>\n",
              "      <td>Friday</td>\n",
              "      <td>12</td>\n",
              "      <td>0</td>\n",
              "      <td>0</td>\n",
              "      <td>1</td>\n",
              "      <td>0</td>\n",
              "      <td>0</td>\n",
              "      <td>0</td>\n",
              "      <td>0</td>\n",
              "      <td>0</td>\n",
              "      <td>0</td>\n",
              "      <td>1</td>\n",
              "      <td>0</td>\n",
              "      <td>0</td>\n",
              "      <td>0</td>\n",
              "      <td>0</td>\n",
              "      <td>1</td>\n",
              "    </tr>\n",
              "    <tr>\n",
              "      <th>4</th>\n",
              "      <td>2017-12-01</td>\n",
              "      <td>78</td>\n",
              "      <td>4</td>\n",
              "      <td>-6.0</td>\n",
              "      <td>36</td>\n",
              "      <td>2.3</td>\n",
              "      <td>2000</td>\n",
              "      <td>-18.6</td>\n",
              "      <td>0.0</td>\n",
              "      <td>0.0</td>\n",
              "      <td>0.0</td>\n",
              "      <td>Winter</td>\n",
              "      <td>0</td>\n",
              "      <td>Func</td>\n",
              "      <td>Tidak Hujan</td>\n",
              "      <td>Friday</td>\n",
              "      <td>12</td>\n",
              "      <td>0</td>\n",
              "      <td>0</td>\n",
              "      <td>1</td>\n",
              "      <td>0</td>\n",
              "      <td>0</td>\n",
              "      <td>0</td>\n",
              "      <td>0</td>\n",
              "      <td>0</td>\n",
              "      <td>0</td>\n",
              "      <td>1</td>\n",
              "      <td>0</td>\n",
              "      <td>0</td>\n",
              "      <td>0</td>\n",
              "      <td>0</td>\n",
              "      <td>1</td>\n",
              "    </tr>\n",
              "    <tr>\n",
              "      <th>...</th>\n",
              "      <td>...</td>\n",
              "      <td>...</td>\n",
              "      <td>...</td>\n",
              "      <td>...</td>\n",
              "      <td>...</td>\n",
              "      <td>...</td>\n",
              "      <td>...</td>\n",
              "      <td>...</td>\n",
              "      <td>...</td>\n",
              "      <td>...</td>\n",
              "      <td>...</td>\n",
              "      <td>...</td>\n",
              "      <td>...</td>\n",
              "      <td>...</td>\n",
              "      <td>...</td>\n",
              "      <td>...</td>\n",
              "      <td>...</td>\n",
              "      <td>...</td>\n",
              "      <td>...</td>\n",
              "      <td>...</td>\n",
              "      <td>...</td>\n",
              "      <td>...</td>\n",
              "      <td>...</td>\n",
              "      <td>...</td>\n",
              "      <td>...</td>\n",
              "      <td>...</td>\n",
              "      <td>...</td>\n",
              "      <td>...</td>\n",
              "      <td>...</td>\n",
              "      <td>...</td>\n",
              "      <td>...</td>\n",
              "      <td>...</td>\n",
              "    </tr>\n",
              "    <tr>\n",
              "      <th>8755</th>\n",
              "      <td>2018-11-30</td>\n",
              "      <td>1003</td>\n",
              "      <td>19</td>\n",
              "      <td>4.2</td>\n",
              "      <td>34</td>\n",
              "      <td>2.6</td>\n",
              "      <td>1894</td>\n",
              "      <td>-10.3</td>\n",
              "      <td>0.0</td>\n",
              "      <td>0.0</td>\n",
              "      <td>0.0</td>\n",
              "      <td>Autumn</td>\n",
              "      <td>0</td>\n",
              "      <td>Func</td>\n",
              "      <td>Tidak Hujan</td>\n",
              "      <td>Friday</td>\n",
              "      <td>11</td>\n",
              "      <td>1</td>\n",
              "      <td>1</td>\n",
              "      <td>1</td>\n",
              "      <td>0</td>\n",
              "      <td>0</td>\n",
              "      <td>0</td>\n",
              "      <td>0</td>\n",
              "      <td>0</td>\n",
              "      <td>0</td>\n",
              "      <td>1</td>\n",
              "      <td>0</td>\n",
              "      <td>1</td>\n",
              "      <td>0</td>\n",
              "      <td>0</td>\n",
              "      <td>0</td>\n",
              "    </tr>\n",
              "    <tr>\n",
              "      <th>8756</th>\n",
              "      <td>2018-11-30</td>\n",
              "      <td>764</td>\n",
              "      <td>20</td>\n",
              "      <td>3.4</td>\n",
              "      <td>37</td>\n",
              "      <td>2.3</td>\n",
              "      <td>2000</td>\n",
              "      <td>-9.9</td>\n",
              "      <td>0.0</td>\n",
              "      <td>0.0</td>\n",
              "      <td>0.0</td>\n",
              "      <td>Autumn</td>\n",
              "      <td>0</td>\n",
              "      <td>Func</td>\n",
              "      <td>Tidak Hujan</td>\n",
              "      <td>Friday</td>\n",
              "      <td>11</td>\n",
              "      <td>1</td>\n",
              "      <td>0</td>\n",
              "      <td>1</td>\n",
              "      <td>0</td>\n",
              "      <td>0</td>\n",
              "      <td>0</td>\n",
              "      <td>0</td>\n",
              "      <td>0</td>\n",
              "      <td>0</td>\n",
              "      <td>1</td>\n",
              "      <td>0</td>\n",
              "      <td>1</td>\n",
              "      <td>0</td>\n",
              "      <td>0</td>\n",
              "      <td>0</td>\n",
              "    </tr>\n",
              "    <tr>\n",
              "      <th>8757</th>\n",
              "      <td>2018-11-30</td>\n",
              "      <td>694</td>\n",
              "      <td>21</td>\n",
              "      <td>2.6</td>\n",
              "      <td>39</td>\n",
              "      <td>0.3</td>\n",
              "      <td>1968</td>\n",
              "      <td>-9.9</td>\n",
              "      <td>0.0</td>\n",
              "      <td>0.0</td>\n",
              "      <td>0.0</td>\n",
              "      <td>Autumn</td>\n",
              "      <td>0</td>\n",
              "      <td>Func</td>\n",
              "      <td>Tidak Hujan</td>\n",
              "      <td>Friday</td>\n",
              "      <td>11</td>\n",
              "      <td>1</td>\n",
              "      <td>0</td>\n",
              "      <td>1</td>\n",
              "      <td>0</td>\n",
              "      <td>0</td>\n",
              "      <td>0</td>\n",
              "      <td>0</td>\n",
              "      <td>0</td>\n",
              "      <td>0</td>\n",
              "      <td>1</td>\n",
              "      <td>0</td>\n",
              "      <td>1</td>\n",
              "      <td>0</td>\n",
              "      <td>0</td>\n",
              "      <td>0</td>\n",
              "    </tr>\n",
              "    <tr>\n",
              "      <th>8758</th>\n",
              "      <td>2018-11-30</td>\n",
              "      <td>712</td>\n",
              "      <td>22</td>\n",
              "      <td>2.1</td>\n",
              "      <td>41</td>\n",
              "      <td>1.0</td>\n",
              "      <td>1859</td>\n",
              "      <td>-9.8</td>\n",
              "      <td>0.0</td>\n",
              "      <td>0.0</td>\n",
              "      <td>0.0</td>\n",
              "      <td>Autumn</td>\n",
              "      <td>0</td>\n",
              "      <td>Func</td>\n",
              "      <td>Tidak Hujan</td>\n",
              "      <td>Friday</td>\n",
              "      <td>11</td>\n",
              "      <td>1</td>\n",
              "      <td>0</td>\n",
              "      <td>1</td>\n",
              "      <td>0</td>\n",
              "      <td>0</td>\n",
              "      <td>0</td>\n",
              "      <td>0</td>\n",
              "      <td>0</td>\n",
              "      <td>0</td>\n",
              "      <td>1</td>\n",
              "      <td>0</td>\n",
              "      <td>1</td>\n",
              "      <td>0</td>\n",
              "      <td>0</td>\n",
              "      <td>0</td>\n",
              "    </tr>\n",
              "    <tr>\n",
              "      <th>8759</th>\n",
              "      <td>2018-11-30</td>\n",
              "      <td>584</td>\n",
              "      <td>23</td>\n",
              "      <td>1.9</td>\n",
              "      <td>43</td>\n",
              "      <td>1.3</td>\n",
              "      <td>1909</td>\n",
              "      <td>-9.3</td>\n",
              "      <td>0.0</td>\n",
              "      <td>0.0</td>\n",
              "      <td>0.0</td>\n",
              "      <td>Autumn</td>\n",
              "      <td>0</td>\n",
              "      <td>Func</td>\n",
              "      <td>Tidak Hujan</td>\n",
              "      <td>Friday</td>\n",
              "      <td>11</td>\n",
              "      <td>1</td>\n",
              "      <td>0</td>\n",
              "      <td>1</td>\n",
              "      <td>0</td>\n",
              "      <td>0</td>\n",
              "      <td>0</td>\n",
              "      <td>0</td>\n",
              "      <td>0</td>\n",
              "      <td>0</td>\n",
              "      <td>1</td>\n",
              "      <td>0</td>\n",
              "      <td>1</td>\n",
              "      <td>0</td>\n",
              "      <td>0</td>\n",
              "      <td>0</td>\n",
              "    </tr>\n",
              "  </tbody>\n",
              "</table>\n",
              "<p>8760 rows × 32 columns</p>\n",
              "</div>"
            ],
            "text/plain": [
              "            Date  Rented Bike Count  Hour  ...  Spring  Summer  Winter\n",
              "0     2017-12-01                254     0  ...       0       0       1\n",
              "1     2017-12-01                204     1  ...       0       0       1\n",
              "2     2017-12-01                173     2  ...       0       0       1\n",
              "3     2017-12-01                107     3  ...       0       0       1\n",
              "4     2017-12-01                 78     4  ...       0       0       1\n",
              "...          ...                ...   ...  ...     ...     ...     ...\n",
              "8755  2018-11-30               1003    19  ...       0       0       0\n",
              "8756  2018-11-30                764    20  ...       0       0       0\n",
              "8757  2018-11-30                694    21  ...       0       0       0\n",
              "8758  2018-11-30                712    22  ...       0       0       0\n",
              "8759  2018-11-30                584    23  ...       0       0       0\n",
              "\n",
              "[8760 rows x 32 columns]"
            ]
          },
          "execution_count": 92,
          "metadata": {
            "tags": []
          },
          "output_type": "execute_result"
        }
      ],
      "source": [
        "datafs = datafs.join(pd.get_dummies(datafs['Seasons']))\n",
        "datafs"
      ]
    },
    {
      "cell_type": "code",
      "execution_count": null,
      "metadata": {
        "id": "F0UT2QdqTR98"
      },
      "outputs": [],
      "source": [
        "datacop = datcop.copy()"
      ]
    },
    {
      "cell_type": "code",
      "execution_count": null,
      "metadata": {
        "colab": {
          "base_uri": "https://localhost:8080/"
        },
        "id": "2bRVr3lQx4O4",
        "outputId": "64fa7377-d134-4194-f8b5-357d9c059324"
      },
      "outputs": [
        {
          "data": {
            "text/plain": [
              "array(['Winter', 'Spring', 'Summer', 'Autumn'], dtype=object)"
            ]
          },
          "execution_count": 94,
          "metadata": {
            "tags": []
          },
          "output_type": "execute_result"
        }
      ],
      "source": [
        "datacop['Seasons'].unique()"
      ]
    },
    {
      "cell_type": "code",
      "execution_count": null,
      "metadata": {
        "colab": {
          "base_uri": "https://localhost:8080/",
          "height": 638
        },
        "id": "4zKzQN_3zzaS",
        "outputId": "46fa6dcb-2821-4b62-84b6-98563d1307c0"
      },
      "outputs": [
        {
          "data": {
            "text/html": [
              "<div>\n",
              "<style scoped>\n",
              "    .dataframe tbody tr th:only-of-type {\n",
              "        vertical-align: middle;\n",
              "    }\n",
              "\n",
              "    .dataframe tbody tr th {\n",
              "        vertical-align: top;\n",
              "    }\n",
              "\n",
              "    .dataframe thead th {\n",
              "        text-align: right;\n",
              "    }\n",
              "</style>\n",
              "<table border=\"1\" class=\"dataframe\">\n",
              "  <thead>\n",
              "    <tr style=\"text-align: right;\">\n",
              "      <th></th>\n",
              "      <th>Date</th>\n",
              "      <th>Rented Bike Count</th>\n",
              "      <th>Hour</th>\n",
              "      <th>Temperature</th>\n",
              "      <th>Humidity</th>\n",
              "      <th>Wind speed</th>\n",
              "      <th>Visibility</th>\n",
              "      <th>Dew point temperature</th>\n",
              "      <th>Solar Radiation</th>\n",
              "      <th>Rainfall</th>\n",
              "      <th>Snowfall</th>\n",
              "      <th>Seasons</th>\n",
              "      <th>Holiday</th>\n",
              "      <th>FunctioningDay</th>\n",
              "      <th>KategoriHujan</th>\n",
              "      <th>weekday</th>\n",
              "      <th>month</th>\n",
              "      <th>year</th>\n",
              "      <th>Count</th>\n",
              "    </tr>\n",
              "  </thead>\n",
              "  <tbody>\n",
              "    <tr>\n",
              "      <th>0</th>\n",
              "      <td>2017-12-01</td>\n",
              "      <td>254</td>\n",
              "      <td>0</td>\n",
              "      <td>-5.2</td>\n",
              "      <td>37</td>\n",
              "      <td>2.2</td>\n",
              "      <td>2000</td>\n",
              "      <td>-17.6</td>\n",
              "      <td>0.0</td>\n",
              "      <td>0.0</td>\n",
              "      <td>0.0</td>\n",
              "      <td>1</td>\n",
              "      <td>0</td>\n",
              "      <td>Yes</td>\n",
              "      <td>Tidak Hujan</td>\n",
              "      <td>Friday</td>\n",
              "      <td>12</td>\n",
              "      <td>0</td>\n",
              "      <td>0</td>\n",
              "    </tr>\n",
              "    <tr>\n",
              "      <th>1</th>\n",
              "      <td>2017-12-01</td>\n",
              "      <td>204</td>\n",
              "      <td>1</td>\n",
              "      <td>-5.5</td>\n",
              "      <td>38</td>\n",
              "      <td>0.8</td>\n",
              "      <td>2000</td>\n",
              "      <td>-17.6</td>\n",
              "      <td>0.0</td>\n",
              "      <td>0.0</td>\n",
              "      <td>0.0</td>\n",
              "      <td>1</td>\n",
              "      <td>0</td>\n",
              "      <td>Yes</td>\n",
              "      <td>Tidak Hujan</td>\n",
              "      <td>Friday</td>\n",
              "      <td>12</td>\n",
              "      <td>0</td>\n",
              "      <td>0</td>\n",
              "    </tr>\n",
              "    <tr>\n",
              "      <th>2</th>\n",
              "      <td>2017-12-01</td>\n",
              "      <td>173</td>\n",
              "      <td>2</td>\n",
              "      <td>-6.0</td>\n",
              "      <td>39</td>\n",
              "      <td>1.0</td>\n",
              "      <td>2000</td>\n",
              "      <td>-17.7</td>\n",
              "      <td>0.0</td>\n",
              "      <td>0.0</td>\n",
              "      <td>0.0</td>\n",
              "      <td>1</td>\n",
              "      <td>0</td>\n",
              "      <td>Yes</td>\n",
              "      <td>Tidak Hujan</td>\n",
              "      <td>Friday</td>\n",
              "      <td>12</td>\n",
              "      <td>0</td>\n",
              "      <td>0</td>\n",
              "    </tr>\n",
              "    <tr>\n",
              "      <th>3</th>\n",
              "      <td>2017-12-01</td>\n",
              "      <td>107</td>\n",
              "      <td>3</td>\n",
              "      <td>-6.2</td>\n",
              "      <td>40</td>\n",
              "      <td>0.9</td>\n",
              "      <td>2000</td>\n",
              "      <td>-17.6</td>\n",
              "      <td>0.0</td>\n",
              "      <td>0.0</td>\n",
              "      <td>0.0</td>\n",
              "      <td>1</td>\n",
              "      <td>0</td>\n",
              "      <td>Yes</td>\n",
              "      <td>Tidak Hujan</td>\n",
              "      <td>Friday</td>\n",
              "      <td>12</td>\n",
              "      <td>0</td>\n",
              "      <td>0</td>\n",
              "    </tr>\n",
              "    <tr>\n",
              "      <th>4</th>\n",
              "      <td>2017-12-01</td>\n",
              "      <td>78</td>\n",
              "      <td>4</td>\n",
              "      <td>-6.0</td>\n",
              "      <td>36</td>\n",
              "      <td>2.3</td>\n",
              "      <td>2000</td>\n",
              "      <td>-18.6</td>\n",
              "      <td>0.0</td>\n",
              "      <td>0.0</td>\n",
              "      <td>0.0</td>\n",
              "      <td>1</td>\n",
              "      <td>0</td>\n",
              "      <td>Yes</td>\n",
              "      <td>Tidak Hujan</td>\n",
              "      <td>Friday</td>\n",
              "      <td>12</td>\n",
              "      <td>0</td>\n",
              "      <td>0</td>\n",
              "    </tr>\n",
              "    <tr>\n",
              "      <th>...</th>\n",
              "      <td>...</td>\n",
              "      <td>...</td>\n",
              "      <td>...</td>\n",
              "      <td>...</td>\n",
              "      <td>...</td>\n",
              "      <td>...</td>\n",
              "      <td>...</td>\n",
              "      <td>...</td>\n",
              "      <td>...</td>\n",
              "      <td>...</td>\n",
              "      <td>...</td>\n",
              "      <td>...</td>\n",
              "      <td>...</td>\n",
              "      <td>...</td>\n",
              "      <td>...</td>\n",
              "      <td>...</td>\n",
              "      <td>...</td>\n",
              "      <td>...</td>\n",
              "      <td>...</td>\n",
              "    </tr>\n",
              "    <tr>\n",
              "      <th>8755</th>\n",
              "      <td>2018-11-30</td>\n",
              "      <td>1003</td>\n",
              "      <td>19</td>\n",
              "      <td>4.2</td>\n",
              "      <td>34</td>\n",
              "      <td>2.6</td>\n",
              "      <td>1894</td>\n",
              "      <td>-10.3</td>\n",
              "      <td>0.0</td>\n",
              "      <td>0.0</td>\n",
              "      <td>0.0</td>\n",
              "      <td>4</td>\n",
              "      <td>0</td>\n",
              "      <td>Yes</td>\n",
              "      <td>Tidak Hujan</td>\n",
              "      <td>Friday</td>\n",
              "      <td>11</td>\n",
              "      <td>1</td>\n",
              "      <td>1</td>\n",
              "    </tr>\n",
              "    <tr>\n",
              "      <th>8756</th>\n",
              "      <td>2018-11-30</td>\n",
              "      <td>764</td>\n",
              "      <td>20</td>\n",
              "      <td>3.4</td>\n",
              "      <td>37</td>\n",
              "      <td>2.3</td>\n",
              "      <td>2000</td>\n",
              "      <td>-9.9</td>\n",
              "      <td>0.0</td>\n",
              "      <td>0.0</td>\n",
              "      <td>0.0</td>\n",
              "      <td>4</td>\n",
              "      <td>0</td>\n",
              "      <td>Yes</td>\n",
              "      <td>Tidak Hujan</td>\n",
              "      <td>Friday</td>\n",
              "      <td>11</td>\n",
              "      <td>1</td>\n",
              "      <td>0</td>\n",
              "    </tr>\n",
              "    <tr>\n",
              "      <th>8757</th>\n",
              "      <td>2018-11-30</td>\n",
              "      <td>694</td>\n",
              "      <td>21</td>\n",
              "      <td>2.6</td>\n",
              "      <td>39</td>\n",
              "      <td>0.3</td>\n",
              "      <td>1968</td>\n",
              "      <td>-9.9</td>\n",
              "      <td>0.0</td>\n",
              "      <td>0.0</td>\n",
              "      <td>0.0</td>\n",
              "      <td>4</td>\n",
              "      <td>0</td>\n",
              "      <td>Yes</td>\n",
              "      <td>Tidak Hujan</td>\n",
              "      <td>Friday</td>\n",
              "      <td>11</td>\n",
              "      <td>1</td>\n",
              "      <td>0</td>\n",
              "    </tr>\n",
              "    <tr>\n",
              "      <th>8758</th>\n",
              "      <td>2018-11-30</td>\n",
              "      <td>712</td>\n",
              "      <td>22</td>\n",
              "      <td>2.1</td>\n",
              "      <td>41</td>\n",
              "      <td>1.0</td>\n",
              "      <td>1859</td>\n",
              "      <td>-9.8</td>\n",
              "      <td>0.0</td>\n",
              "      <td>0.0</td>\n",
              "      <td>0.0</td>\n",
              "      <td>4</td>\n",
              "      <td>0</td>\n",
              "      <td>Yes</td>\n",
              "      <td>Tidak Hujan</td>\n",
              "      <td>Friday</td>\n",
              "      <td>11</td>\n",
              "      <td>1</td>\n",
              "      <td>0</td>\n",
              "    </tr>\n",
              "    <tr>\n",
              "      <th>8759</th>\n",
              "      <td>2018-11-30</td>\n",
              "      <td>584</td>\n",
              "      <td>23</td>\n",
              "      <td>1.9</td>\n",
              "      <td>43</td>\n",
              "      <td>1.3</td>\n",
              "      <td>1909</td>\n",
              "      <td>-9.3</td>\n",
              "      <td>0.0</td>\n",
              "      <td>0.0</td>\n",
              "      <td>0.0</td>\n",
              "      <td>4</td>\n",
              "      <td>0</td>\n",
              "      <td>Yes</td>\n",
              "      <td>Tidak Hujan</td>\n",
              "      <td>Friday</td>\n",
              "      <td>11</td>\n",
              "      <td>1</td>\n",
              "      <td>0</td>\n",
              "    </tr>\n",
              "  </tbody>\n",
              "</table>\n",
              "<p>8760 rows × 19 columns</p>\n",
              "</div>"
            ],
            "text/plain": [
              "            Date  Rented Bike Count  Hour  ...  month  year  Count\n",
              "0     2017-12-01                254     0  ...     12     0      0\n",
              "1     2017-12-01                204     1  ...     12     0      0\n",
              "2     2017-12-01                173     2  ...     12     0      0\n",
              "3     2017-12-01                107     3  ...     12     0      0\n",
              "4     2017-12-01                 78     4  ...     12     0      0\n",
              "...          ...                ...   ...  ...    ...   ...    ...\n",
              "8755  2018-11-30               1003    19  ...     11     1      1\n",
              "8756  2018-11-30                764    20  ...     11     1      0\n",
              "8757  2018-11-30                694    21  ...     11     1      0\n",
              "8758  2018-11-30                712    22  ...     11     1      0\n",
              "8759  2018-11-30                584    23  ...     11     1      0\n",
              "\n",
              "[8760 rows x 19 columns]"
            ]
          },
          "execution_count": 95,
          "metadata": {
            "tags": []
          },
          "output_type": "execute_result"
        }
      ],
      "source": [
        "datacop.replace({'Seasons' : {'Winter': 1 , 'Spring': 2, 'Summer': 3, 'Autumn': 4}}, inplace=True)\n",
        "datacop"
      ]
    },
    {
      "cell_type": "code",
      "execution_count": null,
      "metadata": {
        "colab": {
          "base_uri": "https://localhost:8080/",
          "height": 578
        },
        "id": "2jXueLro8dQP",
        "outputId": "03a21310-6fd3-4455-82f6-a2909f616540"
      },
      "outputs": [
        {
          "data": {
            "text/html": [
              "<div>\n",
              "<style scoped>\n",
              "    .dataframe tbody tr th:only-of-type {\n",
              "        vertical-align: middle;\n",
              "    }\n",
              "\n",
              "    .dataframe tbody tr th {\n",
              "        vertical-align: top;\n",
              "    }\n",
              "\n",
              "    .dataframe thead th {\n",
              "        text-align: right;\n",
              "    }\n",
              "</style>\n",
              "<table border=\"1\" class=\"dataframe\">\n",
              "  <thead>\n",
              "    <tr style=\"text-align: right;\">\n",
              "      <th></th>\n",
              "      <th>Date</th>\n",
              "      <th>Rented Bike Count</th>\n",
              "      <th>Hour</th>\n",
              "      <th>Temperature</th>\n",
              "      <th>Humidity</th>\n",
              "      <th>Wind speed</th>\n",
              "      <th>Visibility</th>\n",
              "      <th>Dew point temperature</th>\n",
              "      <th>Solar Radiation</th>\n",
              "      <th>Rainfall</th>\n",
              "      <th>Snowfall</th>\n",
              "      <th>Seasons</th>\n",
              "      <th>Holiday</th>\n",
              "      <th>FunctioningDay</th>\n",
              "      <th>KategoriHujan</th>\n",
              "      <th>weekday</th>\n",
              "      <th>month</th>\n",
              "      <th>year</th>\n",
              "      <th>Count</th>\n",
              "    </tr>\n",
              "  </thead>\n",
              "  <tbody>\n",
              "    <tr>\n",
              "      <th>0</th>\n",
              "      <td>2017-12-01</td>\n",
              "      <td>254</td>\n",
              "      <td>0</td>\n",
              "      <td>-5.2</td>\n",
              "      <td>37</td>\n",
              "      <td>2.2</td>\n",
              "      <td>2000</td>\n",
              "      <td>-17.6</td>\n",
              "      <td>0.00</td>\n",
              "      <td>0.0</td>\n",
              "      <td>0.0</td>\n",
              "      <td>1</td>\n",
              "      <td>0</td>\n",
              "      <td>1</td>\n",
              "      <td>Tidak Hujan</td>\n",
              "      <td>Friday</td>\n",
              "      <td>12</td>\n",
              "      <td>0</td>\n",
              "      <td>0</td>\n",
              "    </tr>\n",
              "    <tr>\n",
              "      <th>1</th>\n",
              "      <td>2017-12-01</td>\n",
              "      <td>204</td>\n",
              "      <td>1</td>\n",
              "      <td>-5.5</td>\n",
              "      <td>38</td>\n",
              "      <td>0.8</td>\n",
              "      <td>2000</td>\n",
              "      <td>-17.6</td>\n",
              "      <td>0.00</td>\n",
              "      <td>0.0</td>\n",
              "      <td>0.0</td>\n",
              "      <td>1</td>\n",
              "      <td>0</td>\n",
              "      <td>1</td>\n",
              "      <td>Tidak Hujan</td>\n",
              "      <td>Friday</td>\n",
              "      <td>12</td>\n",
              "      <td>0</td>\n",
              "      <td>0</td>\n",
              "    </tr>\n",
              "    <tr>\n",
              "      <th>2</th>\n",
              "      <td>2017-12-01</td>\n",
              "      <td>173</td>\n",
              "      <td>2</td>\n",
              "      <td>-6.0</td>\n",
              "      <td>39</td>\n",
              "      <td>1.0</td>\n",
              "      <td>2000</td>\n",
              "      <td>-17.7</td>\n",
              "      <td>0.00</td>\n",
              "      <td>0.0</td>\n",
              "      <td>0.0</td>\n",
              "      <td>1</td>\n",
              "      <td>0</td>\n",
              "      <td>1</td>\n",
              "      <td>Tidak Hujan</td>\n",
              "      <td>Friday</td>\n",
              "      <td>12</td>\n",
              "      <td>0</td>\n",
              "      <td>0</td>\n",
              "    </tr>\n",
              "    <tr>\n",
              "      <th>3</th>\n",
              "      <td>2017-12-01</td>\n",
              "      <td>107</td>\n",
              "      <td>3</td>\n",
              "      <td>-6.2</td>\n",
              "      <td>40</td>\n",
              "      <td>0.9</td>\n",
              "      <td>2000</td>\n",
              "      <td>-17.6</td>\n",
              "      <td>0.00</td>\n",
              "      <td>0.0</td>\n",
              "      <td>0.0</td>\n",
              "      <td>1</td>\n",
              "      <td>0</td>\n",
              "      <td>1</td>\n",
              "      <td>Tidak Hujan</td>\n",
              "      <td>Friday</td>\n",
              "      <td>12</td>\n",
              "      <td>0</td>\n",
              "      <td>0</td>\n",
              "    </tr>\n",
              "    <tr>\n",
              "      <th>4</th>\n",
              "      <td>2017-12-01</td>\n",
              "      <td>78</td>\n",
              "      <td>4</td>\n",
              "      <td>-6.0</td>\n",
              "      <td>36</td>\n",
              "      <td>2.3</td>\n",
              "      <td>2000</td>\n",
              "      <td>-18.6</td>\n",
              "      <td>0.00</td>\n",
              "      <td>0.0</td>\n",
              "      <td>0.0</td>\n",
              "      <td>1</td>\n",
              "      <td>0</td>\n",
              "      <td>1</td>\n",
              "      <td>Tidak Hujan</td>\n",
              "      <td>Friday</td>\n",
              "      <td>12</td>\n",
              "      <td>0</td>\n",
              "      <td>0</td>\n",
              "    </tr>\n",
              "    <tr>\n",
              "      <th>5</th>\n",
              "      <td>2017-12-01</td>\n",
              "      <td>100</td>\n",
              "      <td>5</td>\n",
              "      <td>-6.4</td>\n",
              "      <td>37</td>\n",
              "      <td>1.5</td>\n",
              "      <td>2000</td>\n",
              "      <td>-18.7</td>\n",
              "      <td>0.00</td>\n",
              "      <td>0.0</td>\n",
              "      <td>0.0</td>\n",
              "      <td>1</td>\n",
              "      <td>0</td>\n",
              "      <td>1</td>\n",
              "      <td>Tidak Hujan</td>\n",
              "      <td>Friday</td>\n",
              "      <td>12</td>\n",
              "      <td>0</td>\n",
              "      <td>0</td>\n",
              "    </tr>\n",
              "    <tr>\n",
              "      <th>6</th>\n",
              "      <td>2017-12-01</td>\n",
              "      <td>181</td>\n",
              "      <td>6</td>\n",
              "      <td>-6.6</td>\n",
              "      <td>35</td>\n",
              "      <td>1.3</td>\n",
              "      <td>2000</td>\n",
              "      <td>-19.5</td>\n",
              "      <td>0.00</td>\n",
              "      <td>0.0</td>\n",
              "      <td>0.0</td>\n",
              "      <td>1</td>\n",
              "      <td>0</td>\n",
              "      <td>1</td>\n",
              "      <td>Tidak Hujan</td>\n",
              "      <td>Friday</td>\n",
              "      <td>12</td>\n",
              "      <td>0</td>\n",
              "      <td>0</td>\n",
              "    </tr>\n",
              "    <tr>\n",
              "      <th>7</th>\n",
              "      <td>2017-12-01</td>\n",
              "      <td>460</td>\n",
              "      <td>7</td>\n",
              "      <td>-7.4</td>\n",
              "      <td>38</td>\n",
              "      <td>0.9</td>\n",
              "      <td>2000</td>\n",
              "      <td>-19.3</td>\n",
              "      <td>0.00</td>\n",
              "      <td>0.0</td>\n",
              "      <td>0.0</td>\n",
              "      <td>1</td>\n",
              "      <td>0</td>\n",
              "      <td>1</td>\n",
              "      <td>Tidak Hujan</td>\n",
              "      <td>Friday</td>\n",
              "      <td>12</td>\n",
              "      <td>0</td>\n",
              "      <td>0</td>\n",
              "    </tr>\n",
              "    <tr>\n",
              "      <th>8</th>\n",
              "      <td>2017-12-01</td>\n",
              "      <td>930</td>\n",
              "      <td>8</td>\n",
              "      <td>-7.6</td>\n",
              "      <td>37</td>\n",
              "      <td>1.1</td>\n",
              "      <td>2000</td>\n",
              "      <td>-19.8</td>\n",
              "      <td>0.01</td>\n",
              "      <td>0.0</td>\n",
              "      <td>0.0</td>\n",
              "      <td>1</td>\n",
              "      <td>0</td>\n",
              "      <td>1</td>\n",
              "      <td>Tidak Hujan</td>\n",
              "      <td>Friday</td>\n",
              "      <td>12</td>\n",
              "      <td>0</td>\n",
              "      <td>0</td>\n",
              "    </tr>\n",
              "    <tr>\n",
              "      <th>9</th>\n",
              "      <td>2017-12-01</td>\n",
              "      <td>490</td>\n",
              "      <td>9</td>\n",
              "      <td>-6.5</td>\n",
              "      <td>27</td>\n",
              "      <td>0.5</td>\n",
              "      <td>1928</td>\n",
              "      <td>-22.4</td>\n",
              "      <td>0.23</td>\n",
              "      <td>0.0</td>\n",
              "      <td>0.0</td>\n",
              "      <td>1</td>\n",
              "      <td>0</td>\n",
              "      <td>1</td>\n",
              "      <td>Tidak Hujan</td>\n",
              "      <td>Friday</td>\n",
              "      <td>12</td>\n",
              "      <td>0</td>\n",
              "      <td>0</td>\n",
              "    </tr>\n",
              "  </tbody>\n",
              "</table>\n",
              "</div>"
            ],
            "text/plain": [
              "         Date  Rented Bike Count  Hour  Temperature  ...  weekday  month  year  Count\n",
              "0  2017-12-01                254     0         -5.2  ...   Friday     12     0      0\n",
              "1  2017-12-01                204     1         -5.5  ...   Friday     12     0      0\n",
              "2  2017-12-01                173     2         -6.0  ...   Friday     12     0      0\n",
              "3  2017-12-01                107     3         -6.2  ...   Friday     12     0      0\n",
              "4  2017-12-01                 78     4         -6.0  ...   Friday     12     0      0\n",
              "5  2017-12-01                100     5         -6.4  ...   Friday     12     0      0\n",
              "6  2017-12-01                181     6         -6.6  ...   Friday     12     0      0\n",
              "7  2017-12-01                460     7         -7.4  ...   Friday     12     0      0\n",
              "8  2017-12-01                930     8         -7.6  ...   Friday     12     0      0\n",
              "9  2017-12-01                490     9         -6.5  ...   Friday     12     0      0\n",
              "\n",
              "[10 rows x 19 columns]"
            ]
          },
          "execution_count": 96,
          "metadata": {
            "tags": []
          },
          "output_type": "execute_result"
        }
      ],
      "source": [
        "datacop.replace({'FunctioningDay' : {'No': 0 , 'Yes': 1}}, inplace=True)\n",
        "datacop.head(10)"
      ]
    },
    {
      "cell_type": "code",
      "execution_count": null,
      "metadata": {
        "colab": {
          "base_uri": "https://localhost:8080/",
          "height": 400
        },
        "id": "xnQxwWd_UynP",
        "outputId": "4d2d1212-a9cf-4680-ae35-ef027fc9747d"
      },
      "outputs": [
        {
          "data": {
            "text/plain": [
              "<seaborn.axisgrid.FacetGrid at 0x7f4037926810>"
            ]
          },
          "execution_count": 97,
          "metadata": {
            "tags": []
          },
          "output_type": "execute_result"
        },
        {
          "data": {
            "image/png": "[encoded data removed]",
            "text/plain": [
              "<Figure size 360x360 with 1 Axes>"
            ]
          },
          "metadata": {
            "needs_background": "light",
            "tags": []
          },
          "output_type": "display_data"
        }
      ],
      "source": [
        "datcop.Holiday.value_counts()\n",
        "sns.catplot(x='Holiday',data=datcop,kind='count',height=5,aspect=1)"
      ]
    },
    {
      "cell_type": "code",
      "execution_count": null,
      "metadata": {
        "colab": {
          "base_uri": "https://localhost:8080/",
          "height": 400
        },
        "id": "AvZa2_znVFUz",
        "outputId": "d1b70a3e-255a-4c29-dd41-ee20e7dc2b46"
      },
      "outputs": [
        {
          "data": {
            "text/plain": [
              "<seaborn.axisgrid.FacetGrid at 0x7f4036dde210>"
            ]
          },
          "execution_count": 98,
          "metadata": {
            "tags": []
          },
          "output_type": "execute_result"
        },
        {
          "data": {
            "image/png": "[encoded data removed]",
            "text/plain": [
              "<Figure size 360x360 with 1 Axes>"
            ]
          },
          "metadata": {
            "needs_background": "light",
            "tags": []
          },
          "output_type": "display_data"
        }
      ],
      "source": [
        "datcop.FunctioningDay.value_counts()\n",
        "sns.catplot(x='FunctioningDay',data=datcop,kind='count',height=5,aspect=1)"
      ]
    },
    {
      "cell_type": "code",
      "execution_count": null,
      "metadata": {
        "colab": {
          "base_uri": "https://localhost:8080/",
          "height": 400
        },
        "id": "ESw-9IdIXD_V",
        "outputId": "543e5ef9-bf09-4879-c542-bc35c4a00196"
      },
      "outputs": [
        {
          "data": {
            "text/plain": [
              "<seaborn.axisgrid.FacetGrid at 0x7f4054114f50>"
            ]
          },
          "execution_count": 26,
          "metadata": {
            "tags": []
          },
          "output_type": "execute_result"
        },
        {
          "data": {
            "image/png": "[encoded data removed]",
            "text/plain": [
              "<Figure size 360x360 with 1 Axes>"
            ]
          },
          "metadata": {
            "needs_background": "light",
            "tags": []
          },
          "output_type": "display_data"
        }
      ],
      "source": [
        "sns.catplot(x='KategoriHujan',data=datcop,kind='count',height=5,aspect=1)"
      ]
    },
    {
      "cell_type": "code",
      "execution_count": null,
      "metadata": {
        "colab": {
          "base_uri": "https://localhost:8080/",
          "height": 400
        },
        "id": "tlFVL7Proreo",
        "outputId": "9781e280-b9c5-4705-fc28-5f0b8e6ab3cc"
      },
      "outputs": [
        {
          "data": {
            "text/plain": [
              "<seaborn.axisgrid.FacetGrid at 0x7f4052d4a3d0>"
            ]
          },
          "execution_count": 27,
          "metadata": {
            "tags": []
          },
          "output_type": "execute_result"
        },
        {
          "data": {
            "image/png": "[encoded data removed]",
            "text/plain": [
              "<Figure size 540x360 with 1 Axes>"
            ]
          },
          "metadata": {
            "needs_background": "light",
            "tags": []
          },
          "output_type": "display_data"
        }
      ],
      "source": [
        "sns.factorplot(x=\"Hour\",y=\"Count\",data=datcop,kind='bar',size=5,aspect=1.5)"
      ]
    },
    {
      "cell_type": "code",
      "execution_count": null,
      "metadata": {
        "colab": {
          "base_uri": "https://localhost:8080/",
          "height": 688
        },
        "id": "NT-3bg-Lto4P",
        "outputId": "08d03bec-c970-45bd-8586-34dd1d0e12da"
      },
      "outputs": [
        {
          "data": {
            "text/plain": [
              "[Text(0, 0.5, 'Users Count'),\n",
              " Text(0.5, 0, 'Hour Of The Day'),\n",
              " Text(0.5, 1.0, 'Average Users Count By Hour Of The Day Across Weekdays'),\n",
              " None]"
            ]
          },
          "execution_count": 28,
          "metadata": {
            "tags": []
          },
          "output_type": "execute_result"
        },
        {
          "data": {
            "image/png": "[encoded data removed]",
            "text/plain": [
              "<Figure size 1080x720 with 1 Axes>"
            ]
          },
          "metadata": {
            "needs_background": "light",
            "tags": []
          },
          "output_type": "display_data"
        }
      ],
      "source": [
        "fig,(ax3)= plt.subplots(nrows=1)\n",
        "fig.set_size_inches(15,10)\n",
        "hueOrder = [\"Sunday\",\"Monday\",\"Tuesday\",\"Wednesday\",\"Thursday\",\"Friday\",\"Saturday\"]\n",
        "\n",
        "hourAggregated = pd.DataFrame(datcop.groupby([\"Hour\",\"weekday\"],sort=True)[\"Count\"].mean()).reset_index()\n",
        "sns.pointplot(x=hourAggregated[\"Hour\"], y=hourAggregated[\"Count\"],hue=hourAggregated[\"weekday\"],hue_order=hueOrder, data=hourAggregated, join=True,ax=ax3)\n",
        "ax3.set(xlabel='Hour Of The Day', ylabel='Users Count',title=\"Average Users Count By Hour Of The Day Across Weekdays\",label='big')"
      ]
    },
    {
      "cell_type": "code",
      "execution_count": null,
      "metadata": {
        "colab": {
          "base_uri": "https://localhost:8080/",
          "height": 400
        },
        "id": "dQcAZJ_Yqc95",
        "outputId": "67d6b721-cd3e-4fb7-d1ce-aeb09ac82844"
      },
      "outputs": [
        {
          "data": {
            "text/plain": [
              "<seaborn.axisgrid.FacetGrid at 0x7f4053b64790>"
            ]
          },
          "execution_count": 29,
          "metadata": {
            "tags": []
          },
          "output_type": "execute_result"
        },
        {
          "data": {
            "image/png": "[encoded data removed]",
            "text/plain": [
              "<Figure size 540x360 with 1 Axes>"
            ]
          },
          "metadata": {
            "needs_background": "light",
            "tags": []
          },
          "output_type": "display_data"
        }
      ],
      "source": [
        "sns.factorplot(x=\"month\",y=\"Count\",data=datcop,kind='bar',size=5,aspect=1.5)"
      ]
    },
    {
      "cell_type": "code",
      "execution_count": null,
      "metadata": {
        "colab": {
          "base_uri": "https://localhost:8080/",
          "height": 400
        },
        "id": "4sVR9tFuqhX9",
        "outputId": "cc07521d-8220-419d-a492-90fc4020b67a"
      },
      "outputs": [
        {
          "data": {
            "text/plain": [
              "<seaborn.axisgrid.FacetGrid at 0x7f4053b54dd0>"
            ]
          },
          "execution_count": 30,
          "metadata": {
            "tags": []
          },
          "output_type": "execute_result"
        },
        {
          "data": {
            "image/png": "[encoded data removed]",
            "text/plain": [
              "<Figure size 540x360 with 1 Axes>"
            ]
          },
          "metadata": {
            "needs_background": "light",
            "tags": []
          },
          "output_type": "display_data"
        }
      ],
      "source": [
        "sns.factorplot(x=\"year\",y=\"Rented Bike Count\",data=datcop,kind='bar',size=5,aspect=1.5)"
      ]
    },
    {
      "cell_type": "code",
      "execution_count": null,
      "metadata": {
        "colab": {
          "base_uri": "https://localhost:8080/",
          "height": 688
        },
        "id": "-7HI8mpQyc8A",
        "outputId": "afe2fc0d-be15-4acb-d2f3-bd5c649c309a"
      },
      "outputs": [
        {
          "data": {
            "text/plain": [
              "[Text(0, 0.5, 'Users Count'),\n",
              " Text(0.5, 0, 'Hour Of The Day'),\n",
              " Text(0.5, 1.0, 'Average Users Count By Hour Of The Day Across Season'),\n",
              " None]"
            ]
          },
          "execution_count": 31,
          "metadata": {
            "tags": []
          },
          "output_type": "execute_result"
        },
        {
          "data": {
            "image/png": "[encoded data removed]",
            "text/plain": [
              "<Figure size 1080x720 with 1 Axes>"
            ]
          },
          "metadata": {
            "needs_background": "light",
            "tags": []
          },
          "output_type": "display_data"
        }
      ],
      "source": [
        "fig,(ax2)= plt.subplots(nrows=1)\n",
        "fig.set_size_inches(15,10)\n",
        "\n",
        "hourAggregated = pd.DataFrame(datcop.groupby([\"Hour\",\"Seasons\"],sort=True)[\"Rented Bike Count\"].mean()).reset_index()\n",
        "sns.pointplot(x=hourAggregated[\"Hour\"], y=hourAggregated[\"Rented Bike Count\"],hue=hourAggregated[\"Seasons\"], data=hourAggregated, join=True,ax=ax2)\n",
        "ax2.set(xlabel='Hour Of The Day', ylabel='Users Count',title=\"Average Users Count By Hour Of The Day Across Season\",label='big')\n",
        "#1 = spring, 2 = summer, 3 = fall, 4 = winter"
      ]
    },
    {
      "cell_type": "code",
      "execution_count": null,
      "metadata": {
        "colab": {
          "base_uri": "https://localhost:8080/",
          "height": 400
        },
        "id": "SBsPyQHDql2Z",
        "outputId": "8ce68642-b160-4c24-f486-13a30b75ad9f"
      },
      "outputs": [
        {
          "data": {
            "text/plain": [
              "<seaborn.axisgrid.FacetGrid at 0x7f4052d4aa50>"
            ]
          },
          "execution_count": 32,
          "metadata": {
            "tags": []
          },
          "output_type": "execute_result"
        },
        {
          "data": {
            "image/png": "[encoded data removed]",
            "text/plain": [
              "<Figure size 360x360 with 1 Axes>"
            ]
          },
          "metadata": {
            "needs_background": "light",
            "tags": []
          },
          "output_type": "display_data"
        }
      ],
      "source": [
        "datatemp=datcop.copy()\n",
        "datatemp.Temperature.describe()\n",
        "datatemp['temp']=np.floor(datatemp['Temperature'])//5\n",
        "datatemp['temp'].unique()\n",
        "sns.factorplot(x=\"temp\",y=\"Rented Bike Count\",data=datatemp,kind='bar')\n",
        "#temp 5.0 = 25-30c"
      ]
    },
    {
      "cell_type": "code",
      "execution_count": null,
      "metadata": {
        "colab": {
          "base_uri": "https://localhost:8080/",
          "height": 826
        },
        "id": "cZmNWVGImpCo",
        "outputId": "0d8bfa37-c709-4aad-f915-fca10428dd00"
      },
      "outputs": [
        {
          "data": {
            "text/plain": [
              "<matplotlib.axes._subplots.AxesSubplot at 0x7f4053fe5b10>"
            ]
          },
          "execution_count": 33,
          "metadata": {
            "tags": []
          },
          "output_type": "execute_result"
        },
        {
          "data": {
            "image/png": "[encoded data removed]",
            "text/plain": [
              "<Figure size 2160x864 with 2 Axes>"
            ]
          },
          "metadata": {
            "needs_background": "light",
            "tags": []
          },
          "output_type": "display_data"
        }
      ],
      "source": [
        "cor_mat= datcop[:].corr()\n",
        "mask = np.array(cor_mat)\n",
        "mask[np.tril_indices_from(mask)] = False\n",
        "fig=plt.gcf()\n",
        "fig.set_size_inches(30,12)\n",
        "sns.heatmap(data=cor_mat,mask=mask,square=True,annot=True,cbar=True)"
      ]
    },
    {
      "cell_type": "markdown",
      "metadata": {
        "id": "hHjR4RXosXdr"
      },
      "source": [
        "# **KNN**"
      ]
    },
    {
      "cell_type": "code",
      "execution_count": null,
      "metadata": {
        "colab": {
          "base_uri": "https://localhost:8080/"
        },
        "id": "Tl99lkdPsalH",
        "outputId": "1552c025-5e64-4754-c196-71f834e13807"
      },
      "outputs": [
        {
          "name": "stdout",
          "output_type": "stream",
          "text": [
            "77.95662100456623\n"
          ]
        }
      ],
      "source": [
        "# Classification Process\n",
        "from sklearn.neighbors import KNeighborsClassifier # Library for KNN\n",
        "\n",
        "fitur = [\"Hour\", \"Temperature\", \"Humidity\", \"Wind speed \", \"Visibility \", \"Dew point temperature\", \"Solar Radiation \", \"Rainfall\", \"Snowfall\", \"Seasons\", \"Holiday\", \"FunctioningDay\"]\n",
        "x = datacop[fitur]\n",
        "y = datacop['Count']\n",
        "\n",
        "knn = KNeighborsClassifier(n_neighbors=8)\n",
        "kfold = model_selection.KFold(n_splits=10)\n",
        "scoring = ['accuracy', 'precision', 'recall', 'f1', 'roc_auc']\n",
        "result = cross_val_score(knn, x, y, cv=kfold, scoring=\"accuracy\") * 100\n",
        "print(result.mean())"
      ]
    },
    {
      "cell_type": "code",
      "execution_count": null,
      "metadata": {
        "colab": {
          "base_uri": "https://localhost:8080/"
        },
        "id": "w9zJTEvFwv_-",
        "outputId": "c7f1af6d-1cf1-40f8-e7d3-eb3c49ba6460"
      },
      "outputs": [
        {
          "name": "stdout",
          "output_type": "stream",
          "text": [
            "              precision    recall  f1-score   support\n",
            "\n",
            "           0       0.86      0.94      0.90      1277\n",
            "           1       0.63      0.52      0.57       384\n",
            "           2       0.47      0.18      0.26        91\n",
            "\n",
            "    accuracy                           0.81      1752\n",
            "   macro avg       0.65      0.54      0.57      1752\n",
            "weighted avg       0.79      0.81      0.79      1752\n",
            "\n"
          ]
        }
      ],
      "source": [
        "# Classification with train and split\n",
        "x_train, x_test, y_train, y_test = train_test_split(x, y, train_size=0.8, random_state=42)\n",
        "knn.fit(x_train, y_train)\n",
        "score_test = knn.score(x_test, y_test)\n",
        "predict = knn.predict(x_test)\n",
        "print(classification_report(y_test, predict))"
      ]
    },
    {
      "cell_type": "code",
      "execution_count": null,
      "metadata": {
        "colab": {
          "base_uri": "https://localhost:8080/"
        },
        "id": "DLgbdxYCv1T3",
        "outputId": "8d589bfe-2d00-4f22-fd37-09e9a70c7483"
      },
      "outputs": [
        {
          "name": "stdout",
          "output_type": "stream",
          "text": [
            "Accuracy KNN (K = 1) with train size 0.80 : 79.509%\n",
            "Accuracy KNN (K = 1) with train size 0.75 : 79.361%\n",
            "Accuracy KNN (K = 1) with train size 0.70 : 79.300%\n",
            "Accuracy KNN (K = 1) with train size 0.60 : 78.282%\n",
            "Accuracy KNN (K = 2) with train size 0.80 : 80.251%\n",
            "Accuracy KNN (K = 2) with train size 0.75 : 79.726%\n",
            "Accuracy KNN (K = 2) with train size 0.70 : 79.376%\n",
            "Accuracy KNN (K = 2) with train size 0.60 : 79.224%\n",
            "Accuracy KNN (K = 3) with train size 0.80 : 79.623%\n",
            "Accuracy KNN (K = 3) with train size 0.75 : 79.269%\n",
            "Accuracy KNN (K = 3) with train size 0.70 : 79.376%\n",
            "Accuracy KNN (K = 3) with train size 0.60 : 79.110%\n",
            "Accuracy KNN (K = 4) with train size 0.80 : 80.822%\n",
            "Accuracy KNN (K = 4) with train size 0.75 : 80.457%\n",
            "Accuracy KNN (K = 4) with train size 0.70 : 80.632%\n",
            "Accuracy KNN (K = 4) with train size 0.60 : 80.736%\n",
            "Accuracy KNN (K = 5) with train size 0.80 : 80.537%\n",
            "Accuracy KNN (K = 5) with train size 0.75 : 80.320%\n",
            "Accuracy KNN (K = 5) with train size 0.70 : 80.403%\n",
            "Accuracy KNN (K = 5) with train size 0.60 : 80.166%\n",
            "Accuracy KNN (K = 6) with train size 0.80 : 80.993%\n",
            "Accuracy KNN (K = 6) with train size 0.75 : 80.822%\n",
            "Accuracy KNN (K = 6) with train size 0.70 : 80.518%\n",
            "Accuracy KNN (K = 6) with train size 0.60 : 80.051%\n",
            "Accuracy KNN (K = 7) with train size 0.80 : 81.393%\n",
            "Accuracy KNN (K = 7) with train size 0.75 : 80.868%\n",
            "Accuracy KNN (K = 7) with train size 0.70 : 80.594%\n",
            "Accuracy KNN (K = 7) with train size 0.60 : 80.108%\n",
            "Accuracy KNN (K = 8) with train size 0.80 : 80.936%\n",
            "Accuracy KNN (K = 8) with train size 0.75 : 80.228%\n",
            "Accuracy KNN (K = 8) with train size 0.70 : 80.213%\n",
            "Accuracy KNN (K = 8) with train size 0.60 : 80.137%\n",
            "Accuracy KNN (K = 9) with train size 0.80 : 80.822%\n",
            "Accuracy KNN (K = 9) with train size 0.75 : 80.274%\n",
            "Accuracy KNN (K = 9) with train size 0.70 : 80.251%\n",
            "Accuracy KNN (K = 9) with train size 0.60 : 79.766%\n",
            "Accuracy KNN (K = 10) with train size 0.80 : 81.050%\n",
            "Accuracy KNN (K = 10) with train size 0.75 : 80.868%\n",
            "Accuracy KNN (K = 10) with train size 0.70 : 80.403%\n",
            "Accuracy KNN (K = 10) with train size 0.60 : 79.823%\n",
            "Accuracy KNN (K = 11) with train size 0.80 : 80.708%\n",
            "Accuracy KNN (K = 11) with train size 0.75 : 80.594%\n",
            "Accuracy KNN (K = 11) with train size 0.70 : 79.604%\n",
            "Accuracy KNN (K = 11) with train size 0.60 : 79.509%\n",
            "Accuracy KNN (K = 12) with train size 0.80 : 80.251%\n",
            "Accuracy KNN (K = 12) with train size 0.75 : 79.817%\n",
            "Accuracy KNN (K = 12) with train size 0.70 : 79.338%\n",
            "Accuracy KNN (K = 12) with train size 0.60 : 79.566%\n",
            "Accuracy KNN (K = 13) with train size 0.80 : 80.537%\n",
            "Accuracy KNN (K = 13) with train size 0.75 : 79.954%\n",
            "Accuracy KNN (K = 13) with train size 0.70 : 79.756%\n",
            "Accuracy KNN (K = 13) with train size 0.60 : 79.566%\n",
            "Accuracy KNN (K = 14) with train size 0.80 : 80.023%\n",
            "Accuracy KNN (K = 14) with train size 0.75 : 79.909%\n",
            "Accuracy KNN (K = 14) with train size 0.70 : 79.795%\n",
            "Accuracy KNN (K = 14) with train size 0.60 : 79.623%\n",
            "Accuracy KNN (K = 15) with train size 0.80 : 80.080%\n",
            "Accuracy KNN (K = 15) with train size 0.75 : 79.817%\n",
            "Accuracy KNN (K = 15) with train size 0.70 : 80.099%\n",
            "Accuracy KNN (K = 15) with train size 0.60 : 79.623%\n",
            "Accuracy KNN (K = 16) with train size 0.80 : 80.137%\n",
            "Accuracy KNN (K = 16) with train size 0.75 : 79.909%\n",
            "Accuracy KNN (K = 16) with train size 0.70 : 80.213%\n",
            "Accuracy KNN (K = 16) with train size 0.60 : 79.852%\n",
            "Accuracy KNN (K = 17) with train size 0.80 : 80.023%\n",
            "Accuracy KNN (K = 17) with train size 0.75 : 79.909%\n",
            "Accuracy KNN (K = 17) with train size 0.70 : 80.213%\n",
            "Accuracy KNN (K = 17) with train size 0.60 : 79.737%\n",
            "Accuracy KNN (K = 18) with train size 0.80 : 80.537%\n",
            "Accuracy KNN (K = 18) with train size 0.75 : 80.046%\n",
            "Accuracy KNN (K = 18) with train size 0.70 : 80.137%\n",
            "Accuracy KNN (K = 18) with train size 0.60 : 79.053%\n",
            "Accuracy KNN (K = 19) with train size 0.80 : 80.194%\n",
            "Accuracy KNN (K = 19) with train size 0.75 : 79.863%\n",
            "Accuracy KNN (K = 19) with train size 0.70 : 80.061%\n",
            "Accuracy KNN (K = 19) with train size 0.60 : 79.224%\n",
            "Accuracy KNN (K = 20) with train size 0.80 : 80.137%\n",
            "Accuracy KNN (K = 20) with train size 0.75 : 79.909%\n",
            "Accuracy KNN (K = 20) with train size 0.70 : 79.718%\n",
            "Accuracy KNN (K = 20) with train size 0.60 : 79.195%\n",
            "Accuracy KNN (K = 21) with train size 0.80 : 80.479%\n",
            "Accuracy KNN (K = 21) with train size 0.75 : 80.137%\n",
            "Accuracy KNN (K = 21) with train size 0.70 : 79.490%\n",
            "Accuracy KNN (K = 21) with train size 0.60 : 79.053%\n",
            "Accuracy KNN (K = 22) with train size 0.80 : 79.966%\n",
            "Accuracy KNN (K = 22) with train size 0.75 : 79.543%\n",
            "Accuracy KNN (K = 22) with train size 0.70 : 79.604%\n",
            "Accuracy KNN (K = 22) with train size 0.60 : 78.995%\n",
            "Accuracy KNN (K = 23) with train size 0.80 : 79.737%\n",
            "Accuracy KNN (K = 23) with train size 0.75 : 79.817%\n",
            "Accuracy KNN (K = 23) with train size 0.70 : 79.566%\n",
            "Accuracy KNN (K = 23) with train size 0.60 : 78.739%\n",
            "Accuracy KNN (K = 24) with train size 0.80 : 80.023%\n",
            "Accuracy KNN (K = 24) with train size 0.75 : 79.954%\n",
            "Accuracy KNN (K = 24) with train size 0.70 : 79.604%\n",
            "Accuracy KNN (K = 24) with train size 0.60 : 78.767%\n",
            "Accuracy KNN (K = 25) with train size 0.80 : 79.737%\n",
            "Accuracy KNN (K = 25) with train size 0.75 : 80.183%\n",
            "Accuracy KNN (K = 25) with train size 0.70 : 79.909%\n",
            "Accuracy KNN (K = 25) with train size 0.60 : 78.624%\n",
            "Accuracy KNN (K = 26) with train size 0.80 : 79.680%\n",
            "Accuracy KNN (K = 26) with train size 0.75 : 79.954%\n",
            "Accuracy KNN (K = 26) with train size 0.70 : 79.947%\n",
            "Accuracy KNN (K = 26) with train size 0.60 : 78.653%\n",
            "Accuracy KNN (K = 27) with train size 0.80 : 80.023%\n",
            "Accuracy KNN (K = 27) with train size 0.75 : 80.000%\n",
            "Accuracy KNN (K = 27) with train size 0.70 : 79.718%\n",
            "Accuracy KNN (K = 27) with train size 0.60 : 78.596%\n",
            "Accuracy KNN (K = 28) with train size 0.80 : 79.852%\n",
            "Accuracy KNN (K = 28) with train size 0.75 : 79.863%\n",
            "Accuracy KNN (K = 28) with train size 0.70 : 79.642%\n",
            "Accuracy KNN (K = 28) with train size 0.60 : 78.539%\n",
            "Accuracy KNN (K = 29) with train size 0.80 : 79.623%\n",
            "Accuracy KNN (K = 29) with train size 0.75 : 79.680%\n",
            "Accuracy KNN (K = 29) with train size 0.70 : 79.376%\n",
            "Accuracy KNN (K = 29) with train size 0.60 : 78.596%\n",
            "Accuracy KNN (K = 30) with train size 0.80 : 79.680%\n",
            "Accuracy KNN (K = 30) with train size 0.75 : 79.726%\n",
            "Accuracy KNN (K = 30) with train size 0.70 : 79.376%\n",
            "Accuracy KNN (K = 30) with train size 0.60 : 78.567%\n",
            "Accuracy KNN (K = 31) with train size 0.80 : 79.566%\n",
            "Accuracy KNN (K = 31) with train size 0.75 : 79.498%\n",
            "Accuracy KNN (K = 31) with train size 0.70 : 79.300%\n",
            "Accuracy KNN (K = 31) with train size 0.60 : 78.225%\n",
            "Accuracy KNN (K = 32) with train size 0.80 : 79.795%\n",
            "Accuracy KNN (K = 32) with train size 0.75 : 79.863%\n",
            "Accuracy KNN (K = 32) with train size 0.70 : 79.528%\n",
            "Accuracy KNN (K = 32) with train size 0.60 : 78.396%\n",
            "Accuracy KNN (K = 33) with train size 0.80 : 79.623%\n",
            "Accuracy KNN (K = 33) with train size 0.75 : 79.452%\n",
            "Accuracy KNN (K = 33) with train size 0.70 : 79.186%\n",
            "Accuracy KNN (K = 33) with train size 0.60 : 78.311%\n",
            "Accuracy KNN (K = 34) with train size 0.80 : 79.623%\n",
            "Accuracy KNN (K = 34) with train size 0.75 : 79.315%\n",
            "Accuracy KNN (K = 34) with train size 0.70 : 79.338%\n",
            "Accuracy KNN (K = 34) with train size 0.60 : 78.624%\n",
            "Accuracy KNN (K = 35) with train size 0.80 : 79.452%\n",
            "Accuracy KNN (K = 35) with train size 0.75 : 79.178%\n",
            "Accuracy KNN (K = 35) with train size 0.70 : 79.224%\n",
            "Accuracy KNN (K = 35) with train size 0.60 : 78.311%\n",
            "Accuracy KNN (K = 36) with train size 0.80 : 79.680%\n",
            "Accuracy KNN (K = 36) with train size 0.75 : 79.635%\n",
            "Accuracy KNN (K = 36) with train size 0.70 : 79.642%\n",
            "Accuracy KNN (K = 36) with train size 0.60 : 78.453%\n",
            "Accuracy KNN (K = 37) with train size 0.80 : 79.566%\n",
            "Accuracy KNN (K = 37) with train size 0.75 : 79.224%\n",
            "Accuracy KNN (K = 37) with train size 0.70 : 79.300%\n",
            "Accuracy KNN (K = 37) with train size 0.60 : 78.482%\n",
            "Accuracy KNN (K = 38) with train size 0.80 : 79.452%\n",
            "Accuracy KNN (K = 38) with train size 0.75 : 79.498%\n",
            "Accuracy KNN (K = 38) with train size 0.70 : 79.414%\n",
            "Accuracy KNN (K = 38) with train size 0.60 : 78.425%\n",
            "Accuracy KNN (K = 39) with train size 0.80 : 79.395%\n",
            "Accuracy KNN (K = 39) with train size 0.75 : 79.224%\n",
            "Accuracy KNN (K = 39) with train size 0.70 : 79.414%\n",
            "Accuracy KNN (K = 39) with train size 0.60 : 78.253%\n",
            "Accuracy KNN (K = 40) with train size 0.80 : 79.224%\n",
            "Accuracy KNN (K = 40) with train size 0.75 : 79.406%\n",
            "Accuracy KNN (K = 40) with train size 0.70 : 79.186%\n",
            "Accuracy KNN (K = 40) with train size 0.60 : 78.368%\n",
            "Accuracy KNN (K = 41) with train size 0.80 : 79.167%\n",
            "Accuracy KNN (K = 41) with train size 0.75 : 79.132%\n",
            "Accuracy KNN (K = 41) with train size 0.70 : 79.452%\n",
            "Accuracy KNN (K = 41) with train size 0.60 : 78.482%\n",
            "Accuracy KNN (K = 42) with train size 0.80 : 79.224%\n",
            "Accuracy KNN (K = 42) with train size 0.75 : 79.269%\n",
            "Accuracy KNN (K = 42) with train size 0.70 : 79.300%\n",
            "Accuracy KNN (K = 42) with train size 0.60 : 78.253%\n",
            "Accuracy KNN (K = 43) with train size 0.80 : 78.995%\n",
            "Accuracy KNN (K = 43) with train size 0.75 : 79.406%\n",
            "Accuracy KNN (K = 43) with train size 0.70 : 79.376%\n",
            "Accuracy KNN (K = 43) with train size 0.60 : 78.396%\n",
            "Accuracy KNN (K = 44) with train size 0.80 : 79.623%\n",
            "Accuracy KNN (K = 44) with train size 0.75 : 79.406%\n",
            "Accuracy KNN (K = 44) with train size 0.70 : 79.262%\n",
            "Accuracy KNN (K = 44) with train size 0.60 : 78.311%\n",
            "Accuracy KNN (K = 45) with train size 0.80 : 79.509%\n",
            "Accuracy KNN (K = 45) with train size 0.75 : 79.452%\n",
            "Accuracy KNN (K = 45) with train size 0.70 : 79.528%\n",
            "Accuracy KNN (K = 45) with train size 0.60 : 78.396%\n",
            "Accuracy KNN (K = 46) with train size 0.80 : 79.509%\n",
            "Accuracy KNN (K = 46) with train size 0.75 : 79.543%\n",
            "Accuracy KNN (K = 46) with train size 0.70 : 79.604%\n",
            "Accuracy KNN (K = 46) with train size 0.60 : 78.253%\n",
            "Accuracy KNN (K = 47) with train size 0.80 : 79.509%\n",
            "Accuracy KNN (K = 47) with train size 0.75 : 79.498%\n",
            "Accuracy KNN (K = 47) with train size 0.70 : 79.718%\n",
            "Accuracy KNN (K = 47) with train size 0.60 : 78.253%\n",
            "Accuracy KNN (K = 48) with train size 0.80 : 79.566%\n",
            "Accuracy KNN (K = 48) with train size 0.75 : 79.817%\n",
            "Accuracy KNN (K = 48) with train size 0.70 : 79.642%\n",
            "Accuracy KNN (K = 48) with train size 0.60 : 78.025%\n",
            "Accuracy KNN (K = 49) with train size 0.80 : 79.680%\n",
            "Accuracy KNN (K = 49) with train size 0.75 : 79.726%\n",
            "Accuracy KNN (K = 49) with train size 0.70 : 79.833%\n",
            "Accuracy KNN (K = 49) with train size 0.60 : 78.054%\n",
            "Accuracy KNN (K = 50) with train size 0.80 : 79.795%\n",
            "Accuracy KNN (K = 50) with train size 0.75 : 79.680%\n",
            "Accuracy KNN (K = 50) with train size 0.70 : 79.604%\n",
            "Accuracy KNN (K = 50) with train size 0.60 : 77.882%\n"
          ]
        }
      ],
      "source": [
        "# Comparing the train and split size ration for KNN\n",
        "neighbors = []\n",
        "for i in range(1, 51):\n",
        "  neighbors.append(i) \n",
        "split = [5, 10]\n",
        "train_size = [0.8, 0.75, 0.7, 0.6]\n",
        "\n",
        "score_data = []\n",
        "score_data2 = []\n",
        "score_data3 = []\n",
        "score_data4 = []\n",
        "for n in neighbors :\n",
        "  for t in train_size :\n",
        "    knn = KNeighborsClassifier(n_neighbors=n)\n",
        "    x_train, x_test, y_train, y_test = train_test_split(x, y, train_size=t, random_state=42)\n",
        "    knn.fit(x_train, y_train)\n",
        "    score = knn.score(x_test, y_test)\n",
        "    print(\"Accuracy KNN (K = %.f) with train size %.2f : %.3f%%\" % (n, t, score*100))\n",
        "    if t == 0.8: score_data.append(score*100)\n",
        "    if t == 0.75: score_data2.append(score*100)\n",
        "    if t == 0.7: score_data3.append(score*100)\n",
        "    if t == 0.6: score_data4.append(score*100)"
      ]
    },
    {
      "cell_type": "code",
      "execution_count": null,
      "metadata": {
        "colab": {
          "base_uri": "https://localhost:8080/"
        },
        "id": "qIphOnUwv1Nx",
        "outputId": "f793528f-ef5e-4816-c289-26e9feba2e2c"
      },
      "outputs": [
        {
          "name": "stderr",
          "output_type": "stream",
          "text": [
            "No handles with labels found to put in legend.\n"
          ]
        },
        {
          "data": {
            "text/plain": [
              "<function matplotlib.pyplot.show>"
            ]
          },
          "execution_count": 143,
          "metadata": {
            "tags": []
          },
          "output_type": "execute_result"
        },
        {
          "data": {
            "image/png": "[encoded data removed]",
            "text/plain": [
              "<Figure size 432x288 with 1 Axes>"
            ]
          },
          "metadata": {
            "needs_background": "light",
            "tags": []
          },
          "output_type": "display_data"
        }
      ],
      "source": [
        "# Comparing the KNN with the graphic\n",
        "data_plot = pd.DataFrame({\"total_n\":neighbors, \"acc\":score_data})\n",
        "data_plot2 = pd.DataFrame({\"total_n\":neighbors, \"acc\":score_data2})\n",
        "data_plot3 = pd.DataFrame({\"total_n\":neighbors, \"acc\":score_data3})\n",
        "data_plot4 = pd.DataFrame({\"total_n\":neighbors, \"acc\":score_data4})\n",
        "\n",
        "plt.legend(bbox_to_anchor=(1.05, 1), loc='upper left', borderaxespad=0.)\n",
        "plt.plot(data_plot['total_n'], data_plot['acc'], label=\"0.8\")\n",
        "plt.plot(data_plot2['total_n'], data_plot2['acc'], label=\"0.75\")\n",
        "plt.plot(data_plot3['total_n'], data_plot3['acc'], label=\"0.7\")\n",
        "plt.plot(data_plot4['total_n'], data_plot4['acc'], label=\"0.6\")\n",
        "plt.legend(bbox_to_anchor=(0., 1.02, 1., .102), loc='lower left',\n",
        "           ncol=2, mode=\"expand\", borderaxespad=0.)\n",
        "\n",
        "plt.xlabel('Total Neighbors')\n",
        "plt.ylabel('Accuracy')\n",
        "plt.show"
      ]
    },
    {
      "cell_type": "markdown",
      "metadata": {
        "id": "cYzud3I2X-v5"
      },
      "source": [
        "**TEST**"
      ]
    },
    {
      "cell_type": "code",
      "execution_count": null,
      "metadata": {
        "colab": {
          "base_uri": "https://localhost:8080/"
        },
        "id": "972fZJqf8tCN",
        "outputId": "e41666eb-dbbb-4108-ffb0-18860bf5e5fc"
      },
      "outputs": [
        {
          "name": "stdout",
          "output_type": "stream",
          "text": [
            "R Squared Score - Test: 0.24444623992566705\n",
            "Root Mean Squared Error - Test: 0.493681538228051\n",
            "Mean Absolute Error - Test: 0.20833333333333334\n",
            "Mean Squared Error - Test: 0.2437214611872146\n",
            "Coefficient of Variation - Test: 175.85500000000002\n"
          ]
        }
      ],
      "source": [
        "from sklearn import metrics\n",
        "from sklearn.metrics import r2_score\n",
        "import math\n",
        "\n",
        "x_train, x_test, y_train, y_test = train_test_split(x, y, train_size=0.8, random_state=42)\n",
        "Actual = y_test.values.flatten()\n",
        "predict = knn.predict(x_test)\n",
        "\n",
        "r2score = r2_score(Actual, predict)\n",
        "print('R Squared Score - Test:', r2score)\n",
        "print('Root Mean Squared Error - Test:', np.sqrt(metrics.mean_squared_error(y_test, predict)))\n",
        "print('Mean Absolute Error - Test:', metrics.mean_absolute_error(y_test, predict))  \n",
        "print('Mean Squared Error - Test:', metrics.mean_squared_error(y_test, predict))  \n",
        "\n",
        "def mean(arr, n):\n",
        "    sum = 0\n",
        "     \n",
        "    for i in range(0, n):\n",
        "        sum = sum + arr[i]\n",
        "    return (sum / n)\n",
        " \n",
        "#tFinding the Standard Deviation\n",
        "def standardDeviation(arr, n):\n",
        "    sum = 0\n",
        "     \n",
        "    for i in range(0, n):\n",
        "        sum = (sum + (arr[i] - mean(arr, n)) *\n",
        "                      (arr[i] - mean(arr, n)))\n",
        " \n",
        "    return math.sqrt(sum / (n - 1))\n",
        " \n",
        " \n",
        "#Finding the Coefficient of Variation\n",
        "def coefficientOfVariation(arr, n):\n",
        "    return (standardDeviation(arr, n) /\n",
        "                          mean(arr, n))\n",
        " \n",
        " \n",
        "arr = Actual\n",
        "n = len(arr)\n",
        " \n",
        "print('Coefficient of Variation - Test:', round(coefficientOfVariation (arr, n), 5) * 100)"
      ]
    },
    {
      "cell_type": "markdown",
      "metadata": {
        "id": "e5ibf-rmYCuu"
      },
      "source": [
        "**TRAIN**"
      ]
    },
    {
      "cell_type": "code",
      "execution_count": null,
      "metadata": {
        "colab": {
          "base_uri": "https://localhost:8080/"
        },
        "id": "v3hRSlxcUIhi",
        "outputId": "a2068cc0-63b8-4549-8449-00d0cefa527a"
      },
      "outputs": [
        {
          "name": "stdout",
          "output_type": "stream",
          "text": [
            "R Squared Score - Test: 0.3980373960810746\n",
            "Root Mean Squared Error - Test: 0.44871073555344454\n",
            "Mean Absolute Error - Test: 0.1733732876712329\n",
            "Mean Squared Error - Test: 0.20134132420091325\n",
            "Coefficient of Variation - Test: 173.36499999999998\n"
          ]
        }
      ],
      "source": [
        "Actual = y_train.values.flatten()\n",
        "predict = knn.predict(x_train)\n",
        "\n",
        "r2score = r2_score(Actual, predict)\n",
        "print('R Squared Score - Test:', r2score)\n",
        "print('Root Mean Squared Error - Test:', np.sqrt(metrics.mean_squared_error(y_train, predict)))\n",
        "print('Mean Absolute Error - Test:', metrics.mean_absolute_error(y_train, predict))  \n",
        "print('Mean Squared Error - Test:', metrics.mean_squared_error(y_train, predict))  \n",
        "\n",
        "def mean(arr, n):\n",
        "    sum = 0\n",
        "     \n",
        "    for i in range(0, n):\n",
        "        sum = sum + arr[i]\n",
        "    return (sum / n)\n",
        " \n",
        "def standardDeviation(arr, n):\n",
        "    sum = 0\n",
        "     \n",
        "    for i in range(0, n):\n",
        "        sum = (sum + (arr[i] - mean(arr, n)) *\n",
        "                      (arr[i] - mean(arr, n)))\n",
        " \n",
        "    return math.sqrt(sum / (n - 1))\n",
        " \n",
        " \n",
        "def coefficientOfVariation(arr, n):\n",
        "    return (standardDeviation(arr, n) /\n",
        "                          mean(arr, n))\n",
        " \n",
        " \n",
        "arr = Actual\n",
        "n = len(arr)\n",
        " \n",
        "print('Coefficient of Variation - Test:', round(coefficientOfVariation (arr, n), 5) * 100)"
      ]
    },
    {
      "cell_type": "markdown",
      "metadata": {
        "id": "zZFiI0UROvQk"
      },
      "source": [
        "# **Naive Bayes**"
      ]
    },
    {
      "cell_type": "code",
      "execution_count": null,
      "metadata": {
        "colab": {
          "base_uri": "https://localhost:8080/"
        },
        "id": "aVIvqbguOu1f",
        "outputId": "5594bd3a-5d34-4b6c-d0c0-445cf2f8c8bc"
      },
      "outputs": [
        {
          "name": "stdout",
          "output_type": "stream",
          "text": [
            "[1.         0.37100457 0.47659817 0.19805936 0.40810502]\n",
            "49.07534246575342\n"
          ]
        }
      ],
      "source": [
        "from sklearn.naive_bayes import GaussianNB\n",
        "\n",
        "fitur = [\"Hour\", \"Temperature\", \"Humidity\", \"Wind speed \",\"Visibility \", \"Dew point temperature\", \"Solar Radiation \",\"Snowfall\",\"Rainfall\", \"Holiday\", \"NoFunc\",\"Func\",\"Spring\",\"Autumn\",\"Summer\",\"Winter\",\"Sunday\",\"Monday\",\"Tuesday\",\"Wednesday\",\"Thursday\",\"Friday\",\"Saturday\"]\n",
        "x = datafs[fitur]\n",
        "y = datafs['Count']\n",
        "\n",
        "naivebayes = GaussianNB()\n",
        "kfold = model_selection.KFold()\n",
        "scoring = ['accuracy', 'precision', 'recall', 'f1', 'roc_auc']\n",
        "print(cross_val_score(naivebayes, x, y, cv=kfold, scoring=\"accuracy\"))\n",
        "result = cross_val_score(naivebayes, x, y, cv=kfold, scoring=\"accuracy\")\n",
        "print(result.mean()*100)"
      ]
    },
    {
      "cell_type": "code",
      "execution_count": null,
      "metadata": {
        "colab": {
          "base_uri": "https://localhost:8080/"
        },
        "id": "hUEgYJI0O4D8",
        "outputId": "188b478f-73b0-40bb-8b97-3b552415beb5"
      },
      "outputs": [
        {
          "name": "stdout",
          "output_type": "stream",
          "text": [
            "              precision    recall  f1-score   support\n",
            "\n",
            "           0       1.00      0.45      0.62      1277\n",
            "           1       0.25      0.56      0.34       384\n",
            "           2       0.23      0.78      0.35        91\n",
            "\n",
            "    accuracy                           0.49      1752\n",
            "   macro avg       0.49      0.60      0.44      1752\n",
            "weighted avg       0.79      0.49      0.55      1752\n",
            "\n"
          ]
        }
      ],
      "source": [
        "x_train, x_test, y_train, y_test = train_test_split(x, y, train_size=0.8, random_state=42)\n",
        "naivebayes.fit(x_train, y_train)\n",
        "score_test = naivebayes.score(x_test, y_test)\n",
        "predict = naivebayes.predict(x_test)\n",
        "print(classification_report(y_test, predict))"
      ]
    },
    {
      "cell_type": "code",
      "execution_count": null,
      "metadata": {
        "colab": {
          "base_uri": "https://localhost:8080/"
        },
        "id": "zYqmtzetO7A9",
        "outputId": "afb425b5-6b7c-4940-c84c-c7fea55af620"
      },
      "outputs": [
        {
          "name": "stdout",
          "output_type": "stream",
          "text": [
            "Accuracy Naive Bayes with train size 0.90 : 51.712%\n",
            "Accuracy Naive Bayes with train size 0.80 : 49.258%\n",
            "Accuracy Naive Bayes with train size 0.75 : 49.361%\n",
            "Accuracy Naive Bayes with train size 0.70 : 48.478%\n",
            "Accuracy Naive Bayes with train size 0.67 : 48.425%\n"
          ]
        }
      ],
      "source": [
        "train_size = [0.9, 0.8, 0.75, 0.7, 2/3]\n",
        "for t in train_size :\n",
        "    naivebayes = GaussianNB()\n",
        "    x_train, x_test, y_train, y_test = train_test_split(x, y, train_size=t, random_state=42)\n",
        "    naivebayes.fit(x_train, y_train)\n",
        "    score = naivebayes.score(x_test, y_test)\n",
        "    print(\"Accuracy Naive Bayes with train size %.2f : %.3f%%\" % (t, score*100))"
      ]
    },
    {
      "cell_type": "markdown",
      "metadata": {
        "id": "8MwlLIFFmz3I"
      },
      "source": [
        "**TEST**"
      ]
    },
    {
      "cell_type": "code",
      "execution_count": null,
      "metadata": {
        "colab": {
          "base_uri": "https://localhost:8080/"
        },
        "id": "LMjeNJUKJ7c-",
        "outputId": "8ec04e65-3023-4931-feb5-8bfe3e529077"
      },
      "outputs": [
        {
          "name": "stdout",
          "output_type": "stream",
          "text": [
            "R Squared Score - Test: -1.043235450086172\n",
            "Root Mean Squared Error - Test: 2.535141147800139\n",
            "Mean Absolute Error - Test: 5.399543378995434\n",
            "Mean Squared Error - Test: 6.426940639269406\n",
            "Coefficient of Variation - Test: 180.728\n"
          ]
        }
      ],
      "source": [
        "from sklearn import metrics\n",
        "from sklearn.metrics import r2_score\n",
        "import math\n",
        "\n",
        "x_train, x_test, y_train, y_test = train_test_split(x, y, train_size=0.9, random_state=42)\n",
        "Actual = y_test.values.flatten()\n",
        "predict = naivebayes.predict(x_test)\n",
        "\n",
        "r2score = r2_score(Actual, predict)\n",
        "print('R Squared Score - Test:', r2score)\n",
        "print('Root Mean Squared Error - Test:', np.sqrt(metrics.mean_squared_error(y_test, predict)*10))\n",
        "print('Mean Absolute Error - Test:', metrics.mean_absolute_error(y_test, predict)*10)  \n",
        "print('Mean Squared Error - Test:', metrics.mean_squared_error(y_test, predict)*10)  \n",
        "\n",
        "def mean(arr, n):\n",
        "    sum = 0\n",
        "     \n",
        "    for i in range(0, n):\n",
        "        sum = sum + arr[i]\n",
        "    return (sum / n)\n",
        " \n",
        "def standardDeviation(arr, n):\n",
        "    sum = 0\n",
        "     \n",
        "    for i in range(0, n):\n",
        "        sum = (sum + (arr[i] - mean(arr, n)) *\n",
        "                      (arr[i] - mean(arr, n)))\n",
        " \n",
        "    return math.sqrt(sum / (n - 1))\n",
        " \n",
        " \n",
        "def coefficientOfVariation(arr, n):\n",
        "    return (standardDeviation(arr, n) /\n",
        "                          mean(arr, n))\n",
        " \n",
        " \n",
        "arr = Actual\n",
        "n = len(arr)\n",
        " \n",
        "print('Coefficient of Variation - Test:', round(coefficientOfVariation (arr, n), 5) * 100)"
      ]
    },
    {
      "cell_type": "markdown",
      "metadata": {
        "id": "sIY7xzfqm2EE"
      },
      "source": [
        "**TRAIN**"
      ]
    },
    {
      "cell_type": "code",
      "execution_count": null,
      "metadata": {
        "colab": {
          "base_uri": "https://localhost:8080/"
        },
        "id": "cM5eSfkgfxcZ",
        "outputId": "2e684ec3-d79e-4324-8ddc-9af96be976bd"
      },
      "outputs": [
        {
          "name": "stdout",
          "output_type": "stream",
          "text": [
            "R Squared Score - Test: -0.8565837092913393\n",
            "Root Mean Squared Error - Test: 7.874748834308941\n",
            "Mean Absolute Error - Test: 56.07559614408929\n",
            "Mean Squared Error - Test: 62.011669203450026\n",
            "Coefficient of Variation - Test: 77.533\n"
          ]
        }
      ],
      "source": [
        "predict = naivebayes.predict(x_train)\n",
        "\n",
        "r2score = r2_score(y_train, predict)\n",
        "print('R Squared Score - Test:', r2score)\n",
        "print('Root Mean Squared Error - Test:', np.sqrt(metrics.mean_squared_error(y_train, predict)*10))\n",
        "print('Mean Absolute Error - Test:', metrics.mean_absolute_error(y_train, predict)*10)  \n",
        "print('Mean Squared Error - Test:', metrics.mean_squared_error(y_train, predict)*10)  \n",
        " \n",
        "def mean(arr, n):\n",
        "    sum = 0\n",
        "     \n",
        "    for i in range(0, n):\n",
        "        sum = sum + arr[i]\n",
        "    return (sum / n)\n",
        " \n",
        "def standardDeviation(arr, n):\n",
        "    sum = 0\n",
        "     \n",
        "    for i in range(0, n):\n",
        "        sum = (sum + (arr[i] - mean(arr, n)) *\n",
        "                      (arr[i] - mean(arr, n)))\n",
        " \n",
        "    return math.sqrt(sum / (n - 1))\n",
        " \n",
        " \n",
        "def coefficientOfVariation(arr, n):\n",
        "    return (standardDeviation(arr, n) /\n",
        "                          mean(arr, n))\n",
        " \n",
        " \n",
        "arr = Actual\n",
        "n = len(arr)\n",
        " \n",
        "print('Coefficient of Variation - Test:', round(coefficientOfVariation (arr, n), 5) * 100)"
      ]
    },
    {
      "cell_type": "markdown",
      "metadata": {
        "id": "PVxGGI5RHNHV"
      },
      "source": [
        "# **Linear Regression**"
      ]
    },
    {
      "cell_type": "code",
      "execution_count": null,
      "metadata": {
        "id": "6FomYm8S0QYp"
      },
      "outputs": [],
      "source": [
        "model = LinearRegression()\n",
        "fitur = [\"Hour\", \"Temperature\", \"Humidity\", \"Wind speed \",\"Visibility \", \"Dew point temperature\", \"Solar Radiation \",\"Snowfall\",\"Rainfall\", \"Holiday\", \"NoFunc\",\"Func\",\"Spring\",\"Autumn\",\"Summer\",\"Winter\",\"Sunday\",\"Monday\",\"Tuesday\",\"Wednesday\",\"Thursday\",\"Friday\",\"Saturday\"]\n",
        "\n",
        "x = datafs[fitur]\n",
        "y = datafs['Rented Bike Count']\n",
        "\n",
        "x_train, x_test, y_train, y_test = train_test_split(x, y, train_size=0.9, random_state=42)\n",
        "model.fit(x_train, y_train)\n",
        "predictions = model.predict(x_test)"
      ]
    },
    {
      "cell_type": "markdown",
      "metadata": {
        "id": "kP47Bq3knYX6"
      },
      "source": [
        "**TEST**"
      ]
    },
    {
      "cell_type": "code",
      "execution_count": null,
      "metadata": {
        "colab": {
          "base_uri": "https://localhost:8080/"
        },
        "id": "cnt3Wa2m1DHZ",
        "outputId": "6311cb30-037f-4ea7-febd-a72f0b457e09"
      },
      "outputs": [
        {
          "name": "stdout",
          "output_type": "stream",
          "text": [
            "R Squared Score - Test: 0.5545750663675948\n",
            "Root Mean Squared Error - Test: 430.72559310947713\n",
            "Mean Absolute Error - Test: 322.16598347944785\n",
            "Mean Squared Error - Test: 185524.53655951083\n",
            "Coefficient of Variation - Test: 91.541\n"
          ]
        }
      ],
      "source": [
        "import math\n",
        "from sklearn.metrics import r2_score\n",
        "from sklearn import metrics\n",
        "\n",
        "Actual = y_test.values.flatten()\n",
        "predictions = model.predict(x_test)\n",
        "\n",
        "r_squared = r2_score(y_test, predictions)\n",
        "print('R Squared Score - Test:', r_squared)\n",
        "print('Root Mean Squared Error - Test:', np.sqrt(metrics.mean_squared_error(y_test, predictions)))\n",
        "print('Mean Absolute Error - Test:', metrics.mean_absolute_error(y_test, predictions))\n",
        "print('Mean Squared Error - Test:', metrics.mean_squared_error(y_test, predictions))\n",
        "\n",
        "def mean(arr, n):\n",
        "    sum = 0\n",
        "     \n",
        "    for i in range(0, n):\n",
        "        sum = sum + arr[i]\n",
        "    return (sum / n)\n",
        " \n",
        "\n",
        "def standardDeviation(arr, n):\n",
        "    sum = 0\n",
        "     \n",
        "    for i in range(0, n):\n",
        "        sum = (sum + (arr[i] - mean(arr, n)) *\n",
        "                      (arr[i] - mean(arr, n)))\n",
        " \n",
        "    return math.sqrt(sum / (n - 1))\n",
        " \n",
        " \n",
        "\n",
        "def coefficientOfVariation(arr, n):\n",
        "    return (standardDeviation(arr, n) /\n",
        "                          mean(arr, n))\n",
        " \n",
        " \n",
        "\n",
        "arr = Actual\n",
        "n = len(arr)\n",
        " \n",
        "print('Coefficient of Variation - Test:', round(coefficientOfVariation (arr, n), 5) * 100)"
      ]
    },
    {
      "cell_type": "markdown",
      "metadata": {
        "id": "GkNUFOLnnayN"
      },
      "source": [
        "**TRAIN**"
      ]
    },
    {
      "cell_type": "code",
      "execution_count": null,
      "metadata": {
        "colab": {
          "base_uri": "https://localhost:8080/"
        },
        "id": "DHzf8hP4dnTO",
        "outputId": "40adfa3f-0a61-46d6-db6b-03aea073c14f"
      },
      "outputs": [
        {
          "name": "stdout",
          "output_type": "stream",
          "text": [
            "R Squared Score - Test: 0.5548404250043935\n",
            "Root Mean Squared Error - Test: 430.2778003366833\n",
            "Mean Absolute Error - Test: 322.1955051683857\n",
            "Mean Squared Error - Test: 185138.9854625747\n",
            "Coefficient of Variation - Test: 0.93377\n"
          ]
        }
      ],
      "source": [
        "y_pred = model.predict(x_train)\n",
        "predictions = model.predict(x_train)\n",
        "\n",
        "predictions = model.predict(x_train)\n",
        "r2score = r2_score(y_train, y_pred)\n",
        "print('R Squared Score - Test:', r2score)\n",
        "print('Root Mean Squared Error - Test:', np.sqrt(metrics.mean_squared_error(y_train, predictions)))\n",
        "print('Mean Absolute Error - Test:', metrics.mean_absolute_error(y_train, predictions))\n",
        "print('Mean Squared Error - Test:', metrics.mean_squared_error(y_train, predictions))   \n",
        "\n",
        "\n",
        "def mean(arr, n):\n",
        "    sum = 0\n",
        "     \n",
        "    for i in range(0, n):\n",
        "        sum = sum + arr[i]\n",
        "    return (sum / n)\n",
        " \n",
        "\n",
        "def standardDeviation(arr, n):\n",
        "    sum = 0\n",
        "     \n",
        "    for i in range(0, n):\n",
        "        sum = (sum + (arr[i] - mean(arr, n)) *\n",
        "                      (arr[i] - mean(arr, n)))\n",
        " \n",
        "    return math.sqrt(sum / (n - 1))\n",
        " \n",
        " \n",
        "\n",
        "def coefficientOfVariation(arr, n):\n",
        "    return (standardDeviation(arr, n) /\n",
        "                          mean(arr, n))\n",
        " \n",
        " \n",
        "\n",
        "arr = Actual\n",
        "n = len(arr)\n",
        " \n",
        "print('Coefficient of Variation - Test:', round(coefficientOfVariation (arr, n), 5) * 100)"
      ]
    },
    {
      "cell_type": "code",
      "execution_count": null,
      "metadata": {
        "colab": {
          "base_uri": "https://localhost:8080/",
          "height": 424
        },
        "id": "cU7hmzba1RlI",
        "outputId": "b133ccf0-2846-4d82-e19f-0d26784812aa"
      },
      "outputs": [
        {
          "data": {
            "text/html": [
              "<div>\n",
              "<style scoped>\n",
              "    .dataframe tbody tr th:only-of-type {\n",
              "        vertical-align: middle;\n",
              "    }\n",
              "\n",
              "    .dataframe tbody tr th {\n",
              "        vertical-align: top;\n",
              "    }\n",
              "\n",
              "    .dataframe thead th {\n",
              "        text-align: right;\n",
              "    }\n",
              "</style>\n",
              "<table border=\"1\" class=\"dataframe\">\n",
              "  <thead>\n",
              "    <tr style=\"text-align: right;\">\n",
              "      <th></th>\n",
              "      <th>Actual</th>\n",
              "      <th>Predicted</th>\n",
              "    </tr>\n",
              "  </thead>\n",
              "  <tbody>\n",
              "    <tr>\n",
              "      <th>0</th>\n",
              "      <td>1</td>\n",
              "      <td>0.525619</td>\n",
              "    </tr>\n",
              "    <tr>\n",
              "      <th>1</th>\n",
              "      <td>0</td>\n",
              "      <td>0.608602</td>\n",
              "    </tr>\n",
              "    <tr>\n",
              "      <th>2</th>\n",
              "      <td>0</td>\n",
              "      <td>0.813403</td>\n",
              "    </tr>\n",
              "    <tr>\n",
              "      <th>3</th>\n",
              "      <td>2</td>\n",
              "      <td>0.785735</td>\n",
              "    </tr>\n",
              "    <tr>\n",
              "      <th>4</th>\n",
              "      <td>1</td>\n",
              "      <td>0.125249</td>\n",
              "    </tr>\n",
              "    <tr>\n",
              "      <th>...</th>\n",
              "      <td>...</td>\n",
              "      <td>...</td>\n",
              "    </tr>\n",
              "    <tr>\n",
              "      <th>2185</th>\n",
              "      <td>0</td>\n",
              "      <td>-0.242318</td>\n",
              "    </tr>\n",
              "    <tr>\n",
              "      <th>2186</th>\n",
              "      <td>0</td>\n",
              "      <td>0.675054</td>\n",
              "    </tr>\n",
              "    <tr>\n",
              "      <th>2187</th>\n",
              "      <td>1</td>\n",
              "      <td>0.482178</td>\n",
              "    </tr>\n",
              "    <tr>\n",
              "      <th>2188</th>\n",
              "      <td>0</td>\n",
              "      <td>-0.290164</td>\n",
              "    </tr>\n",
              "    <tr>\n",
              "      <th>2189</th>\n",
              "      <td>0</td>\n",
              "      <td>0.355962</td>\n",
              "    </tr>\n",
              "  </tbody>\n",
              "</table>\n",
              "<p>2190 rows × 2 columns</p>\n",
              "</div>"
            ],
            "text/plain": [
              "      Actual  Predicted\n",
              "0          1   0.525619\n",
              "1          0   0.608602\n",
              "2          0   0.813403\n",
              "3          2   0.785735\n",
              "4          1   0.125249\n",
              "...      ...        ...\n",
              "2185       0  -0.242318\n",
              "2186       0   0.675054\n",
              "2187       1   0.482178\n",
              "2188       0  -0.290164\n",
              "2189       0   0.355962\n",
              "\n",
              "[2190 rows x 2 columns]"
            ]
          },
          "execution_count": 454,
          "metadata": {
            "tags": []
          },
          "output_type": "execute_result"
        }
      ],
      "source": [
        "y_pred = model.predict(x_test)\n",
        "df = pd.DataFrame({'Actual': y_test.values.flatten(), 'Predicted': y_pred.flatten()})\n",
        "df"
      ]
    },
    {
      "cell_type": "markdown",
      "metadata": {
        "id": "oRqymHPHE09Q"
      },
      "source": [
        "# **Non Linear Regression**"
      ]
    },
    {
      "cell_type": "code",
      "execution_count": null,
      "metadata": {
        "id": "ZEFTbd-gE6L1"
      },
      "outputs": [],
      "source": [
        "# Import Library\n",
        "from sklearn.linear_model import LogisticRegression\n",
        "from sklearn.metrics import classification_report, confusion_matrix"
      ]
    },
    {
      "cell_type": "code",
      "execution_count": null,
      "metadata": {
        "colab": {
          "base_uri": "https://localhost:8080/"
        },
        "id": "nx2hTHc6FBRT",
        "outputId": "021782e9-ad2e-4083-928e-8f67f37e7a87"
      },
      "outputs": [
        {
          "data": {
            "text/plain": [
              "78.12024353120243"
            ]
          },
          "execution_count": 56,
          "metadata": {
            "tags": []
          },
          "output_type": "execute_result"
        }
      ],
      "source": [
        "# Logistic Regression with train test split\n",
        "fitur = [\"Hour\", \"Temperature\", \"Humidity\", \"Wind speed \",\"Visibility \", \"Dew point temperature\", \"Solar Radiation \",\"Snowfall\",\"Rainfall\", \"Holiday\", \"NoFunc\",\"Func\",\"Spring\",\"Autumn\",\"Summer\",\"Winter\",\"Sunday\",\"Monday\",\"Tuesday\",\"Wednesday\",\"Thursday\",\"Friday\",\"Saturday\"]\n",
        "\n",
        "x = datafs[fitur]\n",
        "y = datafs['Count'] #decision attribute\n",
        "\n",
        "logreg = LogisticRegression()\n",
        "x_train, x_test, y_train, y_test = train_test_split(x, y, train_size=0.7, random_state=42)\n",
        "logreg.fit(x_train, y_train)\n",
        "logreg.score(x_test, y_test)*100"
      ]
    },
    {
      "cell_type": "code",
      "execution_count": null,
      "metadata": {
        "colab": {
          "base_uri": "https://localhost:8080/"
        },
        "id": "Ehu38FbtFTuL",
        "outputId": "ac864d51-d753-47d1-c520-1f1b3c5454a8"
      },
      "outputs": [
        {
          "name": "stdout",
          "output_type": "stream",
          "text": [
            "0.7973744292237442\n",
            "0.8009893455098934\n",
            "0.7949771689497717\n",
            "0.7953767123287672\n"
          ]
        }
      ],
      "source": [
        "# Comparing Regresi Non Linear\n",
        "train_size = [0.8, 0.7, 3/4, 0.6]\n",
        "\n",
        "for t in train_size :\n",
        "  logreg = LogisticRegression(random_state=42, max_iter=1000)\n",
        "  x_train, x_test, y_train, y_test = train_test_split(x, y, train_size=t, random_state=42)\n",
        "  logreg.fit(x_train, y_train)\n",
        "  result = logreg.score(x_test, y_test)\n",
        "  print(result)"
      ]
    },
    {
      "cell_type": "markdown",
      "metadata": {
        "id": "mgUo-oTHHVAS"
      },
      "source": [
        "**Test**"
      ]
    },
    {
      "cell_type": "code",
      "execution_count": null,
      "metadata": {
        "colab": {
          "base_uri": "https://localhost:8080/"
        },
        "id": "GNwa6eL4FqIj",
        "outputId": "05759908-0dce-411a-b26b-87e661884d85"
      },
      "outputs": [
        {
          "name": "stdout",
          "output_type": "stream",
          "text": [
            "R Squared Score - Test: 0.24549627825309084\n",
            "Root Mean Squared Error - Test: 0.49397049437701085\n",
            "Mean Absolute Error - Test: 0.2177511415525114\n",
            "Mean Squared Error - Test: 0.2440068493150685\n",
            "Coefficient of Variation - Test: 173.905\n"
          ]
        }
      ],
      "source": [
        "import math\n",
        "from sklearn.metrics import r2_score\n",
        "from sklearn import metrics\n",
        "\n",
        "Actual = y_test.values.flatten()\n",
        "predictions = logreg.predict(x_test)\n",
        "\n",
        "r_squared = r2_score(Actual, predictions)\n",
        "print('R Squared Score - Test:', r_squared)\n",
        "print('Root Mean Squared Error - Test:', np.sqrt(metrics.mean_squared_error(y_test, predictions)))\n",
        "print('Mean Absolute Error - Test:', metrics.mean_absolute_error(y_test, predictions))\n",
        "print('Mean Squared Error - Test:', metrics.mean_squared_error(y_test, predictions))\n",
        "\n",
        "\n",
        "def mean(arr, n):\n",
        "    sum = 0\n",
        "     \n",
        "    for i in range(0, n):\n",
        "        sum = sum + arr[i]\n",
        "    return (sum / n)\n",
        " \n",
        "\n",
        "def standardDeviation(arr, n):\n",
        "    sum = 0\n",
        "     \n",
        "    for i in range(0, n):\n",
        "        sum = (sum + (arr[i] - mean(arr, n)) *\n",
        "                      (arr[i] - mean(arr, n)))\n",
        " \n",
        "    return math.sqrt(sum / (n - 1))\n",
        " \n",
        " \n",
        "\n",
        "def coefficientOfVariation(arr, n):\n",
        "    return (standardDeviation(arr, n) /\n",
        "                          mean(arr, n))\n",
        " \n",
        " \n",
        "\n",
        "arr = Actual\n",
        "n = len(arr)\n",
        " \n",
        "print('Coefficient of Variation - Test:', round(coefficientOfVariation (arr, n), 5) * 100)"
      ]
    },
    {
      "cell_type": "markdown",
      "metadata": {
        "id": "qCDZluW9HWRY"
      },
      "source": [
        "**Train**"
      ]
    },
    {
      "cell_type": "code",
      "execution_count": null,
      "metadata": {
        "colab": {
          "base_uri": "https://localhost:8080/"
        },
        "id": "w_NKrd6pGkOD",
        "outputId": "1f2303da-366d-4e3a-a457-c987b7886704"
      },
      "outputs": [
        {
          "name": "stdout",
          "output_type": "stream",
          "text": [
            "R Squared Score - Train: 0.3400875450741434\n",
            "Root Mean Squared Error - Train: 0.47221103039830886\n",
            "Mean Absolute Error - Train: 0.2009132420091324\n",
            "Mean Squared Error - Train: 0.22298325722983256\n",
            "Coefficient of Variation - Test: 173.808\n"
          ]
        }
      ],
      "source": [
        "Actual = y_train.values.flatten()\n",
        "predictions = logreg.predict(x_train)\n",
        "\n",
        "r_squared = r2_score(y_train, predictions)\n",
        "print('R Squared Score - Train:', r_squared)\n",
        "print('Root Mean Squared Error - Train:', np.sqrt(metrics.mean_squared_error(y_train, predictions)))\n",
        "print('Mean Absolute Error - Train:', metrics.mean_absolute_error(y_train, predictions))\n",
        "print('Mean Squared Error - Train:', metrics.mean_squared_error(y_train, predictions))\n",
        "\n",
        "\n",
        "def mean(arr, n):\n",
        "    sum = 0\n",
        "     \n",
        "    for i in range(0, n):\n",
        "        sum = sum + arr[i]\n",
        "    return (sum / n)\n",
        " \n",
        "\n",
        "def standardDeviation(arr, n):\n",
        "    sum = 0\n",
        "     \n",
        "    for i in range(0, n):\n",
        "        sum = (sum + (arr[i] - mean(arr, n)) *\n",
        "                      (arr[i] - mean(arr, n)))\n",
        " \n",
        "    return math.sqrt(sum / (n - 1))\n",
        " \n",
        " \n",
        "\n",
        "def coefficientOfVariation(arr, n):\n",
        "    return (standardDeviation(arr, n) /\n",
        "                          mean(arr, n))\n",
        " \n",
        " \n",
        "\n",
        "arr = Actual\n",
        "n = len(arr)\n",
        " \n",
        "print('Coefficient of Variation - Test:', round(coefficientOfVariation (arr, n), 5) * 100)"
      ]
    },
    {
      "cell_type": "markdown",
      "metadata": {
        "id": "OlXek6FEA_2G"
      },
      "source": [
        "**Ensemble Learning Methods**"
      ]
    },
    {
      "cell_type": "markdown",
      "metadata": {
        "id": "c_JEXJFF2c5l"
      },
      "source": [
        "# **AdaBoost**"
      ]
    },
    {
      "cell_type": "code",
      "execution_count": null,
      "metadata": {
        "id": "1gOFoWpF2i-4"
      },
      "outputs": [],
      "source": [
        "#Spliting Dataset\n",
        "train, test = train_test_split(datafs, test_size=0.3, random_state=0)\n",
        "\n",
        "x_train=datafs.drop('Count',axis=1)\n",
        "y_train=datafs['Count']\n",
        "\n",
        "x_test=datafs.drop('Count',axis=1)\n",
        "y_test=datafs['Count']\n",
        "\n",
        "#making dummies\n",
        "x_train=pd.get_dummies(x_train)\n",
        "x_test=pd.get_dummies(x_test)"
      ]
    },
    {
      "cell_type": "code",
      "execution_count": null,
      "metadata": {
        "colab": {
          "base_uri": "https://localhost:8080/"
        },
        "id": "RbDcGeC537c_",
        "outputId": "3a544f98-95fa-458c-bcf5-bde3bd264ef4"
      },
      "outputs": [
        {
          "data": {
            "text/plain": [
              "0.9999931255038158"
            ]
          },
          "execution_count": 150,
          "metadata": {
            "tags": []
          },
          "output_type": "execute_result"
        }
      ],
      "source": [
        "from sklearn.ensemble import AdaBoostClassifier\n",
        "models = AdaBoostClassifier(random_state=1)\n",
        "model.fit(x_train, y_train)\n",
        "model.score(x_test,y_test)"
      ]
    },
    {
      "cell_type": "code",
      "execution_count": null,
      "metadata": {
        "colab": {
          "base_uri": "https://localhost:8080/"
        },
        "id": "DMb0crza4JfD",
        "outputId": "19d2a1d9-1dfe-4132-ea42-d1fad0f4986c"
      },
      "outputs": [
        {
          "data": {
            "text/plain": [
              "1.0"
            ]
          },
          "execution_count": 151,
          "metadata": {
            "tags": []
          },
          "output_type": "execute_result"
        }
      ],
      "source": [
        "#making regresion\n",
        "from sklearn.ensemble import AdaBoostRegressor\n",
        "model = AdaBoostRegressor()\n",
        "model.fit(x_train, y_train)\n",
        "model.score(x_test,y_test)"
      ]
    },
    {
      "cell_type": "code",
      "execution_count": null,
      "metadata": {
        "colab": {
          "base_uri": "https://localhost:8080/"
        },
        "id": "FOddeeuJ47dw",
        "outputId": "aa653e4b-2b1f-49b7-9741-6cf94b835a78"
      },
      "outputs": [
        {
          "data": {
            "text/plain": [
              "53.74297793071649"
            ]
          },
          "execution_count": 152,
          "metadata": {
            "tags": []
          },
          "output_type": "execute_result"
        }
      ],
      "source": [
        "fitur = [\"Hour\", \"Temperature\", \"Humidity\", \"Wind speed \",\"Visibility \", \"Dew point temperature\", \"Solar Radiation \",\"Snowfall\",\"Rainfall\", \"Holiday\", \"NoFunc\",\"Func\",\"Spring\",\"Autumn\",\"Summer\",\"Winter\",\"Sunday\",\"Monday\",\"Tuesday\",\"Wednesday\",\"Thursday\",\"Friday\",\"Saturday\"]\n",
        "\n",
        "x = datafs[fitur]\n",
        "y = datafs['Count'] #decision attribute\n",
        "adreg = AdaBoostRegressor()\n",
        "x_train, x_test, y_train, y_test = train_test_split(x, y, train_size=0.9, random_state=42)\n",
        "adreg.fit(x_train, y_train)\n",
        "adreg.score(x_test, y_test)*100"
      ]
    },
    {
      "cell_type": "code",
      "execution_count": null,
      "metadata": {
        "colab": {
          "base_uri": "https://localhost:8080/"
        },
        "id": "osdZYnRI4cBy",
        "outputId": "e179521e-39ff-43ed-baac-7a868ab32426"
      },
      "outputs": [
        {
          "name": "stdout",
          "output_type": "stream",
          "text": [
            "R Squared Score - Test: 0.5728155153569024\n",
            "Root Mean Squared Error - Test: 0.36656472693520936\n",
            "Mean Absolute Error - Test: 0.2527883093026189\n",
            "Mean Squared Error - Test: 0.1343696990330846\n",
            "Coefficient of Variation - Test: 180.728\n"
          ]
        }
      ],
      "source": [
        "import math\n",
        "from sklearn.metrics import r2_score\n",
        "from sklearn import metrics\n",
        "\n",
        "Actual = y_test.values.flatten()\n",
        "predictions = adreg.predict(x_test)\n",
        "\n",
        "r_squared = r2_score(Actual, predictions)\n",
        "print('R Squared Score - Test:', r_squared)\n",
        "print('Root Mean Squared Error - Test:', np.sqrt(metrics.mean_squared_error(y_test, predictions)))\n",
        "print('Mean Absolute Error - Test:', metrics.mean_absolute_error(y_test, predictions))\n",
        "print('Mean Squared Error - Test:', metrics.mean_squared_error(y_test, predictions))\n",
        "\n",
        "\n",
        "def mean(arr, n):\n",
        "    sum = 0\n",
        "     \n",
        "    for i in range(0, n):\n",
        "        sum = sum + arr[i]\n",
        "    return (sum / n)\n",
        " \n",
        "\n",
        "def standardDeviation(arr, n):\n",
        "    sum = 0\n",
        "     \n",
        "    for i in range(0, n):\n",
        "        sum = (sum + (arr[i] - mean(arr, n)) *\n",
        "                      (arr[i] - mean(arr, n)))\n",
        " \n",
        "    return math.sqrt(sum / (n - 1))\n",
        " \n",
        " \n",
        "\n",
        "def coefficientOfVariation(arr, n):\n",
        "    return (standardDeviation(arr, n) /\n",
        "                          mean(arr, n))\n",
        " \n",
        " \n",
        "\n",
        "arr = Actual\n",
        "n = len(arr)\n",
        " \n",
        "print('Coefficient of Variation - Test:', round(coefficientOfVariation (arr, n), 5) * 100)"
      ]
    },
    {
      "cell_type": "code",
      "execution_count": null,
      "metadata": {
        "colab": {
          "base_uri": "https://localhost:8080/"
        },
        "id": "f6Fg2DbB5839",
        "outputId": "0d758557-121e-4dd6-bd91-9092970aec33"
      },
      "outputs": [
        {
          "name": "stdout",
          "output_type": "stream",
          "text": [
            "R Squared Score - Train: 0.5584238341504111\n",
            "Root Mean Squared Error - Train: 0.3840451237834246\n",
            "Mean Absolute Error - Train: 0.2650365114407365\n",
            "Mean Squared Error - Train: 0.14749065710182593\n",
            "Coefficient of Variation - Test: 173.128\n"
          ]
        }
      ],
      "source": [
        "Actual = y_train.values.flatten()\n",
        "predictions = adreg.predict(x_train)\n",
        "\n",
        "r_squared = r2_score(y_train, predictions)\n",
        "print('R Squared Score - Train:', r_squared)\n",
        "print('Root Mean Squared Error - Train:', np.sqrt(metrics.mean_squared_error(y_train, predictions)))\n",
        "print('Mean Absolute Error - Train:', metrics.mean_absolute_error(y_train, predictions))\n",
        "print('Mean Squared Error - Train:', metrics.mean_squared_error(y_train, predictions))\n",
        "\n",
        "\n",
        "def mean(arr, n):\n",
        "    sum = 0\n",
        "     \n",
        "    for i in range(0, n):\n",
        "        sum = sum + arr[i]\n",
        "    return (sum / n)\n",
        " \n",
        "\n",
        "def standardDeviation(arr, n):\n",
        "    sum = 0\n",
        "     \n",
        "    for i in range(0, n):\n",
        "        sum = (sum + (arr[i] - mean(arr, n)) *\n",
        "                      (arr[i] - mean(arr, n)))\n",
        " \n",
        "    return math.sqrt(sum / (n - 1))\n",
        " \n",
        " \n",
        "\n",
        "def coefficientOfVariation(arr, n):\n",
        "    return (standardDeviation(arr, n) /\n",
        "                          mean(arr, n))\n",
        " \n",
        " \n",
        "\n",
        "arr = Actual\n",
        "n = len(arr)\n",
        " \n",
        "print('Coefficient of Variation - Test:', round(coefficientOfVariation (arr, n), 5) * 100)"
      ]
    },
    {
      "cell_type": "markdown",
      "metadata": {
        "id": "47GMQKS56U-M"
      },
      "source": [
        "# **Baging Meta Estimator**"
      ]
    },
    {
      "cell_type": "code",
      "execution_count": null,
      "metadata": {
        "colab": {
          "base_uri": "https://localhost:8080/"
        },
        "id": "ylaz3Mdx3CBN",
        "outputId": "84390be7-45a9-4a78-892c-3c8f6c369ff7"
      },
      "outputs": [
        {
          "data": {
            "text/plain": [
              "0.8817351598173516"
            ]
          },
          "execution_count": 143,
          "metadata": {
            "tags": []
          },
          "output_type": "execute_result"
        }
      ],
      "source": [
        "#classification\n",
        "from sklearn.ensemble import BaggingClassifier\n",
        "from sklearn import tree\n",
        "model = BaggingClassifier(tree.DecisionTreeClassifier(random_state=1))\n",
        "model.fit(x_train, y_train)\n",
        "model.score(x_test,y_test)"
      ]
    },
    {
      "cell_type": "code",
      "execution_count": null,
      "metadata": {
        "colab": {
          "base_uri": "https://localhost:8080/"
        },
        "id": "J0pk_mxB3bzm",
        "outputId": "112b2c5c-5a16-4954-e7eb-ef4ad524b526"
      },
      "outputs": [
        {
          "data": {
            "text/plain": [
              "0.7027933625012266"
            ]
          },
          "execution_count": 144,
          "metadata": {
            "tags": []
          },
          "output_type": "execute_result"
        }
      ],
      "source": [
        "#regression\n",
        "from sklearn.ensemble import BaggingRegressor\n",
        "model = BaggingRegressor(tree.DecisionTreeRegressor(random_state=1))\n",
        "model.fit(x_train, y_train)\n",
        "model.score(x_test,y_test)"
      ]
    },
    {
      "cell_type": "code",
      "execution_count": null,
      "metadata": {
        "colab": {
          "base_uri": "https://localhost:8080/"
        },
        "id": "GxPOWnjX7r37",
        "outputId": "4cfc4a73-c01b-4668-d9fc-0559ca2902e1"
      },
      "outputs": [
        {
          "data": {
            "text/plain": [
              "80.79068341508685"
            ]
          },
          "execution_count": 145,
          "metadata": {
            "tags": []
          },
          "output_type": "execute_result"
        }
      ],
      "source": [
        "fitur = [\"Hour\", \"Temperature\", \"Humidity\", \"Wind speed \",\"Visibility \", \"Dew point temperature\", \"Solar Radiation \",\"Snowfall\",\"Rainfall\", \"Holiday\", \"NoFunc\",\"Func\",\"Spring\",\"Autumn\",\"Summer\",\"Winter\",\"Sunday\",\"Monday\",\"Tuesday\",\"Wednesday\",\"Thursday\",\"Friday\",\"Saturday\"]\n",
        "\n",
        "x = datafs[fitur]\n",
        "y = datafs['Count'] #decision attribute\n",
        "bagreg = BaggingRegressor()\n",
        "x_train, x_test, y_train, y_test = train_test_split(x, y, train_size=0.9, random_state=42)\n",
        "bagreg.fit(x_train, y_train)\n",
        "bagreg.score(x_test, y_test)*100"
      ]
    },
    {
      "cell_type": "code",
      "execution_count": null,
      "metadata": {
        "colab": {
          "base_uri": "https://localhost:8080/"
        },
        "id": "1DXnH55k77CK",
        "outputId": "9555dfed-ec31-4d8f-8aa5-483f8c00ee24"
      },
      "outputs": [
        {
          "name": "stdout",
          "output_type": "stream",
          "text": [
            "R Squared Score - Test: 0.8185040766273366\n",
            "Root Mean Squared Error - Test: 0.2389331310134499\n",
            "Mean Absolute Error - Test: 0.11175799086757991\n",
            "Mean Squared Error - Test: 0.057089041095890414\n",
            "Coefficient of Variation - Test: 180.728\n"
          ]
        }
      ],
      "source": [
        "import math\n",
        "from sklearn.metrics import r2_score\n",
        "from sklearn import metrics\n",
        "\n",
        "Actual = y_test.values.flatten()\n",
        "predictions = bagreg.predict(x_test)\n",
        "\n",
        "r_squared = r2_score(Actual, predictions)\n",
        "print('R Squared Score - Test:', r_squared)\n",
        "print('Root Mean Squared Error - Test:', np.sqrt(metrics.mean_squared_error(y_test, predictions)))\n",
        "print('Mean Absolute Error - Test:', metrics.mean_absolute_error(y_test, predictions))\n",
        "print('Mean Squared Error - Test:', metrics.mean_squared_error(y_test, predictions))\n",
        "\n",
        "\n",
        "def mean(arr, n):\n",
        "    sum = 0\n",
        "     \n",
        "    for i in range(0, n):\n",
        "        sum = sum + arr[i]\n",
        "    return (sum / n)\n",
        " \n",
        "\n",
        "def standardDeviation(arr, n):\n",
        "    sum = 0\n",
        "     \n",
        "    for i in range(0, n):\n",
        "        sum = (sum + (arr[i] - mean(arr, n)) *\n",
        "                      (arr[i] - mean(arr, n)))\n",
        " \n",
        "    return math.sqrt(sum / (n - 1))\n",
        " \n",
        " \n",
        "\n",
        "def coefficientOfVariation(arr, n):\n",
        "    return (standardDeviation(arr, n) /\n",
        "                          mean(arr, n))\n",
        " \n",
        " \n",
        "\n",
        "arr = Actual\n",
        "n = len(arr)\n",
        " \n",
        "print('Coefficient of Variation - Test:', round(coefficientOfVariation (arr, n), 5) * 100)"
      ]
    },
    {
      "cell_type": "code",
      "execution_count": null,
      "metadata": {
        "colab": {
          "base_uri": "https://localhost:8080/"
        },
        "id": "PJM5qFwD7-zX",
        "outputId": "bd149ae8-d27c-476f-b413-13dbfc47fc01"
      },
      "outputs": [
        {
          "name": "stdout",
          "output_type": "stream",
          "text": [
            "R Squared Score - Train: 0.9595949055699328\n",
            "Root Mean Squared Error - Train: 0.11617094072224003\n",
            "Mean Absolute Error - Train: 0.04982242516489092\n",
            "Mean Squared Error - Train: 0.013495687468290208\n",
            "Coefficient of Variation - Test: 173.128\n"
          ]
        }
      ],
      "source": [
        "Actual = y_train.values.flatten()\n",
        "predictions = bagreg.predict(x_train)\n",
        "\n",
        "r_squared = r2_score(y_train, predictions)\n",
        "print('R Squared Score - Train:', r_squared)\n",
        "print('Root Mean Squared Error - Train:', np.sqrt(metrics.mean_squared_error(y_train, predictions)))\n",
        "print('Mean Absolute Error - Train:', metrics.mean_absolute_error(y_train, predictions))\n",
        "print('Mean Squared Error - Train:', metrics.mean_squared_error(y_train, predictions))\n",
        "\n",
        "\n",
        "def mean(arr, n):\n",
        "    sum = 0\n",
        "     \n",
        "    for i in range(0, n):\n",
        "        sum = sum + arr[i]\n",
        "    return (sum / n)\n",
        " \n",
        "\n",
        "def standardDeviation(arr, n):\n",
        "    sum = 0\n",
        "     \n",
        "    for i in range(0, n):\n",
        "        sum = (sum + (arr[i] - mean(arr, n)) *\n",
        "                      (arr[i] - mean(arr, n)))\n",
        " \n",
        "    return math.sqrt(sum / (n - 1))\n",
        " \n",
        " \n",
        "\n",
        "def coefficientOfVariation(arr, n):\n",
        "    return (standardDeviation(arr, n) /\n",
        "                          mean(arr, n))\n",
        " \n",
        " \n",
        "\n",
        "arr = Actual\n",
        "n = len(arr)\n",
        " \n",
        "print('Coefficient of Variation - Test:', round(coefficientOfVariation (arr, n), 5) * 100)"
      ]
    },
    {
      "cell_type": "markdown",
      "metadata": {
        "id": "NEnIroRvDnU_"
      },
      "source": [
        "# Best Method"
      ]
    },
    {
      "cell_type": "markdown",
      "metadata": {
        "id": "MOBVDHvREEtx"
      },
      "source": [
        "**Ini yang no Temp**"
      ]
    },
    {
      "cell_type": "code",
      "execution_count": null,
      "metadata": {
        "colab": {
          "base_uri": "https://localhost:8080/"
        },
        "id": "X2xOoJ4KEC7S",
        "outputId": "a73e1dc3-3bbb-447f-9e51-9f0ff7760131"
      },
      "outputs": [
        {
          "data": {
            "text/plain": [
              "80.55841508683548"
            ]
          },
          "execution_count": 109,
          "metadata": {
            "tags": []
          },
          "output_type": "execute_result"
        }
      ],
      "source": [
        "fitur = [\"Hour\", \"Humidity\", \"Wind speed \",\"Visibility \", \"Dew point temperature\", \"Solar Radiation \",\"Snowfall\",\"Rainfall\", \"Holiday\", \"NoFunc\",\"Func\",\"Spring\",\"Autumn\",\"Summer\",\"Winter\",\"Sunday\",\"Monday\",\"Tuesday\",\"Wednesday\",\"Thursday\",\"Friday\",\"Saturday\"]\n",
        "x = datafs[fitur]\n",
        "y = datafs['Count']\n",
        "\n",
        "bagreg = BaggingRegressor()\n",
        "x_train, x_test, y_train, y_test = train_test_split(x, y, train_size=0.9, random_state=42)\n",
        "bagreg.fit(x_train, y_train)\n",
        "bagreg.score(x_test, y_test)*100"
      ]
    },
    {
      "cell_type": "markdown",
      "metadata": {
        "id": "Ot637C4lENt_"
      },
      "source": [
        "**TEST**"
      ]
    },
    {
      "cell_type": "code",
      "execution_count": null,
      "metadata": {
        "colab": {
          "base_uri": "https://localhost:8080/"
        },
        "id": "gk2sAgBFENuA",
        "outputId": "5ec65601-bb20-4a23-a27d-ab4f418bcfee"
      },
      "outputs": [
        {
          "name": "stdout",
          "output_type": "stream",
          "text": [
            "R Squared Score - Test: 0.8846851556345567\n",
            "Root Mean Squared Error - Test: 1.9286650456850947\n",
            "Mean Absolute Error - Test: 8.795662100456623\n",
            "Mean Squared Error - Test: 3.7197488584474887\n",
            "Coefficient of Variation - Test: 175.85500000000002\n"
          ]
        }
      ],
      "source": [
        "from sklearn import metrics\n",
        "from sklearn.metrics import r2_score\n",
        "import math\n",
        "\n",
        "x_train, x_test, y_train, y_test = train_test_split(x, y, train_size=0.8, random_state=42)\n",
        "Actual = y_test.values.flatten()\n",
        "predict = bagreg.predict(x_test)\n",
        "\n",
        "r2score = r2_score(Actual, predict)\n",
        "print('R Squared Score - Test:', r2score)\n",
        "print('Root Mean Squared Error - Test:', np.sqrt(metrics.mean_squared_error(y_test, predict)*100))\n",
        "print('Mean Absolute Error - Test:', metrics.mean_absolute_error(y_test, predict)*100)  \n",
        "print('Mean Squared Error - Test:', metrics.mean_squared_error(y_test, predict)*100)  \n",
        "\n",
        "\n",
        "def mean(arr, n):\n",
        "    sum = 0\n",
        "     \n",
        "    for i in range(0, n):\n",
        "        sum = sum + arr[i]\n",
        "    return (sum / n)\n",
        " \n",
        "\n",
        "def standardDeviation(arr, n):\n",
        "    sum = 0\n",
        "     \n",
        "    for i in range(0, n):\n",
        "        sum = (sum + (arr[i] - mean(arr, n)) *\n",
        "                      (arr[i] - mean(arr, n)))\n",
        " \n",
        "    return math.sqrt(sum / (n - 1))\n",
        " \n",
        " \n",
        "\n",
        "def coefficientOfVariation(arr, n):\n",
        "    return (standardDeviation(arr, n) /\n",
        "                          mean(arr, n))\n",
        " \n",
        " \n",
        "\n",
        "arr = Actual\n",
        "n = len(arr)\n",
        " \n",
        "print('Coefficient of Variation - Test:', round(coefficientOfVariation (arr, n), 5) * 100)"
      ]
    },
    {
      "cell_type": "markdown",
      "metadata": {
        "id": "znc0UNdnENuA"
      },
      "source": [
        "**TRAIN**"
      ]
    },
    {
      "cell_type": "code",
      "execution_count": null,
      "metadata": {
        "colab": {
          "base_uri": "https://localhost:8080/"
        },
        "id": "3dfrkaHFENuB",
        "outputId": "aad0f511-35ec-435e-9093-bc3063ba1280"
      },
      "outputs": [
        {
          "name": "stdout",
          "output_type": "stream",
          "text": [
            "R Squared Score - Test: 0.9585793414496893\n",
            "Root Mean Squared Error - Test: 1.1770372409854613\n",
            "Mean Absolute Error - Test: 33.01255707762557\n",
            "Mean Squared Error - Test: 1.3854166666666667\n",
            "Coefficient of Variation - Test: 173.36499999999998\n"
          ]
        }
      ],
      "source": [
        "Actual = y_train.values.flatten()\n",
        "predict = bagreg.predict(x_train)\n",
        "\n",
        "r2score = r2_score(Actual, predict)\n",
        "print('R Squared Score - Test:', r2score)\n",
        "print('Root Mean Squared Error - Test:', np.sqrt(metrics.mean_squared_error(y_train, predict)*100))\n",
        "print('Mean Absolute Error - Test:', metrics.mean_absolute_error(y_train, predict*100))  \n",
        "print('Mean Squared Error - Test:', metrics.mean_squared_error(y_train, predict)*100)  \n",
        "\n",
        "\n",
        "def mean(arr, n):\n",
        "    sum = 0\n",
        "     \n",
        "    for i in range(0, n):\n",
        "        sum = sum + arr[i]\n",
        "    return (sum / n)\n",
        " \n",
        "\n",
        "def standardDeviation(arr, n):\n",
        "    sum = 0\n",
        "     \n",
        "    for i in range(0, n):\n",
        "        sum = (sum + (arr[i] - mean(arr, n)) *\n",
        "                      (arr[i] - mean(arr, n)))\n",
        " \n",
        "    return math.sqrt(sum / (n - 1))\n",
        " \n",
        " \n",
        "\n",
        "def coefficientOfVariation(arr, n):\n",
        "    return (standardDeviation(arr, n) /\n",
        "                          mean(arr, n))\n",
        " \n",
        " \n",
        "\n",
        "arr = Actual\n",
        "n = len(arr)\n",
        " \n",
        "print('Coefficient of Variation - Test:', round(coefficientOfVariation (arr, n), 5) * 100)"
      ]
    },
    {
      "cell_type": "markdown",
      "metadata": {
        "id": "9NszU9vhExpS"
      },
      "source": [
        "**Ini yang no Weather**"
      ]
    },
    {
      "cell_type": "code",
      "execution_count": null,
      "metadata": {
        "colab": {
          "base_uri": "https://localhost:8080/"
        },
        "id": "qmhcBprWExpT",
        "outputId": "a7ace36b-615c-40ba-fb40-0093226c887a"
      },
      "outputs": [
        {
          "data": {
            "text/plain": [
              "80.93222192761502"
            ]
          },
          "execution_count": 113,
          "metadata": {
            "tags": []
          },
          "output_type": "execute_result"
        }
      ],
      "source": [
        "itur = [\"Temperature\",\"Hour\", \"Humidity\", \"Wind speed \",\"Visibility \", \"Dew point temperature\", \"Solar Radiation \", \"Holiday\", \"NoFunc\",\"Func\",\"Spring\",\"Autumn\",\"Summer\",\"Winter\",\"Sunday\",\"Monday\",\"Tuesday\",\"Wednesday\",\"Thursday\",\"Friday\",\"Saturday\"]\n",
        "x = datafs[fitur]\n",
        "y = datafs['Count']\n",
        "\n",
        "bagreg = BaggingRegressor()\n",
        "x_train, x_test, y_train, y_test = train_test_split(x, y, train_size=0.9, random_state=42)\n",
        "bagreg.fit(x_train, y_train)\n",
        "bagreg.score(x_test, y_test)*100"
      ]
    },
    {
      "cell_type": "markdown",
      "metadata": {
        "id": "fHyp2lKuExpV"
      },
      "source": [
        "**TEST**"
      ]
    },
    {
      "cell_type": "code",
      "execution_count": null,
      "metadata": {
        "colab": {
          "base_uri": "https://localhost:8080/"
        },
        "id": "3mrAiqY_ExpV",
        "outputId": "7d3d7fad-8aba-42c6-92a9-b673fcd9629c"
      },
      "outputs": [
        {
          "name": "stdout",
          "output_type": "stream",
          "text": [
            "R Squared Score - Test: 0.8093222192761501\n",
            "Root Mean Squared Error - Test: 2.449023661579685\n",
            "Mean Absolute Error - Test: 11.232876712328768\n",
            "Mean Squared Error - Test: 5.997716894977168\n",
            "Coefficient of Variation - Test: 180.728\n"
          ]
        }
      ],
      "source": [
        "from sklearn import metrics\n",
        "from sklearn.metrics import r2_score\n",
        "import math\n",
        "\n",
        "Actual = y_test.values.flatten()\n",
        "predict = bagreg.predict(x_test)\n",
        "\n",
        "r2score = r2_score(Actual, predict)\n",
        "print('R Squared Score - Test:', r2score)\n",
        "print('Root Mean Squared Error - Test:', np.sqrt(metrics.mean_squared_error(y_test, predict)*100))\n",
        "print('Mean Absolute Error - Test:', metrics.mean_absolute_error(y_test, predict)*100)  \n",
        "print('Mean Squared Error - Test:', metrics.mean_squared_error(y_test, predict)*100)  \n",
        "\n",
        "\n",
        "def mean(arr, n):\n",
        "    sum = 0\n",
        "     \n",
        "    for i in range(0, n):\n",
        "        sum = sum + arr[i]\n",
        "    return (sum / n)\n",
        " \n",
        "\n",
        "def standardDeviation(arr, n):\n",
        "    sum = 0\n",
        "     \n",
        "    for i in range(0, n):\n",
        "        sum = (sum + (arr[i] - mean(arr, n)) *\n",
        "                      (arr[i] - mean(arr, n)))\n",
        " \n",
        "    return math.sqrt(sum / (n - 1))\n",
        " \n",
        " \n",
        "\n",
        "def coefficientOfVariation(arr, n):\n",
        "    return (standardDeviation(arr, n) /\n",
        "                          mean(arr, n))\n",
        " \n",
        " \n",
        "\n",
        "arr = Actual\n",
        "n = len(arr)\n",
        " \n",
        "print('Coefficient of Variation - Test:', round(coefficientOfVariation (arr, n), 5) * 100)"
      ]
    },
    {
      "cell_type": "markdown",
      "metadata": {
        "id": "ty7FE--IExpX"
      },
      "source": [
        "**TRAIN**"
      ]
    },
    {
      "cell_type": "code",
      "execution_count": null,
      "metadata": {
        "colab": {
          "base_uri": "https://localhost:8080/"
        },
        "id": "BmLLY7z8ExpX",
        "outputId": "b17b632a-d3af-4e77-d353-b82f26f94e96"
      },
      "outputs": [
        {
          "name": "stdout",
          "output_type": "stream",
          "text": [
            "R Squared Score - Test: 0.9607189570691151\n",
            "Root Mean Squared Error - Test: 1.145436315610887\n",
            "Mean Absolute Error - Test: 33.22526636225266\n",
            "Mean Squared Error - Test: 1.3120243531202436\n",
            "Coefficient of Variation - Test: 173.128\n"
          ]
        }
      ],
      "source": [
        "Actual = y_train.values.flatten()\n",
        "predict = bagreg.predict(x_train)\n",
        "\n",
        "r2score = r2_score(Actual, predict)\n",
        "print('R Squared Score - Test:', r2score)\n",
        "print('Root Mean Squared Error - Test:', np.sqrt(metrics.mean_squared_error(y_train, predict)*100))\n",
        "print('Mean Absolute Error - Test:', metrics.mean_absolute_error(y_train, predict*100))  \n",
        "print('Mean Squared Error - Test:', metrics.mean_squared_error(y_train, predict)*100)  \n",
        "\n",
        "\n",
        "def mean(arr, n):\n",
        "    sum = 0\n",
        "     \n",
        "    for i in range(0, n):\n",
        "        sum = sum + arr[i]\n",
        "    return (sum / n)\n",
        " \n",
        "\n",
        "def standardDeviation(arr, n):\n",
        "    sum = 0\n",
        "     \n",
        "    for i in range(0, n):\n",
        "        sum = (sum + (arr[i] - mean(arr, n)) *\n",
        "                      (arr[i] - mean(arr, n)))\n",
        " \n",
        "    return math.sqrt(sum / (n - 1))\n",
        " \n",
        " \n",
        "\n",
        "def coefficientOfVariation(arr, n):\n",
        "    return (standardDeviation(arr, n) /\n",
        "                          mean(arr, n))\n",
        " \n",
        " \n",
        "\n",
        "arr = Actual\n",
        "n = len(arr)\n",
        " \n",
        "print('Coefficient of Variation - Test:', round(coefficientOfVariation (arr, n), 5) * 100)"
      ]
    },
    {
      "cell_type": "markdown",
      "metadata": {
        "id": "BEOEpWuIFvts"
      },
      "source": [
        "**Ini yang no Categorical Var**"
      ]
    },
    {
      "cell_type": "code",
      "execution_count": null,
      "metadata": {
        "colab": {
          "base_uri": "https://localhost:8080/"
        },
        "id": "0NkpGulDFvtt",
        "outputId": "93899bab-d56c-46dc-cbd0-611d1a26589a"
      },
      "outputs": [
        {
          "data": {
            "text/plain": [
              "73.06050311547129"
            ]
          },
          "execution_count": 118,
          "metadata": {
            "tags": []
          },
          "output_type": "execute_result"
        }
      ],
      "source": [
        "fitur = [\"Temperature\",\"Hour\", \"Humidity\", \"Wind speed \",\"Visibility \", \"Dew point temperature\", \"Solar Radiation \",\"Snowfall\",\"Rainfall\"]\n",
        "x = datafs[fitur]\n",
        "y = datafs['Count']\n",
        "\n",
        "bagreg = BaggingRegressor()\n",
        "x_train, x_test, y_train, y_test = train_test_split(x, y, train_size=0.9, random_state=42)\n",
        "bagreg.fit(x_train, y_train)\n",
        "bagreg.score(x_test, y_test)*100"
      ]
    },
    {
      "cell_type": "markdown",
      "metadata": {
        "id": "ZEEMmft5Fvtu"
      },
      "source": [
        "**TEST**"
      ]
    },
    {
      "cell_type": "code",
      "execution_count": null,
      "metadata": {
        "colab": {
          "base_uri": "https://localhost:8080/"
        },
        "id": "kiFqjP5oFvtv",
        "outputId": "271534d6-cceb-4ce8-c92e-1068f26a8332"
      },
      "outputs": [
        {
          "name": "stdout",
          "output_type": "stream",
          "text": [
            "R Squared Score - Test: 0.730605031154713\n",
            "Root Mean Squared Error - Test: 2.9109696481133986\n",
            "Mean Absolute Error - Test: 14.760273972602741\n",
            "Mean Squared Error - Test: 8.473744292237443\n",
            "Coefficient of Variation - Test: 180.728\n"
          ]
        }
      ],
      "source": [
        "from sklearn import metrics\n",
        "from sklearn.metrics import r2_score\n",
        "import math\n",
        "\n",
        "Actual = y_test.values.flatten()\n",
        "predict = bagreg.predict(x_test)\n",
        "\n",
        "r2score = r2_score(Actual, predict)\n",
        "print('R Squared Score - Test:', r2score)\n",
        "print('Root Mean Squared Error - Test:', np.sqrt(metrics.mean_squared_error(y_test, predict)*100))\n",
        "print('Mean Absolute Error - Test:', metrics.mean_absolute_error(y_test, predict)*100)  \n",
        "print('Mean Squared Error - Test:', metrics.mean_squared_error(y_test, predict)*100)  \n",
        "\n",
        "\n",
        "def mean(arr, n):\n",
        "    sum = 0\n",
        "     \n",
        "    for i in range(0, n):\n",
        "        sum = sum + arr[i]\n",
        "    return (sum / n)\n",
        " \n",
        "\n",
        "def standardDeviation(arr, n):\n",
        "    sum = 0\n",
        "     \n",
        "    for i in range(0, n):\n",
        "        sum = (sum + (arr[i] - mean(arr, n)) *\n",
        "                      (arr[i] - mean(arr, n)))\n",
        " \n",
        "    return math.sqrt(sum / (n - 1))\n",
        " \n",
        " \n",
        "\n",
        "def coefficientOfVariation(arr, n):\n",
        "    return (standardDeviation(arr, n) /\n",
        "                          mean(arr, n))\n",
        " \n",
        " \n",
        "\n",
        "arr = Actual\n",
        "n = len(arr)\n",
        " \n",
        "print('Coefficient of Variation - Test:', round(coefficientOfVariation (arr, n), 5) * 100)"
      ]
    },
    {
      "cell_type": "markdown",
      "metadata": {
        "id": "yFXlB622Fvtv"
      },
      "source": [
        "**TRAIN**"
      ]
    },
    {
      "cell_type": "code",
      "execution_count": null,
      "metadata": {
        "colab": {
          "base_uri": "https://localhost:8080/"
        },
        "id": "hrlLEPYWFvtv",
        "outputId": "19e7e467-0832-42a2-f74a-0afd0b19635e"
      },
      "outputs": [
        {
          "name": "stdout",
          "output_type": "stream",
          "text": [
            "R Squared Score - Test: 0.9362822293757427\n",
            "Root Mean Squared Error - Test: 1.4588469415200294\n",
            "Mean Absolute Error - Test: 33.21892440385591\n",
            "Mean Squared Error - Test: 2.128234398782344\n",
            "Coefficient of Variation - Test: 173.128\n"
          ]
        }
      ],
      "source": [
        "Actual = y_train.values.flatten()\n",
        "predict = bagreg.predict(x_train)\n",
        "\n",
        "r2score = r2_score(Actual, predict)\n",
        "print('R Squared Score - Test:', r2score)\n",
        "print('Root Mean Squared Error - Test:', np.sqrt(metrics.mean_squared_error(y_train, predict)*100))\n",
        "print('Mean Absolute Error - Test:', metrics.mean_absolute_error(y_train, predict*100))  \n",
        "print('Mean Squared Error - Test:', metrics.mean_squared_error(y_train, predict)*100)  \n",
        "\n",
        "\n",
        "def mean(arr, n):\n",
        "    sum = 0\n",
        "     \n",
        "    for i in range(0, n):\n",
        "        sum = sum + arr[i]\n",
        "    return (sum / n)\n",
        " \n",
        "\n",
        "def standardDeviation(arr, n):\n",
        "    sum = 0\n",
        "     \n",
        "    for i in range(0, n):\n",
        "        sum = (sum + (arr[i] - mean(arr, n)) *\n",
        "                      (arr[i] - mean(arr, n)))\n",
        " \n",
        "    return math.sqrt(sum / (n - 1))\n",
        " \n",
        " \n",
        "\n",
        "def coefficientOfVariation(arr, n):\n",
        "    return (standardDeviation(arr, n) /\n",
        "                          mean(arr, n))\n",
        " \n",
        " \n",
        "\n",
        "arr = Actual\n",
        "n = len(arr)\n",
        " \n",
        "print('Coefficient of Variation - Test:', round(coefficientOfVariation (arr, n), 5) * 100)"
      ]
    },
    {
      "cell_type": "markdown",
      "metadata": {
        "id": "iXcftkJ1G54c"
      },
      "source": [
        "**Ini yang no Snow, Friday, Wednesday, Tuesday, Thursday**"
      ]
    },
    {
      "cell_type": "code",
      "execution_count": null,
      "metadata": {
        "colab": {
          "base_uri": "https://localhost:8080/"
        },
        "id": "uD5N5YK-G54d",
        "outputId": "352f976d-a24c-4d65-aefe-10b3be956a75"
      },
      "outputs": [
        {
          "data": {
            "text/plain": [
              "79.19746785098768"
            ]
          },
          "execution_count": 121,
          "metadata": {
            "tags": []
          },
          "output_type": "execute_result"
        }
      ],
      "source": [
        "fitur = [\"Hour\", \"Temperature\", \"Humidity\", \"Wind speed \",\"Visibility \", \"Dew point temperature\", \"Solar Radiation \",\"Rainfall\", \"Holiday\", \"NoFunc\",\"Func\",\"Spring\",\"Autumn\",\"Summer\",\"Winter\",\"Sunday\",\"Monday\",\"Saturday\"]\n",
        "x = datafs[fitur]\n",
        "y = datafs['Count']\n",
        "\n",
        "bagreg = BaggingRegressor()\n",
        "x_train, x_test, y_train, y_test = train_test_split(x, y, train_size=0.9, random_state=42)\n",
        "bagreg.fit(x_train, y_train)\n",
        "bagreg.score(x_test, y_test)*100"
      ]
    },
    {
      "cell_type": "markdown",
      "metadata": {
        "id": "ZdCJCKC6G54e"
      },
      "source": [
        "**TEST**"
      ]
    },
    {
      "cell_type": "code",
      "execution_count": null,
      "metadata": {
        "colab": {
          "base_uri": "https://localhost:8080/"
        },
        "id": "iuU7yOrNG54e",
        "outputId": "120ce407-d7a6-4a14-df44-3b09d96fe49e"
      },
      "outputs": [
        {
          "name": "stdout",
          "output_type": "stream",
          "text": [
            "R Squared Score - Test: 0.8773242571757529\n",
            "Root Mean Squared Error - Test: 1.9892691574600752\n",
            "Mean Absolute Error - Test: 8.293378995433791\n",
            "Mean Squared Error - Test: 3.9571917808219177\n",
            "Coefficient of Variation - Test: 175.85500000000002\n"
          ]
        }
      ],
      "source": [
        "from sklearn import metrics\n",
        "from sklearn.metrics import r2_score\n",
        "import math\n",
        "\n",
        "x_train, x_test, y_train, y_test = train_test_split(x, y, train_size=0.8, random_state=42)\n",
        "Actual = y_test.values.flatten()\n",
        "predict = bagreg.predict(x_test)\n",
        "\n",
        "r2score = r2_score(Actual, predict)\n",
        "print('R Squared Score - Test:', r2score)\n",
        "print('Root Mean Squared Error - Test:', np.sqrt(metrics.mean_squared_error(y_test, predict)*100))\n",
        "print('Mean Absolute Error - Test:', metrics.mean_absolute_error(y_test, predict)*100)  \n",
        "print('Mean Squared Error - Test:', metrics.mean_squared_error(y_test, predict)*100)  \n",
        "\n",
        "\n",
        "def mean(arr, n):\n",
        "    sum = 0\n",
        "     \n",
        "    for i in range(0, n):\n",
        "        sum = sum + arr[i]\n",
        "    return (sum / n)\n",
        " \n",
        "\n",
        "def standardDeviation(arr, n):\n",
        "    sum = 0\n",
        "     \n",
        "    for i in range(0, n):\n",
        "        sum = (sum + (arr[i] - mean(arr, n)) *\n",
        "                      (arr[i] - mean(arr, n)))\n",
        " \n",
        "    return math.sqrt(sum / (n - 1))\n",
        " \n",
        " \n",
        "\n",
        "def coefficientOfVariation(arr, n):\n",
        "    return (standardDeviation(arr, n) /\n",
        "                          mean(arr, n))\n",
        " \n",
        " \n",
        "\n",
        "arr = Actual\n",
        "n = len(arr)\n",
        " \n",
        "print('Coefficient of Variation - Test:', round(coefficientOfVariation (arr, n), 5) * 100)"
      ]
    },
    {
      "cell_type": "markdown",
      "metadata": {
        "id": "t7gHWsTcG54f"
      },
      "source": [
        "**TRAIN**"
      ]
    },
    {
      "cell_type": "code",
      "execution_count": null,
      "metadata": {
        "colab": {
          "base_uri": "https://localhost:8080/"
        },
        "id": "eRg4cJMkG54f",
        "outputId": "d97eef49-6d40-48e0-eb7c-0b757e4f69b2"
      },
      "outputs": [
        {
          "name": "stdout",
          "output_type": "stream",
          "text": [
            "R Squared Score - Test: 0.9622696153858329\n",
            "Root Mean Squared Error - Test: 1.1233816365642901\n",
            "Mean Absolute Error - Test: 33.31934931506849\n",
            "Mean Squared Error - Test: 1.261986301369863\n",
            "Coefficient of Variation - Test: 173.36499999999998\n"
          ]
        }
      ],
      "source": [
        "Actual = y_train.values.flatten()\n",
        "predict = bagreg.predict(x_train)\n",
        "\n",
        "r2score = r2_score(Actual, predict)\n",
        "print('R Squared Score - Test:', r2score)\n",
        "print('Root Mean Squared Error - Test:', np.sqrt(metrics.mean_squared_error(y_train, predict)*100))\n",
        "print('Mean Absolute Error - Test:', metrics.mean_absolute_error(y_train, predict*100))  \n",
        "print('Mean Squared Error - Test:', metrics.mean_squared_error(y_train, predict)*100)  \n",
        "\n",
        "\n",
        "def mean(arr, n):\n",
        "    sum = 0\n",
        "     \n",
        "    for i in range(0, n):\n",
        "        sum = sum + arr[i]\n",
        "    return (sum / n)\n",
        " \n",
        "\n",
        "def standardDeviation(arr, n):\n",
        "    sum = 0\n",
        "     \n",
        "    for i in range(0, n):\n",
        "        sum = (sum + (arr[i] - mean(arr, n)) *\n",
        "                      (arr[i] - mean(arr, n)))\n",
        " \n",
        "    return math.sqrt(sum / (n - 1))\n",
        " \n",
        " \n",
        "\n",
        "def coefficientOfVariation(arr, n):\n",
        "    return (standardDeviation(arr, n) /\n",
        "                          mean(arr, n))\n",
        " \n",
        " \n",
        "\n",
        "arr = Actual\n",
        "n = len(arr)\n",
        " \n",
        "print('Coefficient of Variation - Test:', round(coefficientOfVariation (arr, n), 5) * 100)"
      ]
    },
    {
      "cell_type": "markdown",
      "metadata": {
        "id": "tgGfp-yHZDCl"
      },
      "source": [
        "# **Feature Selection**"
      ]
    },
    {
      "cell_type": "markdown",
      "metadata": {
        "id": "XFvIhgh8SFqQ"
      },
      "source": [
        "**Feature Selection Menggunakan Mutual Information**"
      ]
    },
    {
      "cell_type": "code",
      "execution_count": null,
      "metadata": {
        "id": "LYfB9z_yeZ7U"
      },
      "outputs": [],
      "source": [
        "def select_features(x_train, y_train, x_test):\n",
        "# configuration to be able to get all the feature\n",
        "  fs = SelectKBest(score_func=mutual_info_classif, k='all')\n",
        "  \n",
        "  fs.fit(x_train, y_train)\n",
        "# transform train input data\n",
        "  x_train_fs = fs.transform(x_train)\n",
        "# transform test input data\n",
        "  x_test_fs = fs.transform(x_test)\n",
        "  return x_train_fs, x_test_fs, fs"
      ]
    },
    {
      "cell_type": "code",
      "execution_count": null,
      "metadata": {
        "id": "eIio2-VsoUAo"
      },
      "outputs": [],
      "source": [
        "def load_dataset(filename):\n",
        "\t# load the dataset as a pandas DataFrame\n",
        "\tdata = datafs\n",
        "\t# retrieve numpy array\n",
        "\tdataset = data.values\n",
        "\t# split into input (X) and output (y) variables\n",
        "\tx = dataset[:, :-1]\n",
        "\ty = dataset[:,-1]\n",
        "\treturn x, y"
      ]
    },
    {
      "cell_type": "markdown",
      "metadata": {
        "id": "78gbmGaZB1Ml"
      },
      "source": [
        "**Ini yang semua fitur**"
      ]
    },
    {
      "cell_type": "code",
      "execution_count": null,
      "metadata": {
        "colab": {
          "base_uri": "https://localhost:8080/",
          "height": 651
        },
        "id": "RazUR40PQi5X",
        "outputId": "1ba8d6ac-e625-477d-8a4c-72f6143b0d5b"
      },
      "outputs": [
        {
          "name": "stdout",
          "output_type": "stream",
          "text": [
            "Feature 0: 0.181555\n",
            "Feature 1: 0.145783\n",
            "Feature 2: 0.040796\n",
            "Feature 3: 0.028165\n",
            "Feature 4: 0.034955\n",
            "Feature 5: 0.088571\n",
            "Feature 6: 0.059040\n",
            "Feature 7: 0.032768\n",
            "Feature 8: 0.023943\n",
            "Feature 9: 0.005460\n",
            "Feature 10: 0.000000\n",
            "Feature 11: 0.021028\n",
            "Feature 12: 0.008078\n",
            "Feature 13: 0.008893\n",
            "Feature 14: 0.018380\n",
            "Feature 15: 0.091922\n",
            "Feature 16: 0.003857\n",
            "Feature 17: 0.000000\n",
            "Feature 18: 0.019150\n",
            "Feature 19: 0.003823\n",
            "Feature 20: 0.015306\n",
            "Feature 21: 0.000000\n",
            "Feature 22: 0.005614\n"
          ]
        },
        {
          "data": {
            "image/png": "[encoded data removed]",
            "text/plain": [
              "<Figure size 432x288 with 1 Axes>"
            ]
          },
          "metadata": {
            "needs_background": "light",
            "tags": []
          },
          "output_type": "display_data"
        }
      ],
      "source": [
        "#setting the feature\n",
        "fitur = [\"Hour\", \"Temperature\", \"Humidity\", \"Wind speed \",\"Visibility \", \"Dew point temperature\", \"Solar Radiation \",\"Snowfall\",\"Rainfall\", \"Holiday\", \"NoFunc\",\"Func\",\"Spring\",\"Autumn\",\"Summer\",\"Winter\",\"Sunday\",\"Monday\",\"Tuesday\",\"Wednesday\",\"Thursday\",\"Friday\",\"Saturday\"]\n",
        "\n",
        "x = datafs[fitur]\n",
        "y = datafs['Count'] #decision attribute\n",
        "# splitting\n",
        "x_train, x_test, y_train, y_test = train_test_split(x, y, test_size=0.75, random_state=1)\n",
        "# feature selection\n",
        "x_train_fs, x_test_fs, fs = select_features(x_train, y_train, x_test)\n",
        "# showing the score\n",
        "for i in range(len(fs.scores_)):\n",
        "\tprint('Feature %d: %f' % (i, fs.scores_[i]))\n",
        "# visualization\n",
        "pyplot.bar([i for i in range(len(fs.scores_))], fs.scores_)\n",
        "pyplot.show()"
      ]
    },
    {
      "cell_type": "markdown",
      "metadata": {
        "id": "ZO262TCJB4dj"
      },
      "source": [
        "Ini yang no Temp"
      ]
    },
    {
      "cell_type": "code",
      "execution_count": null,
      "metadata": {
        "id": "W6al8xC_B8M8"
      },
      "outputs": [],
      "source": [
        "#feature selection\n",
        "fitur = [\"Hour\", \"Humidity\", \"Wind speed \",\"Visibility \", \"Dew point temperature\", \"Solar Radiation \",\"Snowfall\",\"Rainfall\", \"Holiday\", \"NoFunc\",\"Func\",\"Spring\",\"Autumn\",\"Summer\",\"Winter\",\"Sunday\",\"Monday\",\"Tuesday\",\"Wednesday\",\"Thursday\",\"Friday\",\"Saturday\"]\n",
        "\n",
        "x = datafs[fitur]\n",
        "y = datafs['Count'] #decision attribute\n",
        "# splitting the test and train\n",
        "x_train, x_test, y_train, y_test = train_test_split(x, y, test_size=0.75, random_state=1)\n",
        "# feature selection\n",
        "x_train_fs, x_test_fs, fs = select_features(x_train, y_train, x_test)\n",
        "# showing up the score\n",
        "for i in range(len(fs.scores_)):\n",
        "\tprint('Feature %d: %f' % (i, fs.scores_[i]))\n",
        "# visualization\n",
        "pyplot.bar([i for i in range(len(fs.scores_))], fs.scores_)\n",
        "pyplot.show()"
      ]
    },
    {
      "cell_type": "markdown",
      "metadata": {
        "id": "876qzoc4B-Bb"
      },
      "source": [
        "**Ini yang no Weather**"
      ]
    },
    {
      "cell_type": "code",
      "execution_count": null,
      "metadata": {
        "id": "Xy6Qr9duCAyf"
      },
      "outputs": [],
      "source": [
        "#feature selection\n",
        "fitur = [\"Temperature\",\"Hour\", \"Humidity\", \"Wind speed \",\"Visibility \", \"Dew point temperature\", \"Solar Radiation \", \"Holiday\", \"NoFunc\",\"Func\",\"Spring\",\"Autumn\",\"Summer\",\"Winter\",\"Sunday\",\"Monday\",\"Tuesday\",\"Wednesday\",\"Thursday\",\"Friday\",\"Saturday\"]\n",
        "\n",
        "x = datafs[fitur]\n",
        "y = datafs['Count'] #decision attribute\n",
        "# splitting the test and train\n",
        "x_train, x_test, y_train, y_test = train_test_split(x, y, test_size=0.75, random_state=1)\n",
        "# feature selection\n",
        "x_train_fs, x_test_fs, fs = select_features(x_train, y_train, x_test)\n",
        "# showing up the score\n",
        "for i in range(len(fs.scores_)):\n",
        "\tprint('Feature %d: %f' % (i, fs.scores_[i]))\n",
        "# visualization\n",
        "pyplot.bar([i for i in range(len(fs.scores_))], fs.scores_)\n",
        "pyplot.show()"
      ]
    },
    {
      "cell_type": "markdown",
      "metadata": {
        "id": "98uBMfWmCQSp"
      },
      "source": [
        "**Ini yang no Categorical Var**"
      ]
    },
    {
      "cell_type": "code",
      "execution_count": null,
      "metadata": {
        "id": "pflJXIorCP5W"
      },
      "outputs": [],
      "source": [
        "#feature selection\n",
        "fitur = [\"Temperature\",\"Hour\", \"Humidity\", \"Wind speed \",\"Visibility \", \"Dew point temperature\", \"Solar Radiation \",\"Snowfall\",\"Rainfall\"]\n",
        "\n",
        "x = datafs[fitur]\n",
        "y = datafs['Count'] #decision attribute\n",
        "# splitting the test and train\n",
        "x_train, x_test, y_train, y_test = train_test_split(x, y, test_size=0.75, random_state=1)\n",
        "# feature selection\n",
        "x_train_fs, x_test_fs, fs = select_features(x_train, y_train, x_test)\n",
        "# showing up the score\n",
        "for i in range(len(fs.scores_)):\n",
        "\tprint('Feature %d: %f' % (i, fs.scores_[i]))\n",
        "# visualization\n",
        "pyplot.bar([i for i in range(len(fs.scores_))], fs.scores_)\n",
        "pyplot.show()"
      ]
    },
    {
      "cell_type": "markdown",
      "metadata": {
        "id": "qLA91MSlC3O_"
      },
      "source": [
        "**Ini yang no Snow, Friday, Wednesday, Tuesday, Thursday**"
      ]
    },
    {
      "cell_type": "code",
      "execution_count": null,
      "metadata": {
        "colab": {
          "base_uri": "https://localhost:8080/",
          "height": 592
        },
        "id": "3uJEK50uC-1G",
        "outputId": "c0fbbbf5-dd6b-4488-b2c6-fe468c93205c"
      },
      "outputs": [
        {
          "name": "stdout",
          "output_type": "stream",
          "text": [
            "Feature 0: 0.167798\n",
            "Feature 1: 0.151164\n",
            "Feature 2: 0.033688\n",
            "Feature 3: 0.017765\n",
            "Feature 4: 0.033835\n",
            "Feature 5: 0.084139\n",
            "Feature 6: 0.058813\n",
            "Feature 7: 0.026827\n",
            "Feature 8: 0.017715\n",
            "Feature 9: 0.018593\n",
            "Feature 10: 0.011867\n",
            "Feature 11: 0.013683\n",
            "Feature 12: 0.005506\n",
            "Feature 13: 0.015886\n",
            "Feature 14: 0.101150\n",
            "Feature 15: 0.009345\n",
            "Feature 16: 0.000000\n",
            "Feature 17: 0.000000\n"
          ]
        },
        {
          "data": {
            "image/png": "[encoded data removed]",
            "text/plain": [
              "<Figure size 432x288 with 1 Axes>"
            ]
          },
          "metadata": {
            "needs_background": "light",
            "tags": []
          },
          "output_type": "display_data"
        }
      ],
      "source": [
        "#feature selection\n",
        "fitur = [\"Hour\", \"Temperature\", \"Humidity\", \"Wind speed \",\"Visibility \", \"Dew point temperature\", \"Solar Radiation \",\"Rainfall\", \"Holiday\", \"NoFunc\",\"Func\",\"Spring\",\"Autumn\",\"Summer\",\"Winter\",\"Sunday\",\"Monday\",\"Saturday\"]\n",
        "x = datafs[fitur]\n",
        "y = datafs['Count'] #decision attribute\n",
        "# splitting the test and train\n",
        "x_train, x_test, y_train, y_test = train_test_split(x, y, test_size=0.75, random_state=1)\n",
        "# feature selection\n",
        "x_train_fs, x_test_fs, fs = select_features(x_train, y_train, x_test)\n",
        "# showing up the score\n",
        "for i in range(len(fs.scores_)):\n",
        "\tprint('Feature %d: %f' % (i, fs.scores_[i]))\n",
        "# visualization\n",
        "pyplot.bar([i for i in range(len(fs.scores_))], fs.scores_)\n",
        "pyplot.show()"
      ]
    }
  ],
  "metadata": {
    "colab": {
      "collapsed_sections": [
        "50AooviePuFw",
        "c_JEXJFF2c5l",
        "47GMQKS56U-M"
      ],
      "name": "FP AB.ipynb",
      "provenance": [],
      "toc_visible": true
    },
    "kernelspec": {
      "display_name": "Python 3",
      "name": "python3"
    },
    "language_info": {
      "name": "python"
    }
  },
  "nbformat": 4,
  "nbformat_minor": 0
}
